{
  "cells": [
    {
      "cell_type": "code",
      "execution_count": null,
      "metadata": {
        "id": "WKuh8-U5ckKt"
      },
      "outputs": [],
      "source": [
        "import tensorflow as tf\n",
        "import keras\n",
        "import pandas as pd\n",
        "import gensim\n",
        "import matplotlib.pyplot as plt\n",
        "import seaborn as sns\n",
        "import numpy as np\n",
        "from sklearn.model_selection import train_test_split\n",
        "from keras.models import Sequential\n",
        "from keras.layers import Dense, Conv1D, Flatten, MaxPooling1D, LSTM, Embedding, Input\n",
        "from sklearn.model_selection import train_test_split\n",
        "from sklearn.metrics import multilabel_confusion_matrix\n",
        "from numpy import unique\n",
        "from tensorflow.keras import layers\n",
        "from tensorflow.math import confusion_matrix"
      ]
    },
    {
      "cell_type": "code",
      "execution_count": null,
      "metadata": {
        "id": "aX2PAOklYIiZ"
      },
      "outputs": [],
      "source": [
        "# timer code\n",
        "    # import time\n",
        "    # tic = time.perf_counter()                                     add this in the beginning of the CNN\n",
        "    # toc = time.perf_counter()                                     add this at the end of the code\n",
        "    # print (f\"Finished running in {toc - tic: 0.2f} seconds\")      add after the toc command"
      ]
    },
    {
      "cell_type": "code",
      "execution_count": null,
      "metadata": {
        "colab": {
          "base_uri": "https://localhost:8080/"
        },
        "id": "z0ZrAQj3YIia",
        "outputId": "b0988d6b-3978-4295-b230-b8c944d62430"
      },
      "outputs": [
        {
          "output_type": "stream",
          "name": "stdout",
          "text": [
            "Num GPUs Available:  1\n",
            "[PhysicalDevice(name='/physical_device:GPU:0', device_type='GPU')]\n"
          ]
        }
      ],
      "source": [
        "print  (\"Num GPUs Available: \", len(tf.config.list_physical_devices('GPU')))\n",
        "print(tf.config.list_physical_devices('GPU'))"
      ]
    },
    {
      "cell_type": "code",
      "execution_count": null,
      "metadata": {
        "colab": {
          "base_uri": "https://localhost:8080/"
        },
        "id": "BOVOaz8LYIic",
        "outputId": "b6dc93aa-34b1-4e14-b6d2-b264c9800156"
      },
      "outputs": [
        {
          "output_type": "stream",
          "name": "stdout",
          "text": [
            "<function list_physical_devices at 0x7eff14293f80>\n"
          ]
        }
      ],
      "source": [
        "print(tf.config.list_physical_devices)"
      ]
    },
    {
      "cell_type": "code",
      "execution_count": null,
      "metadata": {
        "colab": {
          "base_uri": "https://localhost:8080/"
        },
        "id": "pPI0_hSGYIid",
        "outputId": "c62a62ce-15ac-486c-ee27-df7c90a0dd2a"
      },
      "outputs": [
        {
          "output_type": "stream",
          "name": "stdout",
          "text": [
            "[name: \"/device:CPU:0\"\n",
            "device_type: \"CPU\"\n",
            "memory_limit: 268435456\n",
            "locality {\n",
            "}\n",
            "incarnation: 12535334749814108718\n",
            "xla_global_id: -1\n",
            ", name: \"/device:GPU:0\"\n",
            "device_type: \"GPU\"\n",
            "memory_limit: 11320098816\n",
            "locality {\n",
            "  bus_id: 1\n",
            "  links {\n",
            "  }\n",
            "}\n",
            "incarnation: 11308943465677022098\n",
            "physical_device_desc: \"device: 0, name: Tesla K80, pci bus id: 0000:00:04.0, compute capability: 3.7\"\n",
            "xla_global_id: 416903419\n",
            "]\n"
          ]
        }
      ],
      "source": [
        "from tensorflow.python.client import device_lib \n",
        "print(device_lib.list_local_devices())"
      ]
    },
    {
      "cell_type": "code",
      "execution_count": null,
      "metadata": {
        "colab": {
          "base_uri": "https://localhost:8080/"
        },
        "id": "Y7_2IFuBzkqG",
        "outputId": "1b2913a9-e8b5-459d-a153-6ec5a75999d6"
      },
      "outputs": [
        {
          "output_type": "stream",
          "name": "stdout",
          "text": [
            "Drive already mounted at /content/drive; to attempt to forcibly remount, call drive.mount(\"/content/drive\", force_remount=True).\n"
          ]
        }
      ],
      "source": [
        "from google.colab import drive\n",
        "drive.mount('/content/drive')"
      ]
    },
    {
      "cell_type": "code",
      "execution_count": null,
      "metadata": {
        "colab": {
          "base_uri": "https://localhost:8080/",
          "height": 206
        },
        "id": "i5-WFQlfYIid",
        "outputId": "49ec5140-a9b8-4c92-9642-3f198955b3ec"
      },
      "outputs": [
        {
          "output_type": "execute_result",
          "data": {
            "text/html": [
              "<div>\n",
              "<style scoped>\n",
              "    .dataframe tbody tr th:only-of-type {\n",
              "        vertical-align: middle;\n",
              "    }\n",
              "\n",
              "    .dataframe tbody tr th {\n",
              "        vertical-align: top;\n",
              "    }\n",
              "\n",
              "    .dataframe thead th {\n",
              "        text-align: right;\n",
              "    }\n",
              "</style>\n",
              "<table border=\"1\" class=\"dataframe\">\n",
              "  <thead>\n",
              "    <tr style=\"text-align: right;\">\n",
              "      <th></th>\n",
              "      <th>rating</th>\n",
              "      <th>title</th>\n",
              "    </tr>\n",
              "  </thead>\n",
              "  <tbody>\n",
              "    <tr>\n",
              "      <th>0</th>\n",
              "      <td>0</td>\n",
              "      <td>The lie that coronavirus came from a bat or a ...</td>\n",
              "    </tr>\n",
              "    <tr>\n",
              "      <th>1</th>\n",
              "      <td>0</td>\n",
              "      <td>The health experts had predicted the virus cou...</td>\n",
              "    </tr>\n",
              "    <tr>\n",
              "      <th>2</th>\n",
              "      <td>0</td>\n",
              "      <td>The Centers for Disease Control and Prevention...</td>\n",
              "    </tr>\n",
              "    <tr>\n",
              "      <th>3</th>\n",
              "      <td>2</td>\n",
              "      <td>Warm weather will kill coronavirus. U.S. Presi...</td>\n",
              "    </tr>\n",
              "    <tr>\n",
              "      <th>4</th>\n",
              "      <td>0</td>\n",
              "      <td>Using a hair dryer to breathe in hot air can c...</td>\n",
              "    </tr>\n",
              "  </tbody>\n",
              "</table>\n",
              "</div>"
            ],
            "text/plain": [
              "   rating                                              title\n",
              "0       0  The lie that coronavirus came from a bat or a ...\n",
              "1       0  The health experts had predicted the virus cou...\n",
              "2       0  The Centers for Disease Control and Prevention...\n",
              "3       2  Warm weather will kill coronavirus. U.S. Presi...\n",
              "4       0  Using a hair dryer to breathe in hot air can c..."
            ]
          },
          "metadata": {},
          "execution_count": 67
        }
      ],
      "source": [
        "test = pd.read_csv(\"drive/MyDrive/updated_news.csv\", names = [\"rating\", \"title\"])\n",
        "\n",
        "\n",
        "test.head()"
      ]
    },
    {
      "cell_type": "code",
      "execution_count": null,
      "metadata": {
        "colab": {
          "base_uri": "https://localhost:8080/"
        },
        "id": "FYj5-zrzYIie",
        "outputId": "d19a8770-c75d-4880-9412-c240ec7e46e8"
      },
      "outputs": [
        {
          "output_type": "execute_result",
          "data": {
            "text/plain": [
              "0    3041\n",
              "1     659\n",
              "2     429\n",
              "Name: rating, dtype: int64"
            ]
          },
          "metadata": {},
          "execution_count": 68
        }
      ],
      "source": [
        "test['rating'].value_counts()"
      ]
    },
    {
      "cell_type": "code",
      "execution_count": null,
      "metadata": {
        "id": "elpM8s15YIif"
      },
      "outputs": [],
      "source": [
        "# conv1d kernel size = 128 x 5 \n",
        "# LSTM kernel size = 32"
      ]
    },
    {
      "cell_type": "code",
      "execution_count": null,
      "metadata": {
        "colab": {
          "base_uri": "https://localhost:8080/",
          "height": 405
        },
        "id": "BaDspxopYIig",
        "outputId": "c5c04344-6dab-420d-a3b9-dd61fab30f21"
      },
      "outputs": [
        {
          "output_type": "execute_result",
          "data": {
            "text/plain": [
              "<matplotlib.axes._subplots.AxesSubplot at 0x7efe3fbfe910>"
            ]
          },
          "metadata": {},
          "execution_count": 70
        },
        {
          "output_type": "display_data",
          "data": {
            "image/png": "[encoded data removed]",
            "text/plain": [
              "<Figure size 720x432 with 1 Axes>"
            ]
          },
          "metadata": {
            "needs_background": "light"
          }
        }
      ],
      "source": [
        "plt.figure(figsize=(10,6))\n",
        "sns.countplot(x='rating', data=test)"
      ]
    },
    {
      "cell_type": "code",
      "execution_count": null,
      "metadata": {
        "id": "d8iRJYawZg1z"
      },
      "outputs": [],
      "source": [
        "test['title'] = test['title'].apply(lambda x: str(x).lower())"
      ]
    },
    {
      "cell_type": "code",
      "execution_count": null,
      "metadata": {
        "id": "G2yk8xt5ZzZR"
      },
      "outputs": [],
      "source": [
        "test = test[['title', 'rating']]"
      ]
    },
    {
      "cell_type": "code",
      "execution_count": null,
      "metadata": {
        "id": "6eXGFSW2kAfg"
      },
      "outputs": [],
      "source": [
        "test['rating'] = test['rating'].astype(float)"
      ]
    },
    {
      "cell_type": "code",
      "execution_count": null,
      "metadata": {
        "colab": {
          "base_uri": "https://localhost:8080/",
          "height": 1000
        },
        "id": "wVwoYTHYaAa8",
        "outputId": "6eb391bd-7ed1-4ab9-f9b7-ec31f2601a31"
      },
      "outputs": [
        {
          "output_type": "stream",
          "name": "stdout",
          "text": [
            "Requirement already satisfied: spacy==2.2.3 in /usr/local/lib/python3.7/dist-packages (2.2.3)\n",
            "Requirement already satisfied: plac<1.2.0,>=0.9.6 in /usr/local/lib/python3.7/dist-packages (from spacy==2.2.3) (1.1.3)\n",
            "Requirement already satisfied: wasabi<1.1.0,>=0.4.0 in /usr/local/lib/python3.7/dist-packages (from spacy==2.2.3) (0.8.2)\n",
            "Requirement already satisfied: numpy>=1.15.0 in /usr/local/lib/python3.7/dist-packages (from spacy==2.2.3) (1.19.5)\n",
            "Requirement already satisfied: catalogue<1.1.0,>=0.0.7 in /usr/local/lib/python3.7/dist-packages (from spacy==2.2.3) (1.0.0)\n",
            "Requirement already satisfied: setuptools in /usr/local/lib/python3.7/dist-packages (from spacy==2.2.3) (57.4.0)\n",
            "Requirement already satisfied: preshed<3.1.0,>=3.0.2 in /usr/local/lib/python3.7/dist-packages (from spacy==2.2.3) (3.0.6)\n",
            "Requirement already satisfied: thinc<7.4.0,>=7.3.0 in /usr/local/lib/python3.7/dist-packages (from spacy==2.2.3) (7.3.1)\n",
            "Requirement already satisfied: cymem<2.1.0,>=2.0.2 in /usr/local/lib/python3.7/dist-packages (from spacy==2.2.3) (2.0.6)\n",
            "Requirement already satisfied: murmurhash<1.1.0,>=0.28.0 in /usr/local/lib/python3.7/dist-packages (from spacy==2.2.3) (1.0.6)\n",
            "Requirement already satisfied: blis<0.5.0,>=0.4.0 in /usr/local/lib/python3.7/dist-packages (from spacy==2.2.3) (0.4.1)\n",
            "Requirement already satisfied: requests<3.0.0,>=2.13.0 in /usr/local/lib/python3.7/dist-packages (from spacy==2.2.3) (2.23.0)\n",
            "Requirement already satisfied: srsly<1.1.0,>=0.1.0 in /usr/local/lib/python3.7/dist-packages (from spacy==2.2.3) (1.0.5)\n",
            "Requirement already satisfied: importlib-metadata>=0.20 in /usr/local/lib/python3.7/dist-packages (from catalogue<1.1.0,>=0.0.7->spacy==2.2.3) (4.8.2)\n",
            "Requirement already satisfied: zipp>=0.5 in /usr/local/lib/python3.7/dist-packages (from importlib-metadata>=0.20->catalogue<1.1.0,>=0.0.7->spacy==2.2.3) (3.6.0)\n",
            "Requirement already satisfied: typing-extensions>=3.6.4 in /usr/local/lib/python3.7/dist-packages (from importlib-metadata>=0.20->catalogue<1.1.0,>=0.0.7->spacy==2.2.3) (3.10.0.2)\n",
            "Requirement already satisfied: urllib3!=1.25.0,!=1.25.1,<1.26,>=1.21.1 in /usr/local/lib/python3.7/dist-packages (from requests<3.0.0,>=2.13.0->spacy==2.2.3) (1.24.3)\n",
            "Requirement already satisfied: chardet<4,>=3.0.2 in /usr/local/lib/python3.7/dist-packages (from requests<3.0.0,>=2.13.0->spacy==2.2.3) (3.0.4)\n",
            "Requirement already satisfied: idna<3,>=2.5 in /usr/local/lib/python3.7/dist-packages (from requests<3.0.0,>=2.13.0->spacy==2.2.3) (2.10)\n",
            "Requirement already satisfied: certifi>=2017.4.17 in /usr/local/lib/python3.7/dist-packages (from requests<3.0.0,>=2.13.0->spacy==2.2.3) (2021.10.8)\n",
            "Requirement already satisfied: tqdm<5.0.0,>=4.10.0 in /usr/local/lib/python3.7/dist-packages (from thinc<7.4.0,>=7.3.0->spacy==2.2.3) (4.62.3)\n",
            "Collecting en_core_web_sm==2.2.5\n",
            "  Downloading https://github.com/explosion/spacy-models/releases/download/en_core_web_sm-2.2.5/en_core_web_sm-2.2.5.tar.gz (12.0 MB)\n",
            "\u001b[K     |████████████████████████████████| 12.0 MB 5.4 MB/s \n",
            "\u001b[?25hRequirement already satisfied: spacy>=2.2.2 in /usr/local/lib/python3.7/dist-packages (from en_core_web_sm==2.2.5) (2.2.3)\n",
            "Requirement already satisfied: murmurhash<1.1.0,>=0.28.0 in /usr/local/lib/python3.7/dist-packages (from spacy>=2.2.2->en_core_web_sm==2.2.5) (1.0.6)\n",
            "Requirement already satisfied: wasabi<1.1.0,>=0.4.0 in /usr/local/lib/python3.7/dist-packages (from spacy>=2.2.2->en_core_web_sm==2.2.5) (0.8.2)\n",
            "Requirement already satisfied: preshed<3.1.0,>=3.0.2 in /usr/local/lib/python3.7/dist-packages (from spacy>=2.2.2->en_core_web_sm==2.2.5) (3.0.6)\n",
            "Requirement already satisfied: blis<0.5.0,>=0.4.0 in /usr/local/lib/python3.7/dist-packages (from spacy>=2.2.2->en_core_web_sm==2.2.5) (0.4.1)\n",
            "Requirement already satisfied: setuptools in /usr/local/lib/python3.7/dist-packages (from spacy>=2.2.2->en_core_web_sm==2.2.5) (57.4.0)\n",
            "Requirement already satisfied: thinc<7.4.0,>=7.3.0 in /usr/local/lib/python3.7/dist-packages (from spacy>=2.2.2->en_core_web_sm==2.2.5) (7.3.1)\n",
            "Requirement already satisfied: requests<3.0.0,>=2.13.0 in /usr/local/lib/python3.7/dist-packages (from spacy>=2.2.2->en_core_web_sm==2.2.5) (2.23.0)\n",
            "Requirement already satisfied: cymem<2.1.0,>=2.0.2 in /usr/local/lib/python3.7/dist-packages (from spacy>=2.2.2->en_core_web_sm==2.2.5) (2.0.6)\n",
            "Requirement already satisfied: numpy>=1.15.0 in /usr/local/lib/python3.7/dist-packages (from spacy>=2.2.2->en_core_web_sm==2.2.5) (1.19.5)\n",
            "Requirement already satisfied: srsly<1.1.0,>=0.1.0 in /usr/local/lib/python3.7/dist-packages (from spacy>=2.2.2->en_core_web_sm==2.2.5) (1.0.5)\n",
            "Requirement already satisfied: plac<1.2.0,>=0.9.6 in /usr/local/lib/python3.7/dist-packages (from spacy>=2.2.2->en_core_web_sm==2.2.5) (1.1.3)\n",
            "Requirement already satisfied: catalogue<1.1.0,>=0.0.7 in /usr/local/lib/python3.7/dist-packages (from spacy>=2.2.2->en_core_web_sm==2.2.5) (1.0.0)\n",
            "Requirement already satisfied: importlib-metadata>=0.20 in /usr/local/lib/python3.7/dist-packages (from catalogue<1.1.0,>=0.0.7->spacy>=2.2.2->en_core_web_sm==2.2.5) (4.8.2)\n",
            "Requirement already satisfied: zipp>=0.5 in /usr/local/lib/python3.7/dist-packages (from importlib-metadata>=0.20->catalogue<1.1.0,>=0.0.7->spacy>=2.2.2->en_core_web_sm==2.2.5) (3.6.0)\n",
            "Requirement already satisfied: typing-extensions>=3.6.4 in /usr/local/lib/python3.7/dist-packages (from importlib-metadata>=0.20->catalogue<1.1.0,>=0.0.7->spacy>=2.2.2->en_core_web_sm==2.2.5) (3.10.0.2)\n",
            "Requirement already satisfied: urllib3!=1.25.0,!=1.25.1,<1.26,>=1.21.1 in /usr/local/lib/python3.7/dist-packages (from requests<3.0.0,>=2.13.0->spacy>=2.2.2->en_core_web_sm==2.2.5) (1.24.3)\n",
            "Requirement already satisfied: idna<3,>=2.5 in /usr/local/lib/python3.7/dist-packages (from requests<3.0.0,>=2.13.0->spacy>=2.2.2->en_core_web_sm==2.2.5) (2.10)\n",
            "Requirement already satisfied: certifi>=2017.4.17 in /usr/local/lib/python3.7/dist-packages (from requests<3.0.0,>=2.13.0->spacy>=2.2.2->en_core_web_sm==2.2.5) (2021.10.8)\n",
            "Requirement already satisfied: chardet<4,>=3.0.2 in /usr/local/lib/python3.7/dist-packages (from requests<3.0.0,>=2.13.0->spacy>=2.2.2->en_core_web_sm==2.2.5) (3.0.4)\n",
            "Requirement already satisfied: tqdm<5.0.0,>=4.10.0 in /usr/local/lib/python3.7/dist-packages (from thinc<7.4.0,>=7.3.0->spacy>=2.2.2->en_core_web_sm==2.2.5) (4.62.3)\n",
            "\u001b[38;5;2m✔ Download and installation successful\u001b[0m\n",
            "You can now load the model via spacy.load('en_core_web_sm')\n",
            "Requirement already satisfied: beautifulsoup4==4.9.1 in /usr/local/lib/python3.7/dist-packages (4.9.1)\n",
            "Requirement already satisfied: soupsieve>1.2 in /usr/local/lib/python3.7/dist-packages (from beautifulsoup4==4.9.1) (2.3.1)\n",
            "Requirement already satisfied: textblob==0.15.3 in /usr/local/lib/python3.7/dist-packages (0.15.3)\n",
            "Requirement already satisfied: nltk>=3.1 in /usr/local/lib/python3.7/dist-packages (from textblob==0.15.3) (3.2.5)\n",
            "Requirement already satisfied: six in /usr/local/lib/python3.7/dist-packages (from nltk>=3.1->textblob==0.15.3) (1.15.0)\n",
            "Collecting git+https://github.com/laxmimerit/preprocess_kgptalkie.git\n",
            "  Cloning https://github.com/laxmimerit/preprocess_kgptalkie.git to /tmp/pip-req-build-08yvypbk\n",
            "  Running command git clone -q https://github.com/laxmimerit/preprocess_kgptalkie.git /tmp/pip-req-build-08yvypbk\n",
            "Building wheels for collected packages: preprocess-kgptalkie\n",
            "  Building wheel for preprocess-kgptalkie (setup.py) ... \u001b[?25l\u001b[?25hdone\n",
            "  Created wheel for preprocess-kgptalkie: filename=preprocess_kgptalkie-0.1.3-py3-none-any.whl size=11754 sha256=170b3612b57fe7255c0709a38e98da1c5180b04b1020cd359b4a84f5578bc301\n",
            "  Stored in directory: /tmp/pip-ephem-wheel-cache-s2_07z5r/wheels/0d/b3/29/bfe3deffda68980088d17b81331be6667e837ffb4a071bae82\n",
            "Successfully built preprocess-kgptalkie\n",
            "Installing collected packages: preprocess-kgptalkie\n",
            "  Attempting uninstall: preprocess-kgptalkie\n",
            "    Found existing installation: preprocess-kgptalkie 0.1.3\n",
            "    Uninstalling preprocess-kgptalkie-0.1.3:\n",
            "      Successfully uninstalled preprocess-kgptalkie-0.1.3\n",
            "Successfully installed preprocess-kgptalkie-0.1.3\n"
          ]
        },
        {
          "output_type": "display_data",
          "data": {
            "application/vnd.colab-display-data+json": {
              "pip_warning": {
                "packages": [
                  "preprocess_kgptalkie"
                ]
              }
            }
          },
          "metadata": {}
        }
      ],
      "source": [
        "!pip install spacy==2.2.3\n",
        "!python -m spacy download en_core_web_sm\n",
        "!pip install beautifulsoup4==4.9.1\n",
        "!pip install textblob==0.15.3\n",
        "!pip install git+https://github.com/laxmimerit/preprocess_kgptalkie.git --upgrade --force-reinstall"
      ]
    },
    {
      "cell_type": "code",
      "execution_count": null,
      "metadata": {
        "id": "Y6o4G1COaJLY"
      },
      "outputs": [],
      "source": [
        "import preprocess_kgptalkie as ps"
      ]
    },
    {
      "cell_type": "code",
      "execution_count": null,
      "metadata": {
        "id": "Db2_xwZTaOfZ"
      },
      "outputs": [],
      "source": [
        "test['title'] = test['title'].apply(lambda x: ps.remove_special_chars(x))"
      ]
    },
    {
      "cell_type": "code",
      "execution_count": null,
      "metadata": {
        "colab": {
          "base_uri": "https://localhost:8080/",
          "height": 35
        },
        "id": "FLgwSx-vaW6P",
        "outputId": "582c3fbf-bf62-4be5-9d86-753aab99ded3"
      },
      "outputs": [
        {
          "output_type": "execute_result",
          "data": {
            "application/vnd.google.colaboratory.intrinsic+json": {
              "type": "string"
            },
            "text/plain": [
              "'this is gret'"
            ]
          },
          "metadata": {},
          "execution_count": 77
        }
      ],
      "source": [
        "ps.remove_special_chars('this ,. @ is gre@t')"
      ]
    },
    {
      "cell_type": "code",
      "execution_count": null,
      "metadata": {
        "colab": {
          "base_uri": "https://localhost:8080/",
          "height": 206
        },
        "id": "dOyskxYpaX11",
        "outputId": "82530621-2ff9-49be-a210-fa7c711f29ea"
      },
      "outputs": [
        {
          "output_type": "execute_result",
          "data": {
            "text/html": [
              "<div>\n",
              "<style scoped>\n",
              "    .dataframe tbody tr th:only-of-type {\n",
              "        vertical-align: middle;\n",
              "    }\n",
              "\n",
              "    .dataframe tbody tr th {\n",
              "        vertical-align: top;\n",
              "    }\n",
              "\n",
              "    .dataframe thead th {\n",
              "        text-align: right;\n",
              "    }\n",
              "</style>\n",
              "<table border=\"1\" class=\"dataframe\">\n",
              "  <thead>\n",
              "    <tr style=\"text-align: right;\">\n",
              "      <th></th>\n",
              "      <th>title</th>\n",
              "      <th>rating</th>\n",
              "    </tr>\n",
              "  </thead>\n",
              "  <tbody>\n",
              "    <tr>\n",
              "      <th>0</th>\n",
              "      <td>the lie that coronavirus came from a bat or a ...</td>\n",
              "      <td>0.0</td>\n",
              "    </tr>\n",
              "    <tr>\n",
              "      <th>1</th>\n",
              "      <td>the health experts had predicted the virus cou...</td>\n",
              "      <td>0.0</td>\n",
              "    </tr>\n",
              "    <tr>\n",
              "      <th>2</th>\n",
              "      <td>the centers for disease control and prevention...</td>\n",
              "      <td>0.0</td>\n",
              "    </tr>\n",
              "    <tr>\n",
              "      <th>3</th>\n",
              "      <td>warm weather will kill coronavirus us presiden...</td>\n",
              "      <td>2.0</td>\n",
              "    </tr>\n",
              "    <tr>\n",
              "      <th>4</th>\n",
              "      <td>using a hair dryer to breathe in hot air can c...</td>\n",
              "      <td>0.0</td>\n",
              "    </tr>\n",
              "  </tbody>\n",
              "</table>\n",
              "</div>"
            ],
            "text/plain": [
              "                                               title  rating\n",
              "0  the lie that coronavirus came from a bat or a ...     0.0\n",
              "1  the health experts had predicted the virus cou...     0.0\n",
              "2  the centers for disease control and prevention...     0.0\n",
              "3  warm weather will kill coronavirus us presiden...     2.0\n",
              "4  using a hair dryer to breathe in hot air can c...     0.0"
            ]
          },
          "metadata": {},
          "execution_count": 78
        }
      ],
      "source": [
        "test.head()"
      ]
    },
    {
      "cell_type": "code",
      "execution_count": null,
      "metadata": {
        "id": "PPlIFRMXYIih"
      },
      "outputs": [],
      "source": [
        "x = [d.split() for d in test['title'].tolist()]\n",
        "y = test['rating'].values"
      ]
    },
    {
      "cell_type": "code",
      "execution_count": null,
      "metadata": {
        "colab": {
          "base_uri": "https://localhost:8080/"
        },
        "id": "h3rS1_cU3_DN",
        "outputId": "f1b04909-8588-49c6-b0c3-a2aeb2eada08"
      },
      "outputs": [
        {
          "output_type": "stream",
          "name": "stdout",
          "text": [
            "Requirement already satisfied: imbalanced-learn in /usr/local/lib/python3.7/dist-packages (0.8.1)\n",
            "Requirement already satisfied: numpy>=1.13.3 in /usr/local/lib/python3.7/dist-packages (from imbalanced-learn) (1.19.5)\n",
            "Requirement already satisfied: scipy>=0.19.1 in /usr/local/lib/python3.7/dist-packages (from imbalanced-learn) (1.4.1)\n",
            "Requirement already satisfied: joblib>=0.11 in /usr/local/lib/python3.7/dist-packages (from imbalanced-learn) (1.1.0)\n",
            "Requirement already satisfied: scikit-learn>=0.24 in /usr/local/lib/python3.7/dist-packages (from imbalanced-learn) (1.0.1)\n",
            "Requirement already satisfied: threadpoolctl>=2.0.0 in /usr/local/lib/python3.7/dist-packages (from scikit-learn>=0.24->imbalanced-learn) (3.0.0)\n"
          ]
        }
      ],
      "source": [
        "pip install imbalanced-learn"
      ]
    },
    {
      "cell_type": "code",
      "execution_count": null,
      "metadata": {
        "colab": {
          "base_uri": "https://localhost:8080/"
        },
        "id": "0I5NnlOQ4GS9",
        "outputId": "854e9af0-53dc-41cb-b838-fadcabfa7464"
      },
      "outputs": [
        {
          "output_type": "stream",
          "name": "stdout",
          "text": [
            "0.8.1\n"
          ]
        }
      ],
      "source": [
        "import imblearn\n",
        "from imblearn.over_sampling import RandomOverSampler\n",
        "print(imblearn.__version__)"
      ]
    },
    {
      "cell_type": "code",
      "execution_count": null,
      "metadata": {
        "colab": {
          "base_uri": "https://localhost:8080/"
        },
        "id": "oMdXaHW_YIii",
        "outputId": "b8793b39-22fa-4b80-8f15-f8aff2cb902e"
      },
      "outputs": [
        {
          "output_type": "stream",
          "name": "stdout",
          "text": [
            "4129\n"
          ]
        }
      ],
      "source": [
        "print(len(x))"
      ]
    },
    {
      "cell_type": "code",
      "execution_count": null,
      "metadata": {
        "id": "1gc8DsZZYIij"
      },
      "outputs": [],
      "source": [
        "DIM = 300\n",
        "w2v_model = gensim.models.Word2Vec(sentences=x, size=DIM, window=10, min_count=1)"
      ]
    },
    {
      "cell_type": "code",
      "execution_count": null,
      "metadata": {
        "colab": {
          "base_uri": "https://localhost:8080/"
        },
        "id": "NfRchQB0YIik",
        "outputId": "7e0d0656-2371-4e06-b9f7-649f6b6a51e8"
      },
      "outputs": [
        {
          "output_type": "execute_result",
          "data": {
            "text/plain": [
              "9346"
            ]
          },
          "metadata": {},
          "execution_count": 84
        }
      ],
      "source": [
        "len(w2v_model.wv.vocab)"
      ]
    },
    {
      "cell_type": "code",
      "execution_count": null,
      "metadata": {
        "id": "wfDTLoE3YIil"
      },
      "outputs": [],
      "source": [
        "tokenizer = tf.keras.preprocessing.text.Tokenizer()\n",
        "tokenizer.fit_on_texts(x)"
      ]
    },
    {
      "cell_type": "code",
      "execution_count": null,
      "metadata": {
        "id": "JQPj6WISYIil"
      },
      "outputs": [],
      "source": [
        "x = tokenizer.texts_to_sequences(x)"
      ]
    },
    {
      "cell_type": "code",
      "execution_count": null,
      "metadata": {
        "id": "woalHQOLYIim"
      },
      "outputs": [],
      "source": [
        "# tokenizer.word_index"
      ]
    },
    {
      "cell_type": "code",
      "execution_count": null,
      "metadata": {
        "colab": {
          "base_uri": "https://localhost:8080/",
          "height": 265
        },
        "id": "K-kbKg0BYIim",
        "outputId": "3aea8ec0-32b8-4076-ebd8-de540d4201d0"
      },
      "outputs": [
        {
          "output_type": "display_data",
          "data": {
            "image/png": "[encoded data removed]",
            "text/plain": [
              "<Figure size 432x288 with 1 Axes>"
            ]
          },
          "metadata": {
            "needs_background": "light"
          }
        }
      ],
      "source": [
        "plt.hist([len(a) for a in x], bins = 700)\n",
        "plt.show()"
      ]
    },
    {
      "cell_type": "code",
      "execution_count": null,
      "metadata": {
        "colab": {
          "base_uri": "https://localhost:8080/"
        },
        "id": "nZWXJPElYIim",
        "outputId": "d0486761-2aae-42da-aed0-60a30b6e1d7e"
      },
      "outputs": [
        {
          "output_type": "execute_result",
          "data": {
            "text/plain": [
              "0"
            ]
          },
          "metadata": {},
          "execution_count": 89
        }
      ],
      "source": [
        "nos = np.array([len(a) for a in x])\n",
        "len(nos[nos>1000])"
      ]
    },
    {
      "cell_type": "code",
      "execution_count": null,
      "metadata": {
        "id": "2fWrnXxbYIin"
      },
      "outputs": [],
      "source": [
        "maxlen = 100\n",
        "x = tf.keras.preprocessing.sequence.pad_sequences(x, maxlen=maxlen)"
      ]
    },
    {
      "cell_type": "code",
      "execution_count": null,
      "metadata": {
        "colab": {
          "base_uri": "https://localhost:8080/"
        },
        "id": "qPOf8OUGYIio",
        "outputId": "5141a390-7d85-43b4-81f9-0f0538aa212c"
      },
      "outputs": [
        {
          "output_type": "execute_result",
          "data": {
            "text/plain": [
              "100"
            ]
          },
          "metadata": {},
          "execution_count": 91
        }
      ],
      "source": [
        "len(x[101])"
      ]
    },
    {
      "cell_type": "code",
      "execution_count": null,
      "metadata": {
        "id": "AwNeNc2yYIio"
      },
      "outputs": [],
      "source": [
        "vocab_size = len(tokenizer.word_index) + 1\n",
        "vocab = tokenizer.word_index"
      ]
    },
    {
      "cell_type": "code",
      "execution_count": null,
      "metadata": {
        "id": "IVM2n32JYIio"
      },
      "outputs": [],
      "source": [
        "def get_weight_matrix(model):\n",
        "    weight_matrix = np.zeros((vocab_size, DIM))\n",
        "    \n",
        "    for word, i in vocab.items():\n",
        "        try:\n",
        "            weight_matrix[i] = model.wv[word]\n",
        "        except:\n",
        "            print(\"whatever\")\n",
        "        \n",
        "    return weight_matrix"
      ]
    },
    {
      "cell_type": "code",
      "execution_count": null,
      "metadata": {
        "id": "rxau_UHSYIip"
      },
      "outputs": [],
      "source": [
        "embedding_vectors = get_weight_matrix(w2v_model)"
      ]
    },
    {
      "cell_type": "code",
      "execution_count": null,
      "metadata": {
        "colab": {
          "base_uri": "https://localhost:8080/"
        },
        "id": "LMD4f-HoYIip",
        "outputId": "ee6b5e6a-da2d-4ebd-dffd-0af9d21698d7"
      },
      "outputs": [
        {
          "output_type": "execute_result",
          "data": {
            "text/plain": [
              "(9347, 300)"
            ]
          },
          "metadata": {},
          "execution_count": 95
        }
      ],
      "source": [
        "embedding_vectors.shape\n"
      ]
    },
    {
      "cell_type": "code",
      "execution_count": null,
      "metadata": {
        "id": "GkvIceS6YIip"
      },
      "outputs": [],
      "source": [
        "#model = tf.keras.Sequential()\n",
        "#model.add(tf.keras.layers.Embedding(vocab_size, output_dim=DIM, weights=[embedding_vectors], input_length=maxlen, trainable = False))\n",
        "#model.add(tf.keras.layers.LSTM(units=100))\n",
        "#model.add(tf.keras.layers.Dense(1, activation='sigmoid'))\n",
        "#model.compile(optimizer='Adam', loss='binary_crossentropy', metrics=['accuracy'])"
      ]
    },
    {
      "cell_type": "code",
      "execution_count": null,
      "metadata": {
        "colab": {
          "base_uri": "https://localhost:8080/"
        },
        "id": "r9ZHeoyclVUp",
        "outputId": "035a45f5-cadf-45f1-aa70-30ba6ed89e3b"
      },
      "outputs": [
        {
          "output_type": "stream",
          "name": "stdout",
          "text": [
            "Model: \"sequential_1\"\n",
            "_________________________________________________________________\n",
            " Layer (type)                Output Shape              Param #   \n",
            "=================================================================\n",
            " embedding_1 (Embedding)     (None, 100, 300)          2804100   \n",
            "                                                                 \n",
            " conv1d_1 (Conv1D)           (None, 96, 512)           768512    \n",
            "                                                                 \n",
            " max_pooling1d_1 (MaxPooling  (None, 48, 512)          0         \n",
            " 1D)                                                             \n",
            "                                                                 \n",
            " lstm_1 (LSTM)               (None, 128)               328192    \n",
            "                                                                 \n",
            " dense_1 (Dense)             (None, 3)                 387       \n",
            "                                                                 \n",
            "=================================================================\n",
            "Total params: 3,901,191\n",
            "Trainable params: 1,097,091\n",
            "Non-trainable params: 2,804,100\n",
            "_________________________________________________________________\n"
          ]
        }
      ],
      "source": [
        "model = Sequential()\n",
        "\n",
        "model.add(Input(shape=100))\n",
        "model.add(Embedding(vocab_size, output_dim=DIM, weights=[embedding_vectors], input_length=maxlen, trainable = False))\n",
        "model.add(Conv1D(512, 5, activation=\"relu\", input_dim=96))\n",
        "model.add(MaxPooling1D(pool_size=2, strides=2, padding=\"valid\"))\n",
        "model.add(LSTM(128))\n",
        "model.add(Dense(3, activation = 'sigmoid')) \n",
        "model.compile(loss = tf.keras.losses.CategoricalCrossentropy(), \n",
        "    optimizer = \"Adam\",               \n",
        "              metrics = ['accuracy', 'Recall', 'Precision', 'TrueNegatives', 'TruePositives', 'FalsePositives', 'FalseNegatives'])\n",
        "model.summary()"
      ]
    },
    {
      "cell_type": "code",
      "execution_count": null,
      "metadata": {
        "id": "gmG7RQxL4p3H"
      },
      "outputs": [],
      "source": [
        "X_train = x[0:3000]\n",
        "X_test = y[0:3000]\n",
        "y_train = x[3000:4129]\n",
        "y_test = y[3000:4129]"
      ]
    },
    {
      "cell_type": "code",
      "execution_count": null,
      "metadata": {
        "id": "uvNB8dqT5C94"
      },
      "outputs": [],
      "source": [
        "X_test = [[1,0,0] if x==0.0 else [0,1,0] if x==1.0 else [0,0,1] if x==2.0 else x for x in X_test]\n",
        "y_test = [[1,0,0] if x==0.0 else [0,1,0] if x==1.0 else [0,0,1] if x==2.0 else x for x in y_test]"
      ]
    },
    {
      "cell_type": "code",
      "execution_count": null,
      "metadata": {
        "id": "3VI39L3BWeDx"
      },
      "outputs": [],
      "source": [
        "X_test = np.array(X_test)\n",
        "y_test = np.array(y_test)"
      ]
    },
    {
      "cell_type": "code",
      "execution_count": null,
      "metadata": {
        "id": "rqhMr2eZ4hGU"
      },
      "outputs": [],
      "source": [
        "oversample = RandomOverSampler(sampling_strategy='auto')\n",
        "X_over, y_over = oversample.fit_resample(X_train, X_test)"
      ]
    },
    {
      "cell_type": "code",
      "execution_count": null,
      "metadata": {
        "colab": {
          "base_uri": "https://localhost:8080/"
        },
        "id": "Q34zOWg95deK",
        "outputId": "ca414229-3ad2-427c-8fe9-3aaaa74c9237"
      },
      "outputs": [
        {
          "output_type": "stream",
          "name": "stdout",
          "text": [
            "6180 6180\n",
            "2060 2060 2060\n"
          ]
        }
      ],
      "source": [
        "fakecount = 0\n",
        "truecount = 0\n",
        "unverifiedcount = 0\n",
        "print(len(X_over), len(y_over))\n",
        "for value in y_over:\n",
        "  if all(map(lambda x, y: x == y, value, [1,0,0])):\n",
        "    fakecount += 1\n",
        "  elif all(map(lambda x, y: x == y, value, [0,1,0])):\n",
        "    truecount += 1\n",
        "  elif all(map(lambda x, y: x == y, value, [0,0,1])):\n",
        "    unverifiedcount += 1\n",
        "\n",
        "print(fakecount,truecount,unverifiedcount)"
      ]
    },
    {
      "cell_type": "code",
      "execution_count": null,
      "metadata": {
        "colab": {
          "base_uri": "https://localhost:8080/"
        },
        "id": "Dsq9z3X1YIiq",
        "outputId": "d43d2fa2-9173-4fb2-b6ad-226a906a61fb"
      },
      "outputs": [
        {
          "output_type": "stream",
          "name": "stdout",
          "text": [
            "Epoch 1/25\n",
            "194/194 [==============================] - 6s 33ms/step - loss: 0.8748 - accuracy: 0.5998 - recall: 0.7602 - precision: 0.5009 - true_negatives: 7679.0000 - true_positives: 4698.0000 - false_positives: 4681.0000 - false_negatives: 1482.0000\n",
            "Epoch 2/25\n",
            "194/194 [==============================] - 6s 33ms/step - loss: 0.8148 - accuracy: 0.6398 - recall: 0.8154 - precision: 0.5149 - true_negatives: 7613.0000 - true_positives: 5039.0000 - false_positives: 4747.0000 - false_negatives: 1141.0000\n",
            "Epoch 3/25\n",
            "194/194 [==============================] - 6s 33ms/step - loss: 0.7394 - accuracy: 0.6908 - recall: 0.8854 - precision: 0.5035 - true_negatives: 6965.0000 - true_positives: 5472.0000 - false_positives: 5395.0000 - false_negatives: 708.0000\n",
            "Epoch 4/25\n",
            "194/194 [==============================] - 6s 33ms/step - loss: 0.6737 - accuracy: 0.7210 - recall: 0.8939 - precision: 0.5425 - true_negatives: 7701.0000 - true_positives: 5524.0000 - false_positives: 4659.0000 - false_negatives: 656.0000\n",
            "Epoch 5/25\n",
            "194/194 [==============================] - 6s 33ms/step - loss: 0.5953 - accuracy: 0.7568 - recall: 0.9141 - precision: 0.5743 - true_negatives: 8172.0000 - true_positives: 5649.0000 - false_positives: 4188.0000 - false_negatives: 531.0000\n",
            "Epoch 6/25\n",
            "194/194 [==============================] - 6s 33ms/step - loss: 0.5117 - accuracy: 0.8152 - recall: 0.9282 - precision: 0.6126 - true_negatives: 8732.0000 - true_positives: 5736.0000 - false_positives: 3628.0000 - false_negatives: 444.0000\n",
            "Epoch 7/25\n",
            "194/194 [==============================] - 6s 33ms/step - loss: 0.4324 - accuracy: 0.8511 - recall: 0.9481 - precision: 0.6173 - true_negatives: 8727.0000 - true_positives: 5859.0000 - false_positives: 3633.0000 - false_negatives: 321.0000\n",
            "Epoch 8/25\n",
            "194/194 [==============================] - 6s 33ms/step - loss: 0.3818 - accuracy: 0.8704 - recall: 0.9592 - precision: 0.6308 - true_negatives: 8891.0000 - true_positives: 5928.0000 - false_positives: 3469.0000 - false_negatives: 252.0000\n",
            "Epoch 9/25\n",
            "194/194 [==============================] - 6s 33ms/step - loss: 0.3136 - accuracy: 0.9008 - recall: 0.9730 - precision: 0.6458 - true_negatives: 9062.0000 - true_positives: 6013.0000 - false_positives: 3298.0000 - false_negatives: 167.0000\n",
            "Epoch 10/25\n",
            "194/194 [==============================] - 6s 33ms/step - loss: 0.2689 - accuracy: 0.9155 - recall: 0.9772 - precision: 0.6602 - true_negatives: 9252.0000 - true_positives: 6039.0000 - false_positives: 3108.0000 - false_negatives: 141.0000\n",
            "Epoch 11/25\n",
            "194/194 [==============================] - 6s 33ms/step - loss: 0.2226 - accuracy: 0.9374 - recall: 0.9854 - precision: 0.6680 - true_negatives: 9333.0000 - true_positives: 6090.0000 - false_positives: 3027.0000 - false_negatives: 90.0000\n",
            "Epoch 12/25\n",
            "194/194 [==============================] - 6s 33ms/step - loss: 0.1781 - accuracy: 0.9534 - recall: 0.9908 - precision: 0.6855 - true_negatives: 9551.0000 - true_positives: 6123.0000 - false_positives: 2809.0000 - false_negatives: 57.0000\n",
            "Epoch 13/25\n",
            "194/194 [==============================] - 6s 33ms/step - loss: 0.1492 - accuracy: 0.9650 - recall: 0.9929 - precision: 0.6917 - true_negatives: 9625.0000 - true_positives: 6136.0000 - false_positives: 2735.0000 - false_negatives: 44.0000\n",
            "Epoch 14/25\n",
            "194/194 [==============================] - 6s 33ms/step - loss: 0.1213 - accuracy: 0.9754 - recall: 0.9958 - precision: 0.6943 - true_negatives: 9651.0000 - true_positives: 6154.0000 - false_positives: 2709.0000 - false_negatives: 26.0000\n",
            "Epoch 15/25\n",
            "194/194 [==============================] - 6s 33ms/step - loss: 0.1015 - accuracy: 0.9790 - recall: 0.9966 - precision: 0.6889 - true_negatives: 9579.0000 - true_positives: 6159.0000 - false_positives: 2781.0000 - false_negatives: 21.0000\n",
            "Epoch 16/25\n",
            "194/194 [==============================] - 6s 33ms/step - loss: 0.0845 - accuracy: 0.9851 - recall: 0.9981 - precision: 0.7005 - true_negatives: 9723.0000 - true_positives: 6168.0000 - false_positives: 2637.0000 - false_negatives: 12.0000\n",
            "Epoch 17/25\n",
            "194/194 [==============================] - 7s 34ms/step - loss: 0.0591 - accuracy: 0.9924 - recall: 0.9989 - precision: 0.7128 - true_negatives: 9873.0000 - true_positives: 6173.0000 - false_positives: 2487.0000 - false_negatives: 7.0000\n",
            "Epoch 18/25\n",
            "194/194 [==============================] - 7s 34ms/step - loss: 0.0450 - accuracy: 0.9964 - recall: 0.9995 - precision: 0.7312 - true_negatives: 10089.0000 - true_positives: 6177.0000 - false_positives: 2271.0000 - false_negatives: 3.0000\n",
            "Epoch 19/25\n",
            "194/194 [==============================] - 7s 34ms/step - loss: 0.0317 - accuracy: 0.9985 - recall: 0.9997 - precision: 0.7462 - true_negatives: 10259.0000 - true_positives: 6178.0000 - false_positives: 2101.0000 - false_negatives: 2.0000\n",
            "Epoch 20/25\n",
            "194/194 [==============================] - 7s 34ms/step - loss: 0.0240 - accuracy: 0.9995 - recall: 0.9998 - precision: 0.7590 - true_negatives: 10398.0000 - true_positives: 6179.0000 - false_positives: 1962.0000 - false_negatives: 1.0000\n",
            "Epoch 21/25\n",
            "194/194 [==============================] - 7s 34ms/step - loss: 0.0189 - accuracy: 0.9997 - recall: 1.0000 - precision: 0.7643 - true_negatives: 10454.0000 - true_positives: 6180.0000 - false_positives: 1906.0000 - false_negatives: 0.0000e+00\n",
            "Epoch 22/25\n",
            "194/194 [==============================] - 7s 34ms/step - loss: 0.0151 - accuracy: 0.9995 - recall: 1.0000 - precision: 0.7771 - true_negatives: 10587.0000 - true_positives: 6180.0000 - false_positives: 1773.0000 - false_negatives: 0.0000e+00\n",
            "Epoch 23/25\n",
            "194/194 [==============================] - 7s 34ms/step - loss: 0.0116 - accuracy: 0.9998 - recall: 1.0000 - precision: 0.7895 - true_negatives: 10712.0000 - true_positives: 6180.0000 - false_positives: 1648.0000 - false_negatives: 0.0000e+00\n",
            "Epoch 24/25\n",
            "194/194 [==============================] - 7s 34ms/step - loss: 0.0091 - accuracy: 1.0000 - recall: 1.0000 - precision: 0.8023 - true_negatives: 10837.0000 - true_positives: 6180.0000 - false_positives: 1523.0000 - false_negatives: 0.0000e+00\n",
            "Epoch 25/25\n",
            "194/194 [==============================] - 7s 34ms/step - loss: 0.0075 - accuracy: 1.0000 - recall: 1.0000 - precision: 0.8114 - true_negatives: 10924.0000 - true_positives: 6180.0000 - false_positives: 1436.0000 - false_negatives: 0.0000e+00\n"
          ]
        },
        {
          "output_type": "execute_result",
          "data": {
            "text/plain": [
              "<keras.callbacks.History at 0x7efdb2ba1710>"
            ]
          },
          "metadata": {},
          "execution_count": 111
        }
      ],
      "source": [
        "model.fit(X_over, y_over, epochs=25)"
      ]
    },
    {
      "cell_type": "code",
      "execution_count": null,
      "metadata": {
        "colab": {
          "base_uri": "https://localhost:8080/"
        },
        "id": "F7ihBFyMzbSp",
        "outputId": "362e9f55-11c6-4490-8521-7a1a3074a0c4"
      },
      "outputs": [
        {
          "output_type": "stream",
          "name": "stdout",
          "text": [
            "36/36 [==============================] - 2s 17ms/step - loss: 1.1118 - accuracy: 0.4694 - recall: 0.7422 - precision: 0.3889 - true_negatives: 941.0000 - true_positives: 838.0000 - false_positives: 1317.0000 - false_negatives: 291.0000\n"
          ]
        },
        {
          "output_type": "execute_result",
          "data": {
            "text/plain": [
              "[1.1117786169052124,\n",
              " 0.4694419801235199,\n",
              " 0.7422497868537903,\n",
              " 0.38886311650276184,\n",
              " 941.0,\n",
              " 838.0,\n",
              " 1317.0,\n",
              " 291.0]"
            ]
          },
          "metadata": {},
          "execution_count": 104
        }
      ],
      "source": [
        "model.evaluate(y_train, y_test)"
      ]
    },
    {
      "cell_type": "code",
      "execution_count": null,
      "metadata": {
        "id": "8jluh0-mg-8s"
      },
      "outputs": [],
      "source": [
        "y_predunsure = model.predict(y_train)"
      ]
    },
    {
      "cell_type": "code",
      "execution_count": null,
      "metadata": {
        "id": "NZMIbqJZ5aWD"
      },
      "outputs": [],
      "source": [
        "y_predsure = (model.predict(y_train) >= 0.5).astype(int)"
      ]
    },
    {
      "cell_type": "code",
      "execution_count": null,
      "metadata": {
        "id": "1qZzMCQgrUl-"
      },
      "outputs": [],
      "source": [
        "for prediction in y_predunsure:\n",
        "  highest = 0\n",
        "  for value in prediction:\n",
        "    if value > highest:\n",
        "      highest = value\n",
        "\n",
        "  predvalueindex = np.where(prediction == highest)\n",
        "  prediction[predvalueindex] = int(1)\n",
        "  for x in prediction:\n",
        "    if x != 1:\n",
        "      prediction[np.where(prediction == x)] = 0    "
      ]
    },
    {
      "cell_type": "code",
      "execution_count": null,
      "metadata": {
        "colab": {
          "base_uri": "https://localhost:8080/"
        },
        "id": "6kDbYG6_98Ea",
        "outputId": "72ec27fa-b580-48fb-897a-11f1613703bf"
      },
      "outputs": [
        {
          "output_type": "stream",
          "name": "stdout",
          "text": [
            "479 40 11 373 56 14 18 9 129\n"
          ]
        }
      ],
      "source": [
        "fake = 0\n",
        "true = 0\n",
        "unverified = 0\n",
        "predtrueacfake = 0\n",
        "predtrueacunverified = 0\n",
        "predfakeactrue = 0\n",
        "predfakeacunverified = 0\n",
        "predunverifiedactrue = 0\n",
        "predunverifiedacfake = 0\n",
        "\n",
        "for x in range(len(y_predunsure)):\n",
        "  result = all(map(lambda x, y: x == y, y_predunsure[x], y_test[x]))\n",
        "  if result == True:\n",
        "    if all(map(lambda x, y: x == y, y_predunsure[x], [1,0,0])):\n",
        "      fake+=1\n",
        "    elif all(map(lambda x, y: x == y, y_predunsure[x], [0,1,0])):\n",
        "      true += 1\n",
        "    elif all(map(lambda x, y: x == y, y_predunsure[x], [0,0,1])):\n",
        "      unverified+=1\n",
        "  elif result == False:\n",
        "    if all(map(lambda x, y: x == y, y_predunsure[x], [0,1,0])) and all(map(lambda x, y: x == y, y_test[x], [1,0,0])):\n",
        "      predtrueacfake += 1\n",
        "    elif all(map(lambda x, y: x == y, y_predunsure[x], [0,1,0])) and all(map(lambda x, y: x == y, y_test[x], [0,0,1])):\n",
        "      predtrueacunverified += 1\n",
        "    elif all(map(lambda x, y: x == y, y_predunsure[x], [1,0,0])) and all(map(lambda x, y: x == y, y_test[x], [0,1,0])):\n",
        "      predfakeactrue += 1\n",
        "    elif all(map(lambda x, y: x == y, y_predunsure[x], [1,0,0])) and all(map(lambda x, y: x == y, y_test[x], [0,0,1])):\n",
        "      predfakeacunverified += 1\n",
        "    elif all(map(lambda x, y: x == y, y_predunsure[x], [0,0,1])) and all(map(lambda x, y: x == y, y_test[x], [0,1,0])):\n",
        "      predunverifiedactrue += 1\n",
        "    elif all(map(lambda x, y: x == y, y_predunsure[x], [0,0,1])) and all(map(lambda x, y: x == y, y_test[x], [1,0,0])):\n",
        "      predunverifiedacfake += 1\n",
        "\n",
        "print(fake, true, unverified, predtrueacfake, predtrueacunverified, predfakeactrue, predfakeacunverified, predunverifiedactrue, predunverifiedacfake)\n"
      ]
    },
    {
      "cell_type": "code",
      "execution_count": null,
      "metadata": {
        "colab": {
          "base_uri": "https://localhost:8080/"
        },
        "id": "-RQ9URCD5j_m",
        "outputId": "f0883b51-ff78-448f-e9ff-db3b0f9a454c"
      },
      "outputs": [
        {
          "output_type": "stream",
          "name": "stdout",
          "text": [
            "138 8 1 76 5 1 5 0 4\n"
          ]
        }
      ],
      "source": [
        "fake = 0\n",
        "true = 0\n",
        "unverified = 0\n",
        "predtrueacfake = 0\n",
        "predtrueacunverified = 0\n",
        "predfakeactrue = 0\n",
        "predfakeacunverified = 0\n",
        "predunverifiedactrue = 0\n",
        "predunverifiedacfake = 0\n",
        "\n",
        "for x in range(len(y_predsure)):\n",
        "  result = all(map(lambda x, y: x == y, y_predsure[x], y_test[x]))\n",
        "  if result == True:\n",
        "    if all(map(lambda x, y: x == y, y_predsure[x], [1,0,0])):\n",
        "      fake+=1\n",
        "    elif all(map(lambda x, y: x == y, y_predsure[x], [0,1,0])):\n",
        "      true += 1\n",
        "    elif all(map(lambda x, y: x == y, y_predsure[x], [0,0,1])):\n",
        "      unverified+=1\n",
        "  elif result == False:\n",
        "    if all(map(lambda x, y: x == y, y_predsure[x], [0,1,0])) and all(map(lambda x, y: x == y, y_test[x], [1,0,0])):\n",
        "      predtrueacfake += 1\n",
        "    elif all(map(lambda x, y: x == y, y_predsure[x], [0,1,0])) and all(map(lambda x, y: x == y, y_test[x], [0,0,1])):\n",
        "      predtrueacunverified += 1\n",
        "    elif all(map(lambda x, y: x == y, y_predsure[x], [1,0,0])) and all(map(lambda x, y: x == y, y_test[x], [0,1,0])):\n",
        "      predfakeactrue += 1\n",
        "    elif all(map(lambda x, y: x == y, y_predsure[x], [1,0,0])) and all(map(lambda x, y: x == y, y_test[x], [0,0,1])):\n",
        "      predfakeacunverified += 1\n",
        "    elif all(map(lambda x, y: x == y, y_predsure[x], [0,0,1])) and all(map(lambda x, y: x == y, y_test[x], [0,1,0])):\n",
        "      predunverifiedactrue += 1\n",
        "    elif all(map(lambda x, y: x == y, y_predsure[x], [0,0,1])) and all(map(lambda x, y: x == y, y_test[x], [1,0,0])):\n",
        "      predunverifiedacfake += 1\n",
        "\n",
        "print(fake, true, unverified, predtrueacfake, predtrueacunverified, predfakeactrue, predfakeacunverified, predunverifiedactrue, predunverifiedacfake)\n"
      ]
    }
  ],
  "metadata": {
    "accelerator": "GPU",
    "colab": {
      "collapsed_sections": [],
      "name": "Official fake news classifier.ipynb",
      "provenance": []
    },
    "kernelspec": {
      "display_name": "Python 3 (ipykernel)",
      "language": "python",
      "name": "python3"
    },
    "language_info": {
      "codemirror_mode": {
        "name": "ipython",
        "version": 3
      },
      "file_extension": ".py",
      "mimetype": "text/x-python",
      "name": "python",
      "nbconvert_exporter": "python",
      "pygments_lexer": "ipython3",
      "version": "3.9.7"
    }
  },
  "nbformat": 4,
  "nbformat_minor": 0
}