{
 "cells": [
  {
   "cell_type": "code",
   "execution_count": 1,
   "metadata": {
    "id": "inaDTTsfjf_B"
   },
   "outputs": [
    {
     "name": "stderr",
     "output_type": "stream",
     "text": [
      "C:\\Users\\helen\\anaconda3\\envs\\fakenews\\lib\\site-packages\\gensim\\similarities\\__init__.py:15: UserWarning: The gensim.similarities.levenshtein submodule is disabled, because the optional Levenshtein package <https://pypi.org/project/python-Levenshtein/> is unavailable. Install Levenhstein (e.g. `pip install python-Levenshtein`) to suppress this warning.\n",
      "  warnings.warn(msg)\n"
     ]
    }
   ],
   "source": [
    "import tensorflow as tf\n",
    "import keras\n",
    "import pandas as pd\n",
    "import gensim\n",
    "import matplotlib.pyplot as plt\n",
    "import seaborn as sns\n",
    "import numpy as np\n",
    "from sklearn.model_selection import train_test_split\n",
    "from keras.models import Sequential\n",
    "from keras.layers import Dense, Conv1D, Flatten, MaxPooling1D, LSTM, Embedding, Input, Dropout\n",
    "from sklearn.model_selection import train_test_split\n",
    "from sklearn.metrics import multilabel_confusion_matrix\n",
    "from numpy import unique\n",
    "from tensorflow.keras import layers\n",
    "from tensorflow.math import confusion_matrix"
   ]
  },
  {
   "cell_type": "code",
   "execution_count": 2,
   "metadata": {
    "colab": {
     "base_uri": "https://localhost:8080/"
    },
    "id": "Xn5pNhBhjsyo",
    "outputId": "7ba48825-080d-457d-ed5d-50bf04ccdb3a"
   },
   "outputs": [
    {
     "name": "stdout",
     "output_type": "stream",
     "text": [
      "Num GPUs Available:  0\n",
      "[]\n"
     ]
    }
   ],
   "source": [
    "print  (\"Num GPUs Available: \", len(tf.config.list_physical_devices('GPU')))\n",
    "print(tf.config.list_physical_devices('GPU'))"
   ]
  },
  {
   "cell_type": "code",
   "execution_count": 3,
   "metadata": {
    "colab": {
     "base_uri": "https://localhost:8080/"
    },
    "id": "p1PGu421jtQX",
    "outputId": "4990cbf2-a649-4134-a2fb-01459bf74ec9"
   },
   "outputs": [
    {
     "name": "stdout",
     "output_type": "stream",
     "text": [
      "<function list_physical_devices at 0x00000217C71E47B8>\n"
     ]
    }
   ],
   "source": [
    "print(tf.config.list_physical_devices)"
   ]
  },
  {
   "cell_type": "code",
   "execution_count": 4,
   "metadata": {
    "colab": {
     "base_uri": "https://localhost:8080/"
    },
    "id": "K9TfmC6DjvXJ",
    "outputId": "4d17ea35-9b03-410b-e63b-5e0244ff8fa0"
   },
   "outputs": [
    {
     "name": "stdout",
     "output_type": "stream",
     "text": [
      "[name: \"/device:CPU:0\"\n",
      "device_type: \"CPU\"\n",
      "memory_limit: 268435456\n",
      "locality {\n",
      "}\n",
      "incarnation: 13800032239222285921\n",
      "]\n"
     ]
    }
   ],
   "source": [
    "from tensorflow.python.client import device_lib \n",
    "print(device_lib.list_local_devices())"
   ]
  },
  {
   "cell_type": "code",
   "execution_count": 5,
   "metadata": {
    "colab": {
     "base_uri": "https://localhost:8080/",
     "height": 721
    },
    "id": "yWddMcVkjzp9",
    "outputId": "dcfa115e-47be-4f81-d7e6-b98d01ec82b6"
   },
   "outputs": [
    {
     "data": {
      "text/html": [
       "<div>\n",
       "<style scoped>\n",
       "    .dataframe tbody tr th:only-of-type {\n",
       "        vertical-align: middle;\n",
       "    }\n",
       "\n",
       "    .dataframe tbody tr th {\n",
       "        vertical-align: top;\n",
       "    }\n",
       "\n",
       "    .dataframe thead th {\n",
       "        text-align: right;\n",
       "    }\n",
       "</style>\n",
       "<table border=\"1\" class=\"dataframe\">\n",
       "  <thead>\n",
       "    <tr style=\"text-align: right;\">\n",
       "      <th></th>\n",
       "      <th>Unnamed: 0</th>\n",
       "      <th>news_id</th>\n",
       "      <th>url</th>\n",
       "      <th>publisher</th>\n",
       "      <th>publish_date</th>\n",
       "      <th>author</th>\n",
       "      <th>title</th>\n",
       "      <th>image</th>\n",
       "      <th>body_text</th>\n",
       "      <th>political_bias</th>\n",
       "      <th>country</th>\n",
       "      <th>reliability</th>\n",
       "    </tr>\n",
       "  </thead>\n",
       "  <tbody>\n",
       "    <tr>\n",
       "      <th>0</th>\n",
       "      <td>0</td>\n",
       "      <td>0</td>\n",
       "      <td>https://www.nytimes.com/article/what-is-corona...</td>\n",
       "      <td>The New York Times</td>\n",
       "      <td>2020-01-21</td>\n",
       "      <td>['Knvul Sheikh', 'Roni Caryn Rabin']</td>\n",
       "      <td>The Coronavirus: What Scientists Have Learned ...</td>\n",
       "      <td>https://static01.nyt.com/images/2020/03/12/sci...</td>\n",
       "      <td>\\nA novel respiratory virus that originated in...</td>\n",
       "      <td>Left</td>\n",
       "      <td>USA</td>\n",
       "      <td>1</td>\n",
       "    </tr>\n",
       "    <tr>\n",
       "      <th>1</th>\n",
       "      <td>1</td>\n",
       "      <td>1</td>\n",
       "      <td>https://www.npr.org/2020/01/22/798392172/chine...</td>\n",
       "      <td>National Public Radio (NPR)</td>\n",
       "      <td>2020-01-22</td>\n",
       "      <td>['Emily Feng']</td>\n",
       "      <td>Chinese Health Officials: More Die From Newly ...</td>\n",
       "      <td>https://media.npr.org/include/images/facebook-...</td>\n",
       "      <td>Chinese Health Officials: More Die From Newly ...</td>\n",
       "      <td>Center</td>\n",
       "      <td>USA</td>\n",
       "      <td>1</td>\n",
       "    </tr>\n",
       "    <tr>\n",
       "      <th>2</th>\n",
       "      <td>2</td>\n",
       "      <td>2</td>\n",
       "      <td>https://www.theverge.com/2020/1/23/21078457/co...</td>\n",
       "      <td>The Verge</td>\n",
       "      <td>2020-01-23</td>\n",
       "      <td>['Nicole Wetsman']</td>\n",
       "      <td>Everything you need to know about the coronavirus</td>\n",
       "      <td>https://cdn.vox-cdn.com/thumbor/a9_Oz7cvSBKyal...</td>\n",
       "      <td>Public health experts around the globe are scr...</td>\n",
       "      <td>Left-center</td>\n",
       "      <td>USA</td>\n",
       "      <td>1</td>\n",
       "    </tr>\n",
       "    <tr>\n",
       "      <th>3</th>\n",
       "      <td>3</td>\n",
       "      <td>3</td>\n",
       "      <td>https://www.worldhealth.net/news/novel-coronav...</td>\n",
       "      <td>WorldHealth.Net</td>\n",
       "      <td>2020-01-24</td>\n",
       "      <td>[]</td>\n",
       "      <td>Novel Coronavirus Cases Confirmed To Be Spreading</td>\n",
       "      <td>https://www.worldhealth.net/media/original_ima...</td>\n",
       "      <td>The first two coronavirus cases in Europe have...</td>\n",
       "      <td>NaN</td>\n",
       "      <td>USA</td>\n",
       "      <td>0</td>\n",
       "    </tr>\n",
       "    <tr>\n",
       "      <th>4</th>\n",
       "      <td>4</td>\n",
       "      <td>4</td>\n",
       "      <td>https://www.theverge.com/2020/1/24/21080845/co...</td>\n",
       "      <td>The Verge</td>\n",
       "      <td>2020-01-24</td>\n",
       "      <td>['Nicole Wetsman', 'Zoe Schiffer', 'Jay Peters...</td>\n",
       "      <td>Coronavirus disrupts the world: updates on the...</td>\n",
       "      <td>https://cdn.vox-cdn.com/thumbor/t2gt1SmEni4Mcr...</td>\n",
       "      <td>A new coronavirus appeared in Wuhan, China, at...</td>\n",
       "      <td>Left-center</td>\n",
       "      <td>USA</td>\n",
       "      <td>1</td>\n",
       "    </tr>\n",
       "  </tbody>\n",
       "</table>\n",
       "</div>"
      ],
      "text/plain": [
       "   Unnamed: 0  news_id                                                url  \\\n",
       "0           0        0  https://www.nytimes.com/article/what-is-corona...   \n",
       "1           1        1  https://www.npr.org/2020/01/22/798392172/chine...   \n",
       "2           2        2  https://www.theverge.com/2020/1/23/21078457/co...   \n",
       "3           3        3  https://www.worldhealth.net/news/novel-coronav...   \n",
       "4           4        4  https://www.theverge.com/2020/1/24/21080845/co...   \n",
       "\n",
       "                     publisher publish_date  \\\n",
       "0           The New York Times   2020-01-21   \n",
       "1  National Public Radio (NPR)   2020-01-22   \n",
       "2                    The Verge   2020-01-23   \n",
       "3              WorldHealth.Net   2020-01-24   \n",
       "4                    The Verge   2020-01-24   \n",
       "\n",
       "                                              author  \\\n",
       "0               ['Knvul Sheikh', 'Roni Caryn Rabin']   \n",
       "1                                     ['Emily Feng']   \n",
       "2                                 ['Nicole Wetsman']   \n",
       "3                                                 []   \n",
       "4  ['Nicole Wetsman', 'Zoe Schiffer', 'Jay Peters...   \n",
       "\n",
       "                                               title  \\\n",
       "0  The Coronavirus: What Scientists Have Learned ...   \n",
       "1  Chinese Health Officials: More Die From Newly ...   \n",
       "2  Everything you need to know about the coronavirus   \n",
       "3  Novel Coronavirus Cases Confirmed To Be Spreading   \n",
       "4  Coronavirus disrupts the world: updates on the...   \n",
       "\n",
       "                                               image  \\\n",
       "0  https://static01.nyt.com/images/2020/03/12/sci...   \n",
       "1  https://media.npr.org/include/images/facebook-...   \n",
       "2  https://cdn.vox-cdn.com/thumbor/a9_Oz7cvSBKyal...   \n",
       "3  https://www.worldhealth.net/media/original_ima...   \n",
       "4  https://cdn.vox-cdn.com/thumbor/t2gt1SmEni4Mcr...   \n",
       "\n",
       "                                           body_text political_bias country  \\\n",
       "0  \\nA novel respiratory virus that originated in...           Left     USA   \n",
       "1  Chinese Health Officials: More Die From Newly ...         Center     USA   \n",
       "2  Public health experts around the globe are scr...    Left-center     USA   \n",
       "3  The first two coronavirus cases in Europe have...            NaN     USA   \n",
       "4  A new coronavirus appeared in Wuhan, China, at...    Left-center     USA   \n",
       "\n",
       "   reliability  \n",
       "0            1  \n",
       "1            1  \n",
       "2            1  \n",
       "3            0  \n",
       "4            1  "
      ]
     },
     "execution_count": 5,
     "metadata": {},
     "output_type": "execute_result"
    }
   ],
   "source": [
    "test = pd.read_csv(\"C:/Users/helen/Fake News/recovery-news-data.csv\")\n",
    "test.columns\n",
    "test.head()"
   ]
  },
  {
   "cell_type": "code",
   "execution_count": 6,
   "metadata": {
    "colab": {
     "base_uri": "https://localhost:8080/"
    },
    "id": "P6xCM8fqkHAF",
    "outputId": "b0b17ae4-5964-430b-fdd5-3df1146eede7"
   },
   "outputs": [
    {
     "data": {
      "text/plain": [
       "1    1364\n",
       "0     665\n",
       "Name: reliability, dtype: int64"
      ]
     },
     "execution_count": 6,
     "metadata": {},
     "output_type": "execute_result"
    }
   ],
   "source": [
    "test['reliability'].value_counts()"
   ]
  },
  {
   "cell_type": "code",
   "execution_count": 7,
   "metadata": {
    "colab": {
     "base_uri": "https://localhost:8080/",
     "height": 405
    },
    "id": "UQFlwqRHkJgR",
    "outputId": "17c3d067-1832-4eb8-9b11-14f54d62770d"
   },
   "outputs": [
    {
     "data": {
      "text/plain": [
       "<AxesSubplot:xlabel='reliability', ylabel='count'>"
      ]
     },
     "execution_count": 7,
     "metadata": {},
     "output_type": "execute_result"
    },
    {
     "data": {
      "image/png": "[encoded data removed]",
      "text/plain": [
       "<Figure size 720x432 with 1 Axes>"
      ]
     },
     "metadata": {
      "needs_background": "light"
     },
     "output_type": "display_data"
    }
   ],
   "source": [
    "plt.figure(figsize=(10,6))\n",
    "sns.countplot(x='reliability', data=test)\n",
    "# 1 = reliable\n",
    "# 0 = unreliable"
   ]
  },
  {
   "cell_type": "code",
   "execution_count": 8,
   "metadata": {
    "id": "KXHfauGSkLjg"
   },
   "outputs": [],
   "source": [
    "test['body_text'] = test['body_text'].apply(lambda x: str(x).lower())"
   ]
  },
  {
   "cell_type": "code",
   "execution_count": 9,
   "metadata": {
    "id": "5nHf76MrkN_l"
   },
   "outputs": [],
   "source": [
    "test = test[['body_text', 'reliability']]"
   ]
  },
  {
   "cell_type": "code",
   "execution_count": 10,
   "metadata": {
    "colab": {
     "base_uri": "https://localhost:8080/"
    },
    "id": "Z1Xm1g_4kQ4I",
    "outputId": "81f07091-7874-46f4-e197-151576759cf7"
   },
   "outputs": [],
   "source": [
    "test['reliability'] = test['reliability'].astype(float)"
   ]
  },
  {
   "cell_type": "code",
   "execution_count": 11,
   "metadata": {},
   "outputs": [
    {
     "data": {
      "text/plain": [
       "<spacy.lang.en.English at 0x217d3e61f98>"
      ]
     },
     "execution_count": 11,
     "metadata": {},
     "output_type": "execute_result"
    }
   ],
   "source": [
    "import spacy\n",
    "spacy.load('en_core_web_sm')"
   ]
  },
  {
   "cell_type": "code",
   "execution_count": 12,
   "metadata": {
    "colab": {
     "base_uri": "https://localhost:8080/"
    },
    "id": "vOM2g_oBkSMV",
    "outputId": "c2323151-7739-4364-fa5a-97030730c8cf"
   },
   "outputs": [
    {
     "name": "stderr",
     "output_type": "stream",
     "text": [
      "WARNING: Ignoring invalid distribution -rpcio (c:\\users\\helen\\anaconda3\\envs\\fakenews\\lib\\site-packages)\n",
      "WARNING: Ignoring invalid distribution -rpcio (c:\\users\\helen\\anaconda3\\envs\\fakenews\\lib\\site-packages)\n",
      "WARNING: Ignoring invalid distribution -rpcio (c:\\users\\helen\\anaconda3\\envs\\fakenews\\lib\\site-packages)\n",
      "WARNING: Ignoring invalid distribution -rpcio (c:\\users\\helen\\anaconda3\\envs\\fakenews\\lib\\site-packages)\n",
      "WARNING: Ignoring invalid distribution -rpcio (c:\\users\\helen\\anaconda3\\envs\\fakenews\\lib\\site-packages)\n",
      "WARNING: Ignoring invalid distribution -rpcio (c:\\users\\helen\\anaconda3\\envs\\fakenews\\lib\\site-packages)\n"
     ]
    },
    {
     "name": "stdout",
     "output_type": "stream",
     "text": [
      "Requirement already satisfied: beautifulsoup4==4.9.1 in c:\\users\\helen\\anaconda3\\envs\\fakenews\\lib\\site-packages (4.9.1)\n",
      "Requirement already satisfied: soupsieve>1.2 in c:\\users\\helen\\anaconda3\\envs\\fakenews\\lib\\site-packages (from beautifulsoup4==4.9.1) (2.3.1)\n",
      "Requirement already satisfied: textblob==0.15.3 in c:\\users\\helen\\anaconda3\\envs\\fakenews\\lib\\site-packages (0.15.3)\n",
      "Requirement already satisfied: nltk>=3.1 in c:\\users\\helen\\anaconda3\\envs\\fakenews\\lib\\site-packages (from textblob==0.15.3) (3.6.7)\n",
      "Requirement already satisfied: joblib in c:\\users\\helen\\anaconda3\\envs\\fakenews\\lib\\site-packages (from nltk>=3.1->textblob==0.15.3) (1.0.1)\n",
      "Requirement already satisfied: click in c:\\users\\helen\\anaconda3\\envs\\fakenews\\lib\\site-packages (from nltk>=3.1->textblob==0.15.3) (7.1.2)\n",
      "Requirement already satisfied: regex>=2021.8.3 in c:\\users\\helen\\anaconda3\\envs\\fakenews\\lib\\site-packages (from nltk>=3.1->textblob==0.15.3) (2021.11.10)\n",
      "Requirement already satisfied: tqdm in c:\\users\\helen\\anaconda3\\envs\\fakenews\\lib\\site-packages (from nltk>=3.1->textblob==0.15.3) (4.62.3)\n",
      "Requirement already satisfied: colorama in c:\\users\\helen\\anaconda3\\envs\\fakenews\\lib\\site-packages (from tqdm->nltk>=3.1->textblob==0.15.3) (0.4.4)\n"
     ]
    },
    {
     "name": "stderr",
     "output_type": "stream",
     "text": [
      "WARNING: Ignoring invalid distribution -rpcio (c:\\users\\helen\\anaconda3\\envs\\fakenews\\lib\\site-packages)\n",
      "WARNING: Ignoring invalid distribution -rpcio (c:\\users\\helen\\anaconda3\\envs\\fakenews\\lib\\site-packages)\n",
      "WARNING: Ignoring invalid distribution -rpcio (c:\\users\\helen\\anaconda3\\envs\\fakenews\\lib\\site-packages)\n",
      "WARNING: Ignoring invalid distribution -rpcio (c:\\users\\helen\\anaconda3\\envs\\fakenews\\lib\\site-packages)\n",
      "WARNING: Ignoring invalid distribution -rpcio (c:\\users\\helen\\anaconda3\\envs\\fakenews\\lib\\site-packages)\n",
      "WARNING: Ignoring invalid distribution -rpcio (c:\\users\\helen\\anaconda3\\envs\\fakenews\\lib\\site-packages)\n"
     ]
    },
    {
     "name": "stdout",
     "output_type": "stream",
     "text": [
      "Collecting git+https://github.com/laxmimerit/preprocess_kgptalkie.git\n",
      "  Cloning https://github.com/laxmimerit/preprocess_kgptalkie.git to c:\\users\\helen\\appdata\\local\\temp\\pip-req-build-c99g23lo\n",
      "  Resolved https://github.com/laxmimerit/preprocess_kgptalkie.git to commit 9ca68d37027af9f6a30d54640347ce3b2e2694b3\n",
      "Building wheels for collected packages: preprocess-kgptalkie\n",
      "  Building wheel for preprocess-kgptalkie (setup.py): started\n",
      "  Building wheel for preprocess-kgptalkie (setup.py): finished with status 'done'\n",
      "  Created wheel for preprocess-kgptalkie: filename=preprocess_kgptalkie-0.1.3-py3-none-any.whl size=7692 sha256=74c40f057e68e77551e0ca90d835e9c15f6d954775af66a6fd2010787bfa6fe8\n",
      "  Stored in directory: C:\\Users\\helen\\AppData\\Local\\Temp\\pip-ephem-wheel-cache-wuipnlk2\\wheels\\cd\\26\\af\\103cfac199bd773bfc95ed85a52fe9095e4d902ed9ac3b0c97\n"
     ]
    },
    {
     "name": "stderr",
     "output_type": "stream",
     "text": [
      "WARNING: Ignoring invalid distribution -rpcio (c:\\users\\helen\\anaconda3\\envs\\fakenews\\lib\\site-packages)\n",
      "WARNING: Ignoring invalid distribution -rpcio (c:\\users\\helen\\anaconda3\\envs\\fakenews\\lib\\site-packages)\n",
      "  Running command git clone -q https://github.com/laxmimerit/preprocess_kgptalkie.git 'C:\\Users\\helen\\AppData\\Local\\Temp\\pip-req-build-c99g23lo'\n",
      "WARNING: Ignoring invalid distribution -rpcio (c:\\users\\helen\\anaconda3\\envs\\fakenews\\lib\\site-packages)\n",
      "    WARNING: Ignoring invalid distribution -rpcio (c:\\users\\helen\\anaconda3\\envs\\fakenews\\lib\\site-packages)\n",
      "WARNING: Ignoring invalid distribution -rpcio (c:\\users\\helen\\anaconda3\\envs\\fakenews\\lib\\site-packages)\n",
      "WARNING: Ignoring invalid distribution -rpcio (c:\\users\\helen\\anaconda3\\envs\\fakenews\\lib\\site-packages)\n",
      "WARNING: Ignoring invalid distribution -rpcio (c:\\users\\helen\\anaconda3\\envs\\fakenews\\lib\\site-packages)\n",
      "WARNING: Ignoring invalid distribution -rpcio (c:\\users\\helen\\anaconda3\\envs\\fakenews\\lib\\site-packages)\n"
     ]
    },
    {
     "name": "stdout",
     "output_type": "stream",
     "text": [
      "Successfully built preprocess-kgptalkie\n",
      "Installing collected packages: preprocess-kgptalkie\n",
      "  Attempting uninstall: preprocess-kgptalkie\n",
      "    Found existing installation: preprocess-kgptalkie 0.1.3\n",
      "    Uninstalling preprocess-kgptalkie-0.1.3:\n",
      "      Successfully uninstalled preprocess-kgptalkie-0.1.3\n",
      "Successfully installed preprocess-kgptalkie-0.1.3\n"
     ]
    }
   ],
   "source": [
    "#!pip install spacy== 3.0.0\n",
    "#!python -m spacy download en_core_web_sm\n",
    "!pip install beautifulsoup4==4.9.1\n",
    "!pip install textblob==0.15.3\n",
    "!pip install git+https://github.com/laxmimerit/preprocess_kgptalkie.git --upgrade --force-reinstall"
   ]
  },
  {
   "cell_type": "code",
   "execution_count": 13,
   "metadata": {
    "id": "ZZPCf4ShkUDi"
   },
   "outputs": [],
   "source": [
    "import preprocess_kgptalkie as ps"
   ]
  },
  {
   "cell_type": "code",
   "execution_count": 14,
   "metadata": {
    "colab": {
     "base_uri": "https://localhost:8080/"
    },
    "id": "NltNzKwwkWUn",
    "outputId": "32f0f4d0-2d5f-41aa-9bb6-466cb2e209a7"
   },
   "outputs": [],
   "source": [
    "test['body_text'] = test['body_text'].apply(lambda x: ps.remove_special_chars(x))"
   ]
  },
  {
   "cell_type": "code",
   "execution_count": 15,
   "metadata": {
    "colab": {
     "base_uri": "https://localhost:8080/",
     "height": 423
    },
    "id": "dF2Oeu1Pomtl",
    "outputId": "173c3745-3ce0-4575-f77e-9deb38edaaed"
   },
   "outputs": [
    {
     "data": {
      "text/html": [
       "<div>\n",
       "<style scoped>\n",
       "    .dataframe tbody tr th:only-of-type {\n",
       "        vertical-align: middle;\n",
       "    }\n",
       "\n",
       "    .dataframe tbody tr th {\n",
       "        vertical-align: top;\n",
       "    }\n",
       "\n",
       "    .dataframe thead th {\n",
       "        text-align: right;\n",
       "    }\n",
       "</style>\n",
       "<table border=\"1\" class=\"dataframe\">\n",
       "  <thead>\n",
       "    <tr style=\"text-align: right;\">\n",
       "      <th></th>\n",
       "      <th>body_text</th>\n",
       "      <th>reliability</th>\n",
       "    </tr>\n",
       "  </thead>\n",
       "  <tbody>\n",
       "    <tr>\n",
       "      <th>0</th>\n",
       "      <td>a novel respiratory virus that originated in w...</td>\n",
       "      <td>1.0</td>\n",
       "    </tr>\n",
       "    <tr>\n",
       "      <th>1</th>\n",
       "      <td>chinese health officials more die from newly i...</td>\n",
       "      <td>1.0</td>\n",
       "    </tr>\n",
       "    <tr>\n",
       "      <th>2</th>\n",
       "      <td>public health experts around the globe are scr...</td>\n",
       "      <td>1.0</td>\n",
       "    </tr>\n",
       "    <tr>\n",
       "      <th>3</th>\n",
       "      <td>the first two coronavirus cases in europe have...</td>\n",
       "      <td>0.0</td>\n",
       "    </tr>\n",
       "    <tr>\n",
       "      <th>4</th>\n",
       "      <td>a new coronavirus appeared in wuhan china at t...</td>\n",
       "      <td>1.0</td>\n",
       "    </tr>\n",
       "    <tr>\n",
       "      <th>...</th>\n",
       "      <td>...</td>\n",
       "      <td>...</td>\n",
       "    </tr>\n",
       "    <tr>\n",
       "      <th>2024</th>\n",
       "      <td>robert gauthierlos angeles timestns people wal...</td>\n",
       "      <td>0.0</td>\n",
       "    </tr>\n",
       "    <tr>\n",
       "      <th>2025</th>\n",
       "      <td>michael moore for decades on the political fro...</td>\n",
       "      <td>0.0</td>\n",
       "    </tr>\n",
       "    <tr>\n",
       "      <th>2026</th>\n",
       "      <td>heather khalifathe philadelphia inquirertns vo...</td>\n",
       "      <td>0.0</td>\n",
       "    </tr>\n",
       "    <tr>\n",
       "      <th>2027</th>\n",
       "      <td>nearly half of the twitter accounts sharing in...</td>\n",
       "      <td>0.0</td>\n",
       "    </tr>\n",
       "    <tr>\n",
       "      <th>2028</th>\n",
       "      <td>in brief the facts major events have a lasting...</td>\n",
       "      <td>0.0</td>\n",
       "    </tr>\n",
       "  </tbody>\n",
       "</table>\n",
       "<p>2029 rows × 2 columns</p>\n",
       "</div>"
      ],
      "text/plain": [
       "                                              body_text  reliability\n",
       "0     a novel respiratory virus that originated in w...          1.0\n",
       "1     chinese health officials more die from newly i...          1.0\n",
       "2     public health experts around the globe are scr...          1.0\n",
       "3     the first two coronavirus cases in europe have...          0.0\n",
       "4     a new coronavirus appeared in wuhan china at t...          1.0\n",
       "...                                                 ...          ...\n",
       "2024  robert gauthierlos angeles timestns people wal...          0.0\n",
       "2025  michael moore for decades on the political fro...          0.0\n",
       "2026  heather khalifathe philadelphia inquirertns vo...          0.0\n",
       "2027  nearly half of the twitter accounts sharing in...          0.0\n",
       "2028  in brief the facts major events have a lasting...          0.0\n",
       "\n",
       "[2029 rows x 2 columns]"
      ]
     },
     "execution_count": 15,
     "metadata": {},
     "output_type": "execute_result"
    }
   ],
   "source": [
    "test"
   ]
  },
  {
   "cell_type": "code",
   "execution_count": 16,
   "metadata": {
    "id": "hxcw8yFskXuK"
   },
   "outputs": [],
   "source": [
    "x = [d.split() for d in test['body_text'].tolist()]\n",
    "y = test['reliability'].values"
   ]
  },
  {
   "cell_type": "code",
   "execution_count": 17,
   "metadata": {
    "colab": {
     "base_uri": "https://localhost:8080/"
    },
    "id": "tnlLkzJGkcq9",
    "outputId": "815a7f9b-f2d4-4552-988d-abb1c688a30e"
   },
   "outputs": [
    {
     "name": "stdout",
     "output_type": "stream",
     "text": [
      "Requirement already satisfied: imbalanced-learn in c:\\users\\helen\\anaconda3\\envs\\fakenews\\lib\\site-packages (0.8.1)\n",
      "Requirement already satisfied: numpy>=1.13.3 in c:\\users\\helen\\anaconda3\\envs\\fakenews\\lib\\site-packages (from imbalanced-learn) (1.19.5)\n",
      "Requirement already satisfied: scipy>=0.19.1 in c:\\users\\helen\\anaconda3\\envs\\fakenews\\lib\\site-packages (from imbalanced-learn) (1.5.2)\n",
      "Requirement already satisfied: scikit-learn>=0.24 in c:\\users\\helen\\anaconda3\\envs\\fakenews\\lib\\site-packages (from imbalanced-learn) (0.24.2)\n",
      "Requirement already satisfied: joblib>=0.11 in c:\\users\\helen\\anaconda3\\envs\\fakenews\\lib\\site-packages (from imbalanced-learn) (1.0.1)\n",
      "Requirement already satisfied: threadpoolctl>=2.0.0 in c:\\users\\helen\\anaconda3\\envs\\fakenews\\lib\\site-packages (from scikit-learn>=0.24->imbalanced-learn) (2.2.0)\n",
      "Note: you may need to restart the kernel to use updated packages.\n"
     ]
    },
    {
     "name": "stderr",
     "output_type": "stream",
     "text": [
      "WARNING: Ignoring invalid distribution -rpcio (c:\\users\\helen\\anaconda3\\envs\\fakenews\\lib\\site-packages)\n",
      "WARNING: Ignoring invalid distribution -rpcio (c:\\users\\helen\\anaconda3\\envs\\fakenews\\lib\\site-packages)\n",
      "WARNING: Ignoring invalid distribution -rpcio (c:\\users\\helen\\anaconda3\\envs\\fakenews\\lib\\site-packages)\n",
      "WARNING: Ignoring invalid distribution -rpcio (c:\\users\\helen\\anaconda3\\envs\\fakenews\\lib\\site-packages)\n",
      "WARNING: Ignoring invalid distribution -rpcio (c:\\users\\helen\\anaconda3\\envs\\fakenews\\lib\\site-packages)\n",
      "WARNING: Ignoring invalid distribution -rpcio (c:\\users\\helen\\anaconda3\\envs\\fakenews\\lib\\site-packages)\n"
     ]
    }
   ],
   "source": [
    "pip install imbalanced-learn"
   ]
  },
  {
   "cell_type": "code",
   "execution_count": 18,
   "metadata": {
    "colab": {
     "base_uri": "https://localhost:8080/"
    },
    "id": "zb-vX7rvkeKe",
    "outputId": "246351c4-7db8-4aaa-f726-deef49a6811d"
   },
   "outputs": [
    {
     "name": "stdout",
     "output_type": "stream",
     "text": [
      "2029\n"
     ]
    }
   ],
   "source": [
    "print(len(x))"
   ]
  },
  {
   "cell_type": "code",
   "execution_count": 19,
   "metadata": {
    "id": "BdEhuTOskg51"
   },
   "outputs": [],
   "source": [
    "DIM = 400\n",
    "w2v_model = gensim.models.Word2Vec(sentences=x, vector_size=DIM, window=10, min_count=1)"
   ]
  },
  {
   "cell_type": "code",
   "execution_count": 20,
   "metadata": {
    "colab": {
     "base_uri": "https://localhost:8080/"
    },
    "id": "qSWcus5hklcm",
    "outputId": "42713203-a131-4f0c-eda8-b5e01378e5bf"
   },
   "outputs": [
    {
     "data": {
      "text/plain": [
       "84171"
      ]
     },
     "execution_count": 20,
     "metadata": {},
     "output_type": "execute_result"
    }
   ],
   "source": [
    "len(w2v_model.wv.key_to_index)"
   ]
  },
  {
   "cell_type": "code",
   "execution_count": 21,
   "metadata": {
    "id": "iFBb336ck2-S"
   },
   "outputs": [],
   "source": [
    "tokenizer = tf.keras.preprocessing.text.Tokenizer()\n",
    "tokenizer.fit_on_texts(x)"
   ]
  },
  {
   "cell_type": "code",
   "execution_count": 22,
   "metadata": {
    "id": "jd604c77k4SX"
   },
   "outputs": [],
   "source": [
    "x = tokenizer.texts_to_sequences(x)"
   ]
  },
  {
   "cell_type": "code",
   "execution_count": 23,
   "metadata": {
    "colab": {
     "base_uri": "https://localhost:8080/",
     "height": 265
    },
    "id": "r-V0IBZBk5fN",
    "outputId": "49a809ec-1f60-455d-feb7-a5b968366f92"
   },
   "outputs": [
    {
     "data": {
      "image/png": "[encoded data removed]",
      "text/plain": [
       "<Figure size 432x288 with 1 Axes>"
      ]
     },
     "metadata": {
      "needs_background": "light"
     },
     "output_type": "display_data"
    }
   ],
   "source": [
    "plt.hist([len(a) for a in x], bins = 700)\n",
    "plt.xlabel(\"Character Count\")\n",
    "plt.ylabel(\"Number of Articles\")\n",
    "plt.show()"
   ]
  },
  {
   "cell_type": "code",
   "execution_count": 24,
   "metadata": {
    "colab": {
     "base_uri": "https://localhost:8080/"
    },
    "id": "uegb7kuRk6xQ",
    "outputId": "b82e0ec9-2c90-4f0d-f76d-9a28b9fe073f"
   },
   "outputs": [
    {
     "data": {
      "text/plain": [
       "490"
      ]
     },
     "execution_count": 24,
     "metadata": {},
     "output_type": "execute_result"
    }
   ],
   "source": [
    "nos = np.array([len(a) for a in x])\n",
    "len(nos[nos>1000])"
   ]
  },
  {
   "cell_type": "code",
   "execution_count": 25,
   "metadata": {
    "id": "JfCZt1NXk88H"
   },
   "outputs": [],
   "source": [
    "maxlen = 100\n",
    "x = tf.keras.preprocessing.sequence.pad_sequences(x, maxlen=maxlen)"
   ]
  },
  {
   "cell_type": "code",
   "execution_count": 26,
   "metadata": {
    "id": "6PxJgLW4k-P0"
   },
   "outputs": [],
   "source": [
    "vocab_size = len(tokenizer.word_index) + 1\n",
    "vocab = tokenizer.word_index"
   ]
  },
  {
   "cell_type": "code",
   "execution_count": 27,
   "metadata": {
    "id": "ToVB6dVqlAI9"
   },
   "outputs": [],
   "source": [
    "def get_weight_matrix(model):\n",
    "    weight_matrix = np.zeros((vocab_size, DIM))\n",
    "    \n",
    "    for word, i in vocab.items():\n",
    "        try:\n",
    "            weight_matrix[i] = model.wv[word]\n",
    "        except:\n",
    "            print(\"whatever\")\n",
    "        \n",
    "    return weight_matrix"
   ]
  },
  {
   "cell_type": "code",
   "execution_count": 28,
   "metadata": {
    "id": "_SnH_lYDlB7x"
   },
   "outputs": [],
   "source": [
    "embedding_vectors = get_weight_matrix(w2v_model)"
   ]
  },
  {
   "cell_type": "code",
   "execution_count": 29,
   "metadata": {
    "colab": {
     "base_uri": "https://localhost:8080/"
    },
    "id": "y5X_QRfTlDNE",
    "outputId": "23cc32bb-ac81-4f5f-e5c9-74c9c5194323"
   },
   "outputs": [
    {
     "data": {
      "text/plain": [
       "(84172, 400)"
      ]
     },
     "execution_count": 29,
     "metadata": {},
     "output_type": "execute_result"
    }
   ],
   "source": [
    "embedding_vectors.shape"
   ]
  },
  {
   "cell_type": "code",
   "execution_count": 30,
   "metadata": {
    "colab": {
     "base_uri": "https://localhost:8080/"
    },
    "id": "6VbqeGVclEdX",
    "outputId": "45dca075-2f71-4036-985e-64461ea776a1"
   },
   "outputs": [
    {
     "data": {
      "text/plain": [
       "100"
      ]
     },
     "execution_count": 30,
     "metadata": {},
     "output_type": "execute_result"
    }
   ],
   "source": [
    "maxlen"
   ]
  },
  {
   "cell_type": "code",
   "execution_count": 31,
   "metadata": {
    "colab": {
     "base_uri": "https://localhost:8080/"
    },
    "id": "Yo3h6MSclGoJ",
    "outputId": "15e8f09b-1b99-4ac4-fe34-45505325dc47"
   },
   "outputs": [
    {
     "name": "stdout",
     "output_type": "stream",
     "text": [
      "Model: \"sequential\"\n",
      "_________________________________________________________________\n",
      "Layer (type)                 Output Shape              Param #   \n",
      "=================================================================\n",
      "embedding (Embedding)        (None, 100, 400)          33668800  \n",
      "_________________________________________________________________\n",
      "conv1d (Conv1D)              (None, 96, 128)           256128    \n",
      "_________________________________________________________________\n",
      "max_pooling1d (MaxPooling1D) (None, 48, 128)           0         \n",
      "_________________________________________________________________\n",
      "lstm (LSTM)                  (None, 32)                20608     \n",
      "_________________________________________________________________\n",
      "dense (Dense)                (None, 2)                 66        \n",
      "=================================================================\n",
      "Total params: 33,945,602\n",
      "Trainable params: 276,802\n",
      "Non-trainable params: 33,668,800\n",
      "_________________________________________________________________\n"
     ]
    }
   ],
   "source": [
    "model = Sequential()\n",
    "\n",
    "model.add(Embedding(vocab_size, output_dim=DIM, weights=[embedding_vectors], input_length=maxlen, trainable = False))\n",
    "model.add(Conv1D(128, 5, activation=\"relu\", input_dim=100))\n",
    "model.add(MaxPooling1D(pool_size=2, strides=2, padding=\"valid\")) \n",
    "model.add(LSTM(32))\n",
    "model.add(Dense(2, activation = 'sigmoid')) \n",
    "model.compile(loss = tf.keras.losses.BinaryCrossentropy(), \n",
    "    optimizer = \"Adam\",               \n",
    "              metrics = ['accuracy', 'Recall', 'Precision', 'TrueNegatives', 'TruePositives', 'FalsePositives', 'FalseNegatives'])\n",
    "model.summary()"
   ]
  },
  {
   "cell_type": "code",
   "execution_count": 32,
   "metadata": {},
   "outputs": [
    {
     "name": "stdout",
     "output_type": "stream",
     "text": [
      "2.6.2\n"
     ]
    }
   ],
   "source": [
    "from platform import python_version\n",
    "python_version()\n",
    "import tensorflow as tf\n",
    "print(tf.__version__)"
   ]
  },
  {
   "cell_type": "code",
   "execution_count": 33,
   "metadata": {
    "id": "bU7ADJuooWNs"
   },
   "outputs": [],
   "source": [
    "CNNRNNX_train, CNNRNNX_test, CNNRNNy_train, CNNRNNy_test = train_test_split(x, y, test_size=0.2)"
   ]
  },
  {
   "cell_type": "code",
   "execution_count": 34,
   "metadata": {},
   "outputs": [],
   "source": [
    "# [1, 0] is false [0, 1] is true\n",
    "CNNRNNy_train = [[1,0] if x==0.0 else [0,1] if x==1.0 else x for x in CNNRNNy_train]\n",
    "CNNRNNy_test = [[1,0] if x==0.0 else [0,1] if x==1.0 else x for x in CNNRNNy_test]"
   ]
  },
  {
   "cell_type": "code",
   "execution_count": 35,
   "metadata": {},
   "outputs": [],
   "source": [
    "CNNRNNy_train = np.array(CNNRNNy_train)\n",
    "CNNRNNy_test = np.array(CNNRNNy_test)"
   ]
  },
  {
   "cell_type": "code",
   "execution_count": 36,
   "metadata": {
    "colab": {
     "base_uri": "https://localhost:8080/"
    },
    "id": "YCxAl3iXlOJw",
    "outputId": "a717e6c0-f335-4e81-a196-0fc724d61ca5"
   },
   "outputs": [
    {
     "name": "stdout",
     "output_type": "stream",
     "text": [
      "26/26 [==============================] - 9s 103ms/step - loss: 0.5955 - accuracy: 0.7024 - recall: 0.7153 - precision: 0.6866 - true_negatives: 1093.0000 - true_positives: 1161.0000 - false_positives: 530.0000 - false_negatives: 462.0000\n"
     ]
    },
    {
     "data": {
      "text/plain": [
       "<keras.callbacks.History at 0x217e5480f98>"
      ]
     },
     "execution_count": 36,
     "metadata": {},
     "output_type": "execute_result"
    }
   ],
   "source": [
    "model.fit(CNNRNNX_train, CNNRNNy_train, epochs=1, batch_size=64)"
   ]
  },
  {
   "cell_type": "code",
   "execution_count": 37,
   "metadata": {
    "colab": {
     "base_uri": "https://localhost:8080/"
    },
    "id": "uw2-PcsxlQSF",
    "outputId": "39efbd9d-0f10-403a-d997-84a11f4d71af"
   },
   "outputs": [
    {
     "name": "stdout",
     "output_type": "stream",
     "text": [
      "13/13 [==============================] - 3s 27ms/step - loss: 0.5595 - accuracy: 0.7217 - recall: 0.7414 - precision: 0.7167 - true_negatives: 287.0000 - true_positives: 301.0000 - false_positives: 119.0000 - false_negatives: 105.0000\n"
     ]
    },
    {
     "data": {
      "text/plain": [
       "[0.5595079064369202,\n",
       " 0.7216748595237732,\n",
       " 0.7413793206214905,\n",
       " 0.7166666388511658,\n",
       " 287.0,\n",
       " 301.0,\n",
       " 119.0,\n",
       " 105.0]"
      ]
     },
     "execution_count": 37,
     "metadata": {},
     "output_type": "execute_result"
    }
   ],
   "source": [
    "model.evaluate(CNNRNNX_test, CNNRNNy_test)"
   ]
  },
  {
   "cell_type": "code",
   "execution_count": 38,
   "metadata": {
    "colab": {
     "base_uri": "https://localhost:8080/"
    },
    "id": "BjG8HpYVH6jT",
    "outputId": "cdc9c036-e462-4466-b656-1b659bacb119"
   },
   "outputs": [
    {
     "name": "stdout",
     "output_type": "stream",
     "text": [
      "Requirement already satisfied: whois in c:\\users\\helen\\anaconda3\\envs\\fakenews\\lib\\site-packages (0.9.13)\n"
     ]
    },
    {
     "name": "stderr",
     "output_type": "stream",
     "text": [
      "WARNING: Ignoring invalid distribution -rpcio (c:\\users\\helen\\anaconda3\\envs\\fakenews\\lib\\site-packages)\n",
      "WARNING: Ignoring invalid distribution -rpcio (c:\\users\\helen\\anaconda3\\envs\\fakenews\\lib\\site-packages)\n",
      "WARNING: Ignoring invalid distribution -rpcio (c:\\users\\helen\\anaconda3\\envs\\fakenews\\lib\\site-packages)\n",
      "WARNING: Ignoring invalid distribution -rpcio (c:\\users\\helen\\anaconda3\\envs\\fakenews\\lib\\site-packages)\n",
      "WARNING: Ignoring invalid distribution -rpcio (c:\\users\\helen\\anaconda3\\envs\\fakenews\\lib\\site-packages)\n",
      "WARNING: Ignoring invalid distribution -rpcio (c:\\users\\helen\\anaconda3\\envs\\fakenews\\lib\\site-packages)\n"
     ]
    },
    {
     "name": "stdout",
     "output_type": "stream",
     "text": [
      "Requirement already satisfied: pyquery in c:\\users\\helen\\anaconda3\\envs\\fakenews\\lib\\site-packages (1.4.3)\n",
      "Requirement already satisfied: lxml>=2.1 in c:\\users\\helen\\anaconda3\\envs\\fakenews\\lib\\site-packages (from pyquery) (4.7.1)\n",
      "Requirement already satisfied: cssselect>0.7.9 in c:\\users\\helen\\anaconda3\\envs\\fakenews\\lib\\site-packages (from pyquery) (1.1.0)\n"
     ]
    },
    {
     "name": "stderr",
     "output_type": "stream",
     "text": [
      "WARNING: Ignoring invalid distribution -rpcio (c:\\users\\helen\\anaconda3\\envs\\fakenews\\lib\\site-packages)\n",
      "WARNING: Ignoring invalid distribution -rpcio (c:\\users\\helen\\anaconda3\\envs\\fakenews\\lib\\site-packages)\n",
      "WARNING: Ignoring invalid distribution -rpcio (c:\\users\\helen\\anaconda3\\envs\\fakenews\\lib\\site-packages)\n",
      "WARNING: Ignoring invalid distribution -rpcio (c:\\users\\helen\\anaconda3\\envs\\fakenews\\lib\\site-packages)\n",
      "WARNING: Ignoring invalid distribution -rpcio (c:\\users\\helen\\anaconda3\\envs\\fakenews\\lib\\site-packages)\n",
      "WARNING: Ignoring invalid distribution -rpcio (c:\\users\\helen\\anaconda3\\envs\\fakenews\\lib\\site-packages)\n"
     ]
    },
    {
     "name": "stdout",
     "output_type": "stream",
     "text": [
      "Requirement already satisfied: tqdm in c:\\users\\helen\\anaconda3\\envs\\fakenews\\lib\\site-packages (4.62.3)\n",
      "Requirement already satisfied: colorama in c:\\users\\helen\\anaconda3\\envs\\fakenews\\lib\\site-packages (from tqdm) (0.4.4)\n"
     ]
    },
    {
     "name": "stderr",
     "output_type": "stream",
     "text": [
      "WARNING: Ignoring invalid distribution -rpcio (c:\\users\\helen\\anaconda3\\envs\\fakenews\\lib\\site-packages)\n",
      "WARNING: Ignoring invalid distribution -rpcio (c:\\users\\helen\\anaconda3\\envs\\fakenews\\lib\\site-packages)\n",
      "WARNING: Ignoring invalid distribution -rpcio (c:\\users\\helen\\anaconda3\\envs\\fakenews\\lib\\site-packages)\n",
      "WARNING: Ignoring invalid distribution -rpcio (c:\\users\\helen\\anaconda3\\envs\\fakenews\\lib\\site-packages)\n",
      "WARNING: Ignoring invalid distribution -rpcio (c:\\users\\helen\\anaconda3\\envs\\fakenews\\lib\\site-packages)\n",
      "WARNING: Ignoring invalid distribution -rpcio (c:\\users\\helen\\anaconda3\\envs\\fakenews\\lib\\site-packages)\n"
     ]
    },
    {
     "name": "stdout",
     "output_type": "stream",
     "text": [
      "Requirement already satisfied: interruptingcow in c:\\users\\helen\\anaconda3\\envs\\fakenews\\lib\\site-packages (0.8)\n"
     ]
    },
    {
     "name": "stderr",
     "output_type": "stream",
     "text": [
      "WARNING: Ignoring invalid distribution -rpcio (c:\\users\\helen\\anaconda3\\envs\\fakenews\\lib\\site-packages)\n",
      "WARNING: Ignoring invalid distribution -rpcio (c:\\users\\helen\\anaconda3\\envs\\fakenews\\lib\\site-packages)\n",
      "WARNING: Ignoring invalid distribution -rpcio (c:\\users\\helen\\anaconda3\\envs\\fakenews\\lib\\site-packages)\n",
      "WARNING: Ignoring invalid distribution -rpcio (c:\\users\\helen\\anaconda3\\envs\\fakenews\\lib\\site-packages)\n",
      "WARNING: Ignoring invalid distribution -rpcio (c:\\users\\helen\\anaconda3\\envs\\fakenews\\lib\\site-packages)\n",
      "WARNING: Ignoring invalid distribution -rpcio (c:\\users\\helen\\anaconda3\\envs\\fakenews\\lib\\site-packages)\n"
     ]
    },
    {
     "name": "stdout",
     "output_type": "stream",
     "text": [
      "Requirement already satisfied: requests in c:\\users\\helen\\anaconda3\\envs\\fakenews\\lib\\site-packages (2.26.0)\n",
      "Requirement already satisfied: charset-normalizer~=2.0.0 in c:\\users\\helen\\anaconda3\\envs\\fakenews\\lib\\site-packages (from requests) (2.0.4)\n",
      "Requirement already satisfied: certifi>=2017.4.17 in c:\\users\\helen\\anaconda3\\envs\\fakenews\\lib\\site-packages (from requests) (2020.6.20)\n",
      "Requirement already satisfied: idna<4,>=2.5 in c:\\users\\helen\\anaconda3\\envs\\fakenews\\lib\\site-packages (from requests) (3.3)\n",
      "Requirement already satisfied: urllib3<1.27,>=1.21.1 in c:\\users\\helen\\anaconda3\\envs\\fakenews\\lib\\site-packages (from requests) (1.26.7)\n"
     ]
    },
    {
     "name": "stderr",
     "output_type": "stream",
     "text": [
      "WARNING: Ignoring invalid distribution -rpcio (c:\\users\\helen\\anaconda3\\envs\\fakenews\\lib\\site-packages)\n",
      "WARNING: Ignoring invalid distribution -rpcio (c:\\users\\helen\\anaconda3\\envs\\fakenews\\lib\\site-packages)\n",
      "WARNING: Ignoring invalid distribution -rpcio (c:\\users\\helen\\anaconda3\\envs\\fakenews\\lib\\site-packages)\n",
      "WARNING: Ignoring invalid distribution -rpcio (c:\\users\\helen\\anaconda3\\envs\\fakenews\\lib\\site-packages)\n",
      "WARNING: Ignoring invalid distribution -rpcio (c:\\users\\helen\\anaconda3\\envs\\fakenews\\lib\\site-packages)\n",
      "WARNING: Ignoring invalid distribution -rpcio (c:\\users\\helen\\anaconda3\\envs\\fakenews\\lib\\site-packages)\n"
     ]
    }
   ],
   "source": [
    "!pip install whois\n",
    "!pip install pyquery\n",
    "!pip install tqdm\n",
    "!pip install interruptingcow\n",
    "!pip install requests"
   ]
  },
  {
   "cell_type": "code",
   "execution_count": 39,
   "metadata": {
    "id": "NpwL93D5JDWv"
   },
   "outputs": [],
   "source": [
    "import requests\n",
    "from interruptingcow import timeout\n",
    "import whois\n",
    "from datetime import datetime, timezone\n",
    "import math\n",
    "import pandas as pd\n",
    "import numpy as np\n",
    "from pyquery import PyQuery\n",
    "from requests import get\n",
    "import tensorflow as tf\n",
    "import keras\n",
    "import pandas as pd\n",
    "import gensim\n",
    "import matplotlib.pyplot as plt\n",
    "import seaborn as sns\n",
    "import numpy as np\n",
    "from sklearn.model_selection import train_test_split\n",
    "from keras.models import Sequential\n",
    "from keras.layers import Dense, Conv1D, Flatten, MaxPooling1D, LSTM, Embedding, Input\n",
    "from sklearn.model_selection import train_test_split\n",
    "from sklearn.metrics import multilabel_confusion_matrix\n",
    "from numpy import unique\n",
    "from tensorflow.keras import layers\n",
    "from tensorflow.math import confusion_matrix\n",
    "from sklearn.preprocessing import LabelEncoder\n",
    "from sklearn.preprocessing import MinMaxScaler"
   ]
  },
  {
   "cell_type": "code",
   "execution_count": 40,
   "metadata": {
    "id": "XLLT4caMmHOH"
   },
   "outputs": [],
   "source": [
    "class UrlFeaturizer(object):\n",
    "    def __init__(self, url):\n",
    "        self.url = url\n",
    "        self.domain = url.split('//')[-1].split('/')[0]\n",
    "        self.today = datetime.now().replace(tzinfo=None)\n",
    "\n",
    "        try:\n",
    "            self.whois = whois.query(self.domain).__dict__\n",
    "        except:\n",
    "            self.whois = None\n",
    "\n",
    "        try:\n",
    "            self.response = get(self.url)\n",
    "            self.pq = PyQuery(self.response.text)\n",
    "        except:\n",
    "            self.response = None\n",
    "            self.pq = None\n",
    "\n",
    "    ## URL string Features\n",
    "    def entropy(self):\n",
    "        string = self.url.strip()\n",
    "        prob = [float(string.count(c)) / len(string) for c in dict.fromkeys(list(string))]\n",
    "        entropy = sum([(p * math.log(p) / math.log(2.0)) for p in prob])\n",
    "        return entropy\n",
    "\n",
    "    def ip(self):\n",
    "        string = self.url\n",
    "        flag = False\n",
    "        if (\".\" in string):\n",
    "            elements_array = string.strip().split(\".\")\n",
    "            if(len(elements_array) == 4):\n",
    "                for i in elements_array:\n",
    "                    if (i.isnumeric() and int(i)>=0 and int(i)<=255):\n",
    "                        flag=True\n",
    "                    else:\n",
    "                        flag=False\n",
    "                        break\n",
    "        if flag:\n",
    "            return 1 \n",
    "        else:\n",
    "            return 0\n",
    "\n",
    "    def numDigits(self):\n",
    "        digits = [i for i in self.url if i.isdigit()]\n",
    "        return len(digits)\n",
    "\n",
    "    def urlLength(self):\n",
    "        return len(self.url)\n",
    "\n",
    "    def numParameters(self):\n",
    "        params = self.url.split('&')\n",
    "        return len(params) - 1\n",
    "\n",
    "    def numFragments(self):\n",
    "        fragments = self.url.split('#')\n",
    "        return len(fragments) - 1\n",
    "\n",
    "    def numSubDomains(self):\n",
    "        subdomains = self.url.split('http')[-1].split('//')[-1].split('/')\n",
    "        return len(subdomains)-1\n",
    "\n",
    "    def domainExtension(self):\n",
    "        ext = self.url.split('.')[-1].split('/')[0]\n",
    "        return ext\n",
    "\n",
    "    ## URL domain features\n",
    "    def hasHttp(self):\n",
    "        return 'http:' in self.url\n",
    "\n",
    "    def hasHttps(self):\n",
    "        return 'https:' in self.url\n",
    "\n",
    "    def daysSinceRegistration(self):\n",
    "        if self.whois and self.whois['creation_date']:\n",
    "            diff = self.today - self.whois['creation_date'].replace(tzinfo=None)\n",
    "            diff = str(diff).split(' days')[0]\n",
    "            return diff\n",
    "        else:\n",
    "            return 0\n",
    "\n",
    "    def daysSinceExpiration(self):\n",
    "        if self.whois and self.whois['expiration_date']:\n",
    "            diff = self.whois['expiration_date'].replace(tzinfo=None) - self.today\n",
    "            diff = str(diff).split(' days')[0]\n",
    "            return diff\n",
    "        else:\n",
    "            return 0\n",
    "    \n",
    "     ## URL Page Features\n",
    "    def bodyLength(self):\n",
    "        if self.pq is not None:\n",
    "            return len(self.pq('html').text()) if self.urlIsLive else 0\n",
    "        else:\n",
    "            return 0\n",
    "\n",
    "    def numTitles(self):\n",
    "        if self.pq is not None:\n",
    "            titles = ['h{}'.format(i) for i in range(7)]\n",
    "            titles = [self.pq(i).items() for i in titles]\n",
    "            return len([item for s in titles for item in s])\n",
    "        else:\n",
    "            return 0\n",
    "\n",
    "    def numImages(self):\n",
    "        if self.pq is not None:\n",
    "            return len([i for i in self.pq('img').items()])\n",
    "        else:\n",
    "            return 0\n",
    "\n",
    "    def numLinks(self):\n",
    "        if self.pq is not None:\n",
    "            return len([i for i in self.pq('a').items()])\n",
    "        else:\n",
    "            return 0\n",
    "\n",
    "    def scriptLength(self):\n",
    "        if self.pq is not None:\n",
    "            return len(self.pq('script').text())\n",
    "        else:\n",
    "            return 0\n",
    "\n",
    "    def specialCharacters(self):\n",
    "        if self.pq is not None:\n",
    "            bodyText = self.pq('html').text()\n",
    "            schars = [i for i in bodyText if not i.isdigit() and not i.isalpha()]\n",
    "            return len(schars)\n",
    "        else:\n",
    "            return 0\n",
    "\n",
    "    def scriptToSpecialCharsRatio(self):\n",
    "        v = self.specialCharacters()\n",
    "        if self.pq is not None and v!=0:\n",
    "            sscr = self.scriptLength()/v\n",
    "        else:\n",
    "            sscr = 0\n",
    "        return sscr\n",
    "\n",
    "    def scriptTobodyRatio(self):\n",
    "        v = self.bodyLength()\n",
    "        if self.pq is not None and v!=0:\n",
    "            sbr = self.scriptLength()/v\n",
    "        else:\n",
    "            sbr = 0\n",
    "        return sbr\n",
    "\n",
    "    def bodyToSpecialCharRatio(self):\n",
    "        v = self.bodyLength()\n",
    "        if self.pq is not None and v!=0:\n",
    "            bscr = self.specialCharacters()/v\n",
    "        else:\n",
    "            bscr = 0\n",
    "        return bscr\n",
    "\n",
    "    def urlIsLive(self):\n",
    "        return self.response == 200\n",
    "\n",
    "    def run(self):\n",
    "        data = {}\n",
    "        data['entropy'] = self.entropy()\n",
    "        data['numDigits'] = self.numDigits()\n",
    "        data['urlLength'] = self.urlLength()\n",
    "        data['numParams'] = self.numParameters()\n",
    "        data['hasHttp'] = self.hasHttp()\n",
    "        data['hasHttps'] = self.hasHttps()\n",
    "        data['urlIsLive'] = self.urlIsLive()\n",
    "        data['bodyLength'] = self.bodyLength()\n",
    "        data['numTitles'] = self.numTitles()\n",
    "        data['numImages'] = self.numImages()\n",
    "        data['numLinks'] = self.numLinks()\n",
    "        data['scriptLength'] = self.scriptLength()\n",
    "        data['specialChars'] = self.specialCharacters()\n",
    "        data['ext'] = self.domainExtension()\n",
    "        data['dsr'] = self.daysSinceRegistration()\n",
    "        data['dse'] = self.daysSinceExpiration()\n",
    "        data['sscr'] = self.scriptToSpecialCharsRatio()\n",
    "        data['sbr'] = self.scriptTobodyRatio()\n",
    "        data['bscr'] = self.bodyToSpecialCharRatio()\n",
    "        data['num_%20'] = self.url.count(\"%20\")\n",
    "        data['num_@'] = self.url.count(\"@\")\n",
    "        data['has_ip'] = self.ip()\n",
    "    \n",
    "        return data"
   ]
  },
  {
   "cell_type": "code",
   "execution_count": 41,
   "metadata": {
    "colab": {
     "base_uri": "https://localhost:8080/",
     "height": 721
    },
    "id": "yOHSFkYYJO2-",
    "outputId": "56df6665-2228-4362-80d5-288d7dd7ad10"
   },
   "outputs": [
    {
     "data": {
      "text/html": [
       "<div>\n",
       "<style scoped>\n",
       "    .dataframe tbody tr th:only-of-type {\n",
       "        vertical-align: middle;\n",
       "    }\n",
       "\n",
       "    .dataframe tbody tr th {\n",
       "        vertical-align: top;\n",
       "    }\n",
       "\n",
       "    .dataframe thead th {\n",
       "        text-align: right;\n",
       "    }\n",
       "</style>\n",
       "<table border=\"1\" class=\"dataframe\">\n",
       "  <thead>\n",
       "    <tr style=\"text-align: right;\">\n",
       "      <th></th>\n",
       "      <th>Unnamed: 0</th>\n",
       "      <th>news_id</th>\n",
       "      <th>url</th>\n",
       "      <th>publisher</th>\n",
       "      <th>publish_date</th>\n",
       "      <th>author</th>\n",
       "      <th>title</th>\n",
       "      <th>image</th>\n",
       "      <th>body_text</th>\n",
       "      <th>political_bias</th>\n",
       "      <th>country</th>\n",
       "      <th>reliability</th>\n",
       "    </tr>\n",
       "  </thead>\n",
       "  <tbody>\n",
       "    <tr>\n",
       "      <th>0</th>\n",
       "      <td>0</td>\n",
       "      <td>0</td>\n",
       "      <td>https://www.nytimes.com/article/what-is-corona...</td>\n",
       "      <td>The New York Times</td>\n",
       "      <td>2020-01-21</td>\n",
       "      <td>['Knvul Sheikh', 'Roni Caryn Rabin']</td>\n",
       "      <td>The Coronavirus: What Scientists Have Learned ...</td>\n",
       "      <td>https://static01.nyt.com/images/2020/03/12/sci...</td>\n",
       "      <td>\\nA novel respiratory virus that originated in...</td>\n",
       "      <td>Left</td>\n",
       "      <td>USA</td>\n",
       "      <td>1</td>\n",
       "    </tr>\n",
       "    <tr>\n",
       "      <th>1</th>\n",
       "      <td>1</td>\n",
       "      <td>1</td>\n",
       "      <td>https://www.npr.org/2020/01/22/798392172/chine...</td>\n",
       "      <td>National Public Radio (NPR)</td>\n",
       "      <td>2020-01-22</td>\n",
       "      <td>['Emily Feng']</td>\n",
       "      <td>Chinese Health Officials: More Die From Newly ...</td>\n",
       "      <td>https://media.npr.org/include/images/facebook-...</td>\n",
       "      <td>Chinese Health Officials: More Die From Newly ...</td>\n",
       "      <td>Center</td>\n",
       "      <td>USA</td>\n",
       "      <td>1</td>\n",
       "    </tr>\n",
       "    <tr>\n",
       "      <th>2</th>\n",
       "      <td>2</td>\n",
       "      <td>2</td>\n",
       "      <td>https://www.theverge.com/2020/1/23/21078457/co...</td>\n",
       "      <td>The Verge</td>\n",
       "      <td>2020-01-23</td>\n",
       "      <td>['Nicole Wetsman']</td>\n",
       "      <td>Everything you need to know about the coronavirus</td>\n",
       "      <td>https://cdn.vox-cdn.com/thumbor/a9_Oz7cvSBKyal...</td>\n",
       "      <td>Public health experts around the globe are scr...</td>\n",
       "      <td>Left-center</td>\n",
       "      <td>USA</td>\n",
       "      <td>1</td>\n",
       "    </tr>\n",
       "    <tr>\n",
       "      <th>3</th>\n",
       "      <td>3</td>\n",
       "      <td>3</td>\n",
       "      <td>https://www.worldhealth.net/news/novel-coronav...</td>\n",
       "      <td>WorldHealth.Net</td>\n",
       "      <td>2020-01-24</td>\n",
       "      <td>[]</td>\n",
       "      <td>Novel Coronavirus Cases Confirmed To Be Spreading</td>\n",
       "      <td>https://www.worldhealth.net/media/original_ima...</td>\n",
       "      <td>The first two coronavirus cases in Europe have...</td>\n",
       "      <td>NaN</td>\n",
       "      <td>USA</td>\n",
       "      <td>0</td>\n",
       "    </tr>\n",
       "    <tr>\n",
       "      <th>4</th>\n",
       "      <td>4</td>\n",
       "      <td>4</td>\n",
       "      <td>https://www.theverge.com/2020/1/24/21080845/co...</td>\n",
       "      <td>The Verge</td>\n",
       "      <td>2020-01-24</td>\n",
       "      <td>['Nicole Wetsman', 'Zoe Schiffer', 'Jay Peters...</td>\n",
       "      <td>Coronavirus disrupts the world: updates on the...</td>\n",
       "      <td>https://cdn.vox-cdn.com/thumbor/t2gt1SmEni4Mcr...</td>\n",
       "      <td>A new coronavirus appeared in Wuhan, China, at...</td>\n",
       "      <td>Left-center</td>\n",
       "      <td>USA</td>\n",
       "      <td>1</td>\n",
       "    </tr>\n",
       "  </tbody>\n",
       "</table>\n",
       "</div>"
      ],
      "text/plain": [
       "   Unnamed: 0  news_id                                                url  \\\n",
       "0           0        0  https://www.nytimes.com/article/what-is-corona...   \n",
       "1           1        1  https://www.npr.org/2020/01/22/798392172/chine...   \n",
       "2           2        2  https://www.theverge.com/2020/1/23/21078457/co...   \n",
       "3           3        3  https://www.worldhealth.net/news/novel-coronav...   \n",
       "4           4        4  https://www.theverge.com/2020/1/24/21080845/co...   \n",
       "\n",
       "                     publisher publish_date  \\\n",
       "0           The New York Times   2020-01-21   \n",
       "1  National Public Radio (NPR)   2020-01-22   \n",
       "2                    The Verge   2020-01-23   \n",
       "3              WorldHealth.Net   2020-01-24   \n",
       "4                    The Verge   2020-01-24   \n",
       "\n",
       "                                              author  \\\n",
       "0               ['Knvul Sheikh', 'Roni Caryn Rabin']   \n",
       "1                                     ['Emily Feng']   \n",
       "2                                 ['Nicole Wetsman']   \n",
       "3                                                 []   \n",
       "4  ['Nicole Wetsman', 'Zoe Schiffer', 'Jay Peters...   \n",
       "\n",
       "                                               title  \\\n",
       "0  The Coronavirus: What Scientists Have Learned ...   \n",
       "1  Chinese Health Officials: More Die From Newly ...   \n",
       "2  Everything you need to know about the coronavirus   \n",
       "3  Novel Coronavirus Cases Confirmed To Be Spreading   \n",
       "4  Coronavirus disrupts the world: updates on the...   \n",
       "\n",
       "                                               image  \\\n",
       "0  https://static01.nyt.com/images/2020/03/12/sci...   \n",
       "1  https://media.npr.org/include/images/facebook-...   \n",
       "2  https://cdn.vox-cdn.com/thumbor/a9_Oz7cvSBKyal...   \n",
       "3  https://www.worldhealth.net/media/original_ima...   \n",
       "4  https://cdn.vox-cdn.com/thumbor/t2gt1SmEni4Mcr...   \n",
       "\n",
       "                                           body_text political_bias country  \\\n",
       "0  \\nA novel respiratory virus that originated in...           Left     USA   \n",
       "1  Chinese Health Officials: More Die From Newly ...         Center     USA   \n",
       "2  Public health experts around the globe are scr...    Left-center     USA   \n",
       "3  The first two coronavirus cases in Europe have...            NaN     USA   \n",
       "4  A new coronavirus appeared in Wuhan, China, at...    Left-center     USA   \n",
       "\n",
       "   reliability  \n",
       "0            1  \n",
       "1            1  \n",
       "2            1  \n",
       "3            0  \n",
       "4            1  "
      ]
     },
     "execution_count": 41,
     "metadata": {},
     "output_type": "execute_result"
    }
   ],
   "source": [
    "data = pd.read_csv('C:/Users/helen/Fake News/recovery-news-data.csv')\n",
    "data.head(5)"
   ]
  },
  {
   "cell_type": "code",
   "execution_count": 42,
   "metadata": {
    "colab": {
     "base_uri": "https://localhost:8080/",
     "height": 206
    },
    "id": "Shfj3_8fJP6P",
    "outputId": "8aa17a8e-dff6-44bf-d9b7-edcb26cfa03f"
   },
   "outputs": [
    {
     "data": {
      "text/html": [
       "<div>\n",
       "<style scoped>\n",
       "    .dataframe tbody tr th:only-of-type {\n",
       "        vertical-align: middle;\n",
       "    }\n",
       "\n",
       "    .dataframe tbody tr th {\n",
       "        vertical-align: top;\n",
       "    }\n",
       "\n",
       "    .dataframe thead th {\n",
       "        text-align: right;\n",
       "    }\n",
       "</style>\n",
       "<table border=\"1\" class=\"dataframe\">\n",
       "  <thead>\n",
       "    <tr style=\"text-align: right;\">\n",
       "      <th></th>\n",
       "      <th>url</th>\n",
       "      <th>reliability</th>\n",
       "    </tr>\n",
       "  </thead>\n",
       "  <tbody>\n",
       "    <tr>\n",
       "      <th>1</th>\n",
       "      <td>https://www.npr.org/2020/01/22/798392172/chine...</td>\n",
       "      <td>1</td>\n",
       "    </tr>\n",
       "    <tr>\n",
       "      <th>2</th>\n",
       "      <td>https://www.theverge.com/2020/1/23/21078457/co...</td>\n",
       "      <td>1</td>\n",
       "    </tr>\n",
       "    <tr>\n",
       "      <th>3</th>\n",
       "      <td>https://www.worldhealth.net/news/novel-coronav...</td>\n",
       "      <td>0</td>\n",
       "    </tr>\n",
       "    <tr>\n",
       "      <th>4</th>\n",
       "      <td>https://www.theverge.com/2020/1/24/21080845/co...</td>\n",
       "      <td>1</td>\n",
       "    </tr>\n",
       "    <tr>\n",
       "      <th>5</th>\n",
       "      <td>https://chicago.suntimes.com/2020/1/27/2111113...</td>\n",
       "      <td>1</td>\n",
       "    </tr>\n",
       "  </tbody>\n",
       "</table>\n",
       "</div>"
      ],
      "text/plain": [
       "                                                 url  reliability\n",
       "1  https://www.npr.org/2020/01/22/798392172/chine...            1\n",
       "2  https://www.theverge.com/2020/1/23/21078457/co...            1\n",
       "3  https://www.worldhealth.net/news/novel-coronav...            0\n",
       "4  https://www.theverge.com/2020/1/24/21080845/co...            1\n",
       "5  https://chicago.suntimes.com/2020/1/27/2111113...            1"
      ]
     },
     "execution_count": 42,
     "metadata": {},
     "output_type": "execute_result"
    }
   ],
   "source": [
    "data = data.drop(columns = [\"Unnamed: 0\", \"news_id\", \"publisher\", \"publish_date\", \"author\", \"title\", \"image\", \"political_bias\", \"country\", \"body_text\"])\n",
    "data = data.drop(data.index[0])\n",
    "\n",
    "data.head(5)"
   ]
  },
  {
   "cell_type": "code",
   "execution_count": 43,
   "metadata": {
    "id": "_n1u-9THJVUV"
   },
   "outputs": [],
   "source": [
    "data['reliability'].value_counts()\n",
    "data['reliability'] = data['reliability'].astype(float)"
   ]
  },
  {
   "cell_type": "code",
   "execution_count": 44,
   "metadata": {
    "colab": {
     "base_uri": "https://localhost:8080/",
     "height": 206
    },
    "id": "LWpniW5hHEpg",
    "outputId": "fae6b636-0470-4332-c0ec-d231c23c4efd"
   },
   "outputs": [
    {
     "data": {
      "text/html": [
       "<div>\n",
       "<style scoped>\n",
       "    .dataframe tbody tr th:only-of-type {\n",
       "        vertical-align: middle;\n",
       "    }\n",
       "\n",
       "    .dataframe tbody tr th {\n",
       "        vertical-align: top;\n",
       "    }\n",
       "\n",
       "    .dataframe thead th {\n",
       "        text-align: right;\n",
       "    }\n",
       "</style>\n",
       "<table border=\"1\" class=\"dataframe\">\n",
       "  <thead>\n",
       "    <tr style=\"text-align: right;\">\n",
       "      <th></th>\n",
       "      <th>url</th>\n",
       "      <th>reliability</th>\n",
       "    </tr>\n",
       "  </thead>\n",
       "  <tbody>\n",
       "    <tr>\n",
       "      <th>1</th>\n",
       "      <td>https://www.npr.org/2020/01/22/798392172/chine...</td>\n",
       "      <td>1.0</td>\n",
       "    </tr>\n",
       "    <tr>\n",
       "      <th>2</th>\n",
       "      <td>https://www.theverge.com/2020/1/23/21078457/co...</td>\n",
       "      <td>1.0</td>\n",
       "    </tr>\n",
       "    <tr>\n",
       "      <th>3</th>\n",
       "      <td>https://www.worldhealth.net/news/novel-coronav...</td>\n",
       "      <td>0.0</td>\n",
       "    </tr>\n",
       "    <tr>\n",
       "      <th>4</th>\n",
       "      <td>https://www.theverge.com/2020/1/24/21080845/co...</td>\n",
       "      <td>1.0</td>\n",
       "    </tr>\n",
       "    <tr>\n",
       "      <th>5</th>\n",
       "      <td>https://chicago.suntimes.com/2020/1/27/2111113...</td>\n",
       "      <td>1.0</td>\n",
       "    </tr>\n",
       "  </tbody>\n",
       "</table>\n",
       "</div>"
      ],
      "text/plain": [
       "                                                 url  reliability\n",
       "1  https://www.npr.org/2020/01/22/798392172/chine...          1.0\n",
       "2  https://www.theverge.com/2020/1/23/21078457/co...          1.0\n",
       "3  https://www.worldhealth.net/news/novel-coronav...          0.0\n",
       "4  https://www.theverge.com/2020/1/24/21080845/co...          1.0\n",
       "5  https://chicago.suntimes.com/2020/1/27/2111113...          1.0"
      ]
     },
     "execution_count": 44,
     "metadata": {},
     "output_type": "execute_result"
    }
   ],
   "source": [
    "data.head(5)"
   ]
  },
  {
   "cell_type": "code",
   "execution_count": 45,
   "metadata": {
    "id": "loTVPgJGGaBf"
   },
   "outputs": [],
   "source": [
    "data = data.drop(data.index[1634])"
   ]
  },
  {
   "cell_type": "code",
   "execution_count": 46,
   "metadata": {},
   "outputs": [
    {
     "data": {
      "text/html": [
       "<div>\n",
       "<style scoped>\n",
       "    .dataframe tbody tr th:only-of-type {\n",
       "        vertical-align: middle;\n",
       "    }\n",
       "\n",
       "    .dataframe tbody tr th {\n",
       "        vertical-align: top;\n",
       "    }\n",
       "\n",
       "    .dataframe thead th {\n",
       "        text-align: right;\n",
       "    }\n",
       "</style>\n",
       "<table border=\"1\" class=\"dataframe\">\n",
       "  <thead>\n",
       "    <tr style=\"text-align: right;\">\n",
       "      <th></th>\n",
       "      <th>url</th>\n",
       "      <th>reliability</th>\n",
       "    </tr>\n",
       "  </thead>\n",
       "  <tbody>\n",
       "    <tr>\n",
       "      <th>1631</th>\n",
       "      <td>https://www.healthnutnews.com/florida-scientis...</td>\n",
       "      <td>0.0</td>\n",
       "    </tr>\n",
       "    <tr>\n",
       "      <th>1632</th>\n",
       "      <td>https://europe.infowars.com/asylum-workers-sou...</td>\n",
       "      <td>0.0</td>\n",
       "    </tr>\n",
       "    <tr>\n",
       "      <th>1633</th>\n",
       "      <td>https://www.heartland.org/multimedia/podcasts/...</td>\n",
       "      <td>0.0</td>\n",
       "    </tr>\n",
       "    <tr>\n",
       "      <th>1634</th>\n",
       "      <td>https://bipartisanreport.com/2020/05/21/hillar...</td>\n",
       "      <td>0.0</td>\n",
       "    </tr>\n",
       "    <tr>\n",
       "      <th>1636</th>\n",
       "      <td>https://dcdirtylaundry.com/bill-gates-backed-c...</td>\n",
       "      <td>0.0</td>\n",
       "    </tr>\n",
       "    <tr>\n",
       "      <th>1637</th>\n",
       "      <td>http://sputniknews.com/columnists/202005211079...</td>\n",
       "      <td>0.0</td>\n",
       "    </tr>\n",
       "    <tr>\n",
       "      <th>1638</th>\n",
       "      <td>https://www.naturalnews.com/2020-05-21-dr-fauc...</td>\n",
       "      <td>0.0</td>\n",
       "    </tr>\n",
       "    <tr>\n",
       "      <th>1639</th>\n",
       "      <td>https://dcdirtylaundry.com/watch-banned-video-...</td>\n",
       "      <td>0.0</td>\n",
       "    </tr>\n",
       "    <tr>\n",
       "      <th>1640</th>\n",
       "      <td>https://dcdirtylaundry.com/tennessee-hospital-...</td>\n",
       "      <td>0.0</td>\n",
       "    </tr>\n",
       "    <tr>\n",
       "      <th>1641</th>\n",
       "      <td>https://themindunleashed.com/2020/05/dolphins-...</td>\n",
       "      <td>0.0</td>\n",
       "    </tr>\n",
       "  </tbody>\n",
       "</table>\n",
       "</div>"
      ],
      "text/plain": [
       "                                                    url  reliability\n",
       "1631  https://www.healthnutnews.com/florida-scientis...          0.0\n",
       "1632  https://europe.infowars.com/asylum-workers-sou...          0.0\n",
       "1633  https://www.heartland.org/multimedia/podcasts/...          0.0\n",
       "1634  https://bipartisanreport.com/2020/05/21/hillar...          0.0\n",
       "1636  https://dcdirtylaundry.com/bill-gates-backed-c...          0.0\n",
       "1637  http://sputniknews.com/columnists/202005211079...          0.0\n",
       "1638  https://www.naturalnews.com/2020-05-21-dr-fauc...          0.0\n",
       "1639  https://dcdirtylaundry.com/watch-banned-video-...          0.0\n",
       "1640  https://dcdirtylaundry.com/tennessee-hospital-...          0.0\n",
       "1641  https://themindunleashed.com/2020/05/dolphins-...          0.0"
      ]
     },
     "execution_count": 46,
     "metadata": {},
     "output_type": "execute_result"
    }
   ],
   "source": [
    "data.iloc[1630:1640]"
   ]
  },
  {
   "cell_type": "code",
   "execution_count": null,
   "metadata": {
    "id": "loTVPgJGGaBf"
   },
   "outputs": [
    {
     "name": "stdout",
     "output_type": "stream",
     "text": [
      "1\n",
      "downloading dependencies\n",
      "copy \\\\live.sysinternals.com\\tools\\whois.exe C:\\Users\\helen\\Fake News\n",
      "2\n",
      "downloading dependencies\n",
      "copy \\\\live.sysinternals.com\\tools\\whois.exe C:\\Users\\helen\\Fake News\n",
      "3\n",
      "downloading dependencies\n",
      "copy \\\\live.sysinternals.com\\tools\\whois.exe C:\\Users\\helen\\Fake News\n",
      "4\n",
      "downloading dependencies\n",
      "copy \\\\live.sysinternals.com\\tools\\whois.exe C:\\Users\\helen\\Fake News\n",
      "5\n",
      "downloading dependencies\n",
      "copy \\\\live.sysinternals.com\\tools\\whois.exe C:\\Users\\helen\\Fake News\n",
      "6\n",
      "downloading dependencies\n",
      "copy \\\\live.sysinternals.com\\tools\\whois.exe C:\\Users\\helen\\Fake News\n",
      "7\n",
      "downloading dependencies\n",
      "copy \\\\live.sysinternals.com\\tools\\whois.exe C:\\Users\\helen\\Fake News\n",
      "8\n",
      "downloading dependencies\n",
      "copy \\\\live.sysinternals.com\\tools\\whois.exe C:\\Users\\helen\\Fake News\n",
      "9\n",
      "downloading dependencies\n",
      "copy \\\\live.sysinternals.com\\tools\\whois.exe C:\\Users\\helen\\Fake News\n",
      "10\n",
      "downloading dependencies\n",
      "copy \\\\live.sysinternals.com\\tools\\whois.exe C:\\Users\\helen\\Fake News\n",
      "11\n",
      "downloading dependencies\n",
      "copy \\\\live.sysinternals.com\\tools\\whois.exe C:\\Users\\helen\\Fake News\n",
      "12\n",
      "downloading dependencies\n",
      "copy \\\\live.sysinternals.com\\tools\\whois.exe C:\\Users\\helen\\Fake News\n",
      "13\n",
      "downloading dependencies\n",
      "copy \\\\live.sysinternals.com\\tools\\whois.exe C:\\Users\\helen\\Fake News\n",
      "14\n",
      "downloading dependencies\n",
      "copy \\\\live.sysinternals.com\\tools\\whois.exe C:\\Users\\helen\\Fake News\n",
      "15\n",
      "downloading dependencies\n",
      "copy \\\\live.sysinternals.com\\tools\\whois.exe C:\\Users\\helen\\Fake News\n",
      "16\n",
      "downloading dependencies\n",
      "copy \\\\live.sysinternals.com\\tools\\whois.exe C:\\Users\\helen\\Fake News\n",
      "17\n",
      "downloading dependencies\n",
      "copy \\\\live.sysinternals.com\\tools\\whois.exe C:\\Users\\helen\\Fake News\n",
      "18\n",
      "downloading dependencies\n",
      "copy \\\\live.sysinternals.com\\tools\\whois.exe C:\\Users\\helen\\Fake News\n",
      "19\n",
      "downloading dependencies\n",
      "copy \\\\live.sysinternals.com\\tools\\whois.exe C:\\Users\\helen\\Fake News\n",
      "20\n",
      "downloading dependencies\n",
      "copy \\\\live.sysinternals.com\\tools\\whois.exe C:\\Users\\helen\\Fake News\n",
      "21\n",
      "downloading dependencies\n",
      "copy \\\\live.sysinternals.com\\tools\\whois.exe C:\\Users\\helen\\Fake News\n",
      "22\n",
      "downloading dependencies\n",
      "copy \\\\live.sysinternals.com\\tools\\whois.exe C:\\Users\\helen\\Fake News\n",
      "23\n",
      "downloading dependencies\n",
      "copy \\\\live.sysinternals.com\\tools\\whois.exe C:\\Users\\helen\\Fake News\n",
      "24\n",
      "downloading dependencies\n",
      "copy \\\\live.sysinternals.com\\tools\\whois.exe C:\\Users\\helen\\Fake News\n",
      "25\n",
      "downloading dependencies\n",
      "copy \\\\live.sysinternals.com\\tools\\whois.exe C:\\Users\\helen\\Fake News\n",
      "26\n",
      "downloading dependencies\n",
      "copy \\\\live.sysinternals.com\\tools\\whois.exe C:\\Users\\helen\\Fake News\n",
      "27\n",
      "downloading dependencies\n",
      "copy \\\\live.sysinternals.com\\tools\\whois.exe C:\\Users\\helen\\Fake News\n",
      "28\n",
      "downloading dependencies\n",
      "copy \\\\live.sysinternals.com\\tools\\whois.exe C:\\Users\\helen\\Fake News\n",
      "29\n",
      "downloading dependencies\n",
      "copy \\\\live.sysinternals.com\\tools\\whois.exe C:\\Users\\helen\\Fake News\n",
      "30\n",
      "downloading dependencies\n",
      "copy \\\\live.sysinternals.com\\tools\\whois.exe C:\\Users\\helen\\Fake News\n",
      "31\n",
      "downloading dependencies\n",
      "copy \\\\live.sysinternals.com\\tools\\whois.exe C:\\Users\\helen\\Fake News\n",
      "32\n",
      "downloading dependencies\n",
      "copy \\\\live.sysinternals.com\\tools\\whois.exe C:\\Users\\helen\\Fake News\n",
      "33\n",
      "downloading dependencies\n",
      "copy \\\\live.sysinternals.com\\tools\\whois.exe C:\\Users\\helen\\Fake News\n",
      "34\n",
      "downloading dependencies\n",
      "copy \\\\live.sysinternals.com\\tools\\whois.exe C:\\Users\\helen\\Fake News\n",
      "35\n",
      "downloading dependencies\n",
      "copy \\\\live.sysinternals.com\\tools\\whois.exe C:\\Users\\helen\\Fake News\n",
      "36\n",
      "downloading dependencies\n",
      "copy \\\\live.sysinternals.com\\tools\\whois.exe C:\\Users\\helen\\Fake News\n",
      "37\n",
      "downloading dependencies\n",
      "copy \\\\live.sysinternals.com\\tools\\whois.exe C:\\Users\\helen\\Fake News\n",
      "38\n",
      "downloading dependencies\n",
      "copy \\\\live.sysinternals.com\\tools\\whois.exe C:\\Users\\helen\\Fake News\n",
      "39\n",
      "downloading dependencies\n",
      "copy \\\\live.sysinternals.com\\tools\\whois.exe C:\\Users\\helen\\Fake News\n",
      "40\n",
      "downloading dependencies\n",
      "copy \\\\live.sysinternals.com\\tools\\whois.exe C:\\Users\\helen\\Fake News\n",
      "41\n",
      "downloading dependencies\n",
      "copy \\\\live.sysinternals.com\\tools\\whois.exe C:\\Users\\helen\\Fake News\n",
      "42\n",
      "downloading dependencies\n",
      "copy \\\\live.sysinternals.com\\tools\\whois.exe C:\\Users\\helen\\Fake News\n",
      "43\n",
      "downloading dependencies\n",
      "copy \\\\live.sysinternals.com\\tools\\whois.exe C:\\Users\\helen\\Fake News\n",
      "44\n",
      "downloading dependencies\n",
      "copy \\\\live.sysinternals.com\\tools\\whois.exe C:\\Users\\helen\\Fake News\n",
      "45\n",
      "downloading dependencies\n",
      "copy \\\\live.sysinternals.com\\tools\\whois.exe C:\\Users\\helen\\Fake News\n",
      "46\n",
      "downloading dependencies\n",
      "copy \\\\live.sysinternals.com\\tools\\whois.exe C:\\Users\\helen\\Fake News\n",
      "47\n",
      "downloading dependencies\n",
      "copy \\\\live.sysinternals.com\\tools\\whois.exe C:\\Users\\helen\\Fake News\n",
      "48\n",
      "downloading dependencies\n",
      "copy \\\\live.sysinternals.com\\tools\\whois.exe C:\\Users\\helen\\Fake News\n",
      "49\n",
      "downloading dependencies\n",
      "copy \\\\live.sysinternals.com\\tools\\whois.exe C:\\Users\\helen\\Fake News\n",
      "50\n",
      "downloading dependencies\n",
      "copy \\\\live.sysinternals.com\\tools\\whois.exe C:\\Users\\helen\\Fake News\n",
      "51\n",
      "downloading dependencies\n",
      "copy \\\\live.sysinternals.com\\tools\\whois.exe C:\\Users\\helen\\Fake News\n",
      "52\n",
      "downloading dependencies\n",
      "copy \\\\live.sysinternals.com\\tools\\whois.exe C:\\Users\\helen\\Fake News\n",
      "53\n",
      "downloading dependencies\n",
      "copy \\\\live.sysinternals.com\\tools\\whois.exe C:\\Users\\helen\\Fake News\n",
      "54\n",
      "downloading dependencies\n",
      "copy \\\\live.sysinternals.com\\tools\\whois.exe C:\\Users\\helen\\Fake News\n",
      "55\n",
      "downloading dependencies\n",
      "copy \\\\live.sysinternals.com\\tools\\whois.exe C:\\Users\\helen\\Fake News\n",
      "56\n",
      "downloading dependencies\n",
      "copy \\\\live.sysinternals.com\\tools\\whois.exe C:\\Users\\helen\\Fake News\n",
      "57\n",
      "downloading dependencies\n",
      "copy \\\\live.sysinternals.com\\tools\\whois.exe C:\\Users\\helen\\Fake News\n",
      "58\n",
      "downloading dependencies\n",
      "copy \\\\live.sysinternals.com\\tools\\whois.exe C:\\Users\\helen\\Fake News\n",
      "59\n",
      "downloading dependencies\n",
      "copy \\\\live.sysinternals.com\\tools\\whois.exe C:\\Users\\helen\\Fake News\n",
      "60\n",
      "downloading dependencies\n",
      "copy \\\\live.sysinternals.com\\tools\\whois.exe C:\\Users\\helen\\Fake News\n",
      "61\n",
      "downloading dependencies\n",
      "copy \\\\live.sysinternals.com\\tools\\whois.exe C:\\Users\\helen\\Fake News\n",
      "62\n",
      "downloading dependencies\n",
      "copy \\\\live.sysinternals.com\\tools\\whois.exe C:\\Users\\helen\\Fake News\n",
      "63\n",
      "downloading dependencies\n",
      "copy \\\\live.sysinternals.com\\tools\\whois.exe C:\\Users\\helen\\Fake News\n",
      "64\n",
      "downloading dependencies\n",
      "copy \\\\live.sysinternals.com\\tools\\whois.exe C:\\Users\\helen\\Fake News\n",
      "65\n",
      "downloading dependencies\n",
      "copy \\\\live.sysinternals.com\\tools\\whois.exe C:\\Users\\helen\\Fake News\n",
      "66\n",
      "downloading dependencies\n",
      "copy \\\\live.sysinternals.com\\tools\\whois.exe C:\\Users\\helen\\Fake News\n",
      "67\n",
      "downloading dependencies\n",
      "copy \\\\live.sysinternals.com\\tools\\whois.exe C:\\Users\\helen\\Fake News\n",
      "68\n",
      "downloading dependencies\n",
      "copy \\\\live.sysinternals.com\\tools\\whois.exe C:\\Users\\helen\\Fake News\n",
      "69\n",
      "downloading dependencies\n",
      "copy \\\\live.sysinternals.com\\tools\\whois.exe C:\\Users\\helen\\Fake News\n",
      "70\n",
      "downloading dependencies\n",
      "copy \\\\live.sysinternals.com\\tools\\whois.exe C:\\Users\\helen\\Fake News\n",
      "71\n",
      "downloading dependencies\n",
      "copy \\\\live.sysinternals.com\\tools\\whois.exe C:\\Users\\helen\\Fake News\n",
      "72\n",
      "downloading dependencies\n",
      "copy \\\\live.sysinternals.com\\tools\\whois.exe C:\\Users\\helen\\Fake News\n",
      "73\n",
      "downloading dependencies\n",
      "copy \\\\live.sysinternals.com\\tools\\whois.exe C:\\Users\\helen\\Fake News\n",
      "74\n",
      "downloading dependencies\n",
      "copy \\\\live.sysinternals.com\\tools\\whois.exe C:\\Users\\helen\\Fake News\n",
      "75\n",
      "downloading dependencies\n",
      "copy \\\\live.sysinternals.com\\tools\\whois.exe C:\\Users\\helen\\Fake News\n",
      "76\n",
      "downloading dependencies\n",
      "copy \\\\live.sysinternals.com\\tools\\whois.exe C:\\Users\\helen\\Fake News\n",
      "77\n",
      "downloading dependencies\n",
      "copy \\\\live.sysinternals.com\\tools\\whois.exe C:\\Users\\helen\\Fake News\n",
      "78\n",
      "downloading dependencies\n",
      "copy \\\\live.sysinternals.com\\tools\\whois.exe C:\\Users\\helen\\Fake News\n",
      "79\n",
      "downloading dependencies\n",
      "copy \\\\live.sysinternals.com\\tools\\whois.exe C:\\Users\\helen\\Fake News\n",
      "80\n",
      "downloading dependencies\n",
      "copy \\\\live.sysinternals.com\\tools\\whois.exe C:\\Users\\helen\\Fake News\n",
      "81\n",
      "downloading dependencies\n",
      "copy \\\\live.sysinternals.com\\tools\\whois.exe C:\\Users\\helen\\Fake News\n",
      "82\n",
      "downloading dependencies\n",
      "copy \\\\live.sysinternals.com\\tools\\whois.exe C:\\Users\\helen\\Fake News\n",
      "83\n",
      "downloading dependencies\n",
      "copy \\\\live.sysinternals.com\\tools\\whois.exe C:\\Users\\helen\\Fake News\n",
      "84\n",
      "downloading dependencies\n",
      "copy \\\\live.sysinternals.com\\tools\\whois.exe C:\\Users\\helen\\Fake News\n",
      "85\n",
      "downloading dependencies\n",
      "copy \\\\live.sysinternals.com\\tools\\whois.exe C:\\Users\\helen\\Fake News\n",
      "86\n",
      "downloading dependencies\n",
      "copy \\\\live.sysinternals.com\\tools\\whois.exe C:\\Users\\helen\\Fake News\n",
      "87\n",
      "downloading dependencies\n",
      "copy \\\\live.sysinternals.com\\tools\\whois.exe C:\\Users\\helen\\Fake News\n",
      "88\n",
      "downloading dependencies\n",
      "copy \\\\live.sysinternals.com\\tools\\whois.exe C:\\Users\\helen\\Fake News\n",
      "89\n",
      "downloading dependencies\n",
      "copy \\\\live.sysinternals.com\\tools\\whois.exe C:\\Users\\helen\\Fake News\n",
      "90\n",
      "downloading dependencies\n",
      "copy \\\\live.sysinternals.com\\tools\\whois.exe C:\\Users\\helen\\Fake News\n",
      "91\n",
      "downloading dependencies\n",
      "copy \\\\live.sysinternals.com\\tools\\whois.exe C:\\Users\\helen\\Fake News\n",
      "92\n",
      "downloading dependencies\n",
      "copy \\\\live.sysinternals.com\\tools\\whois.exe C:\\Users\\helen\\Fake News\n",
      "93\n",
      "downloading dependencies\n",
      "copy \\\\live.sysinternals.com\\tools\\whois.exe C:\\Users\\helen\\Fake News\n",
      "94\n",
      "downloading dependencies\n",
      "copy \\\\live.sysinternals.com\\tools\\whois.exe C:\\Users\\helen\\Fake News\n",
      "95\n",
      "downloading dependencies\n",
      "copy \\\\live.sysinternals.com\\tools\\whois.exe C:\\Users\\helen\\Fake News\n",
      "96\n",
      "downloading dependencies\n",
      "copy \\\\live.sysinternals.com\\tools\\whois.exe C:\\Users\\helen\\Fake News\n",
      "97\n",
      "downloading dependencies\n",
      "copy \\\\live.sysinternals.com\\tools\\whois.exe C:\\Users\\helen\\Fake News\n",
      "98\n",
      "downloading dependencies\n",
      "copy \\\\live.sysinternals.com\\tools\\whois.exe C:\\Users\\helen\\Fake News\n",
      "99\n",
      "downloading dependencies\n",
      "copy \\\\live.sysinternals.com\\tools\\whois.exe C:\\Users\\helen\\Fake News\n",
      "100\n",
      "downloading dependencies\n",
      "copy \\\\live.sysinternals.com\\tools\\whois.exe C:\\Users\\helen\\Fake News\n",
      "101\n",
      "downloading dependencies\n",
      "copy \\\\live.sysinternals.com\\tools\\whois.exe C:\\Users\\helen\\Fake News\n",
      "102\n",
      "downloading dependencies\n",
      "copy \\\\live.sysinternals.com\\tools\\whois.exe C:\\Users\\helen\\Fake News\n",
      "103\n",
      "downloading dependencies\n",
      "copy \\\\live.sysinternals.com\\tools\\whois.exe C:\\Users\\helen\\Fake News\n",
      "104\n",
      "downloading dependencies\n",
      "copy \\\\live.sysinternals.com\\tools\\whois.exe C:\\Users\\helen\\Fake News\n",
      "105\n",
      "downloading dependencies\n",
      "copy \\\\live.sysinternals.com\\tools\\whois.exe C:\\Users\\helen\\Fake News\n",
      "106\n",
      "downloading dependencies\n",
      "copy \\\\live.sysinternals.com\\tools\\whois.exe C:\\Users\\helen\\Fake News\n",
      "107\n",
      "downloading dependencies\n",
      "copy \\\\live.sysinternals.com\\tools\\whois.exe C:\\Users\\helen\\Fake News\n",
      "108\n",
      "downloading dependencies\n",
      "copy \\\\live.sysinternals.com\\tools\\whois.exe C:\\Users\\helen\\Fake News\n",
      "109\n",
      "downloading dependencies\n",
      "copy \\\\live.sysinternals.com\\tools\\whois.exe C:\\Users\\helen\\Fake News\n",
      "110\n",
      "downloading dependencies\n",
      "copy \\\\live.sysinternals.com\\tools\\whois.exe C:\\Users\\helen\\Fake News\n",
      "111\n",
      "downloading dependencies\n",
      "copy \\\\live.sysinternals.com\\tools\\whois.exe C:\\Users\\helen\\Fake News\n",
      "112\n",
      "downloading dependencies\n",
      "copy \\\\live.sysinternals.com\\tools\\whois.exe C:\\Users\\helen\\Fake News\n",
      "113\n",
      "downloading dependencies\n",
      "copy \\\\live.sysinternals.com\\tools\\whois.exe C:\\Users\\helen\\Fake News\n",
      "114\n",
      "downloading dependencies\n",
      "copy \\\\live.sysinternals.com\\tools\\whois.exe C:\\Users\\helen\\Fake News\n",
      "115\n",
      "downloading dependencies\n",
      "copy \\\\live.sysinternals.com\\tools\\whois.exe C:\\Users\\helen\\Fake News\n",
      "116\n",
      "downloading dependencies\n",
      "copy \\\\live.sysinternals.com\\tools\\whois.exe C:\\Users\\helen\\Fake News\n",
      "117\n",
      "downloading dependencies\n",
      "copy \\\\live.sysinternals.com\\tools\\whois.exe C:\\Users\\helen\\Fake News\n",
      "118\n",
      "downloading dependencies\n",
      "copy \\\\live.sysinternals.com\\tools\\whois.exe C:\\Users\\helen\\Fake News\n",
      "119\n",
      "downloading dependencies\n",
      "copy \\\\live.sysinternals.com\\tools\\whois.exe C:\\Users\\helen\\Fake News\n",
      "120\n",
      "downloading dependencies\n",
      "copy \\\\live.sysinternals.com\\tools\\whois.exe C:\\Users\\helen\\Fake News\n",
      "121\n",
      "downloading dependencies\n",
      "copy \\\\live.sysinternals.com\\tools\\whois.exe C:\\Users\\helen\\Fake News\n",
      "122\n",
      "downloading dependencies\n",
      "copy \\\\live.sysinternals.com\\tools\\whois.exe C:\\Users\\helen\\Fake News\n",
      "123\n",
      "downloading dependencies\n",
      "copy \\\\live.sysinternals.com\\tools\\whois.exe C:\\Users\\helen\\Fake News\n",
      "124\n",
      "downloading dependencies\n",
      "copy \\\\live.sysinternals.com\\tools\\whois.exe C:\\Users\\helen\\Fake News\n",
      "125\n",
      "downloading dependencies\n",
      "copy \\\\live.sysinternals.com\\tools\\whois.exe C:\\Users\\helen\\Fake News\n",
      "126\n",
      "downloading dependencies\n",
      "copy \\\\live.sysinternals.com\\tools\\whois.exe C:\\Users\\helen\\Fake News\n",
      "127\n",
      "downloading dependencies\n",
      "copy \\\\live.sysinternals.com\\tools\\whois.exe C:\\Users\\helen\\Fake News\n",
      "128\n",
      "downloading dependencies\n",
      "copy \\\\live.sysinternals.com\\tools\\whois.exe C:\\Users\\helen\\Fake News\n",
      "129\n",
      "downloading dependencies\n",
      "copy \\\\live.sysinternals.com\\tools\\whois.exe C:\\Users\\helen\\Fake News\n",
      "130\n",
      "downloading dependencies\n",
      "copy \\\\live.sysinternals.com\\tools\\whois.exe C:\\Users\\helen\\Fake News\n",
      "131\n",
      "downloading dependencies\n",
      "copy \\\\live.sysinternals.com\\tools\\whois.exe C:\\Users\\helen\\Fake News\n",
      "132\n",
      "downloading dependencies\n",
      "copy \\\\live.sysinternals.com\\tools\\whois.exe C:\\Users\\helen\\Fake News\n",
      "133\n",
      "downloading dependencies\n",
      "copy \\\\live.sysinternals.com\\tools\\whois.exe C:\\Users\\helen\\Fake News\n",
      "134\n",
      "downloading dependencies\n",
      "copy \\\\live.sysinternals.com\\tools\\whois.exe C:\\Users\\helen\\Fake News\n",
      "135\n",
      "downloading dependencies\n",
      "copy \\\\live.sysinternals.com\\tools\\whois.exe C:\\Users\\helen\\Fake News\n",
      "136\n",
      "downloading dependencies\n",
      "copy \\\\live.sysinternals.com\\tools\\whois.exe C:\\Users\\helen\\Fake News\n",
      "137\n",
      "downloading dependencies\n",
      "copy \\\\live.sysinternals.com\\tools\\whois.exe C:\\Users\\helen\\Fake News\n",
      "138\n",
      "downloading dependencies\n",
      "copy \\\\live.sysinternals.com\\tools\\whois.exe C:\\Users\\helen\\Fake News\n",
      "139\n",
      "downloading dependencies\n",
      "copy \\\\live.sysinternals.com\\tools\\whois.exe C:\\Users\\helen\\Fake News\n",
      "140\n",
      "downloading dependencies\n",
      "copy \\\\live.sysinternals.com\\tools\\whois.exe C:\\Users\\helen\\Fake News\n",
      "141\n",
      "downloading dependencies\n",
      "copy \\\\live.sysinternals.com\\tools\\whois.exe C:\\Users\\helen\\Fake News\n",
      "142\n",
      "downloading dependencies\n",
      "copy \\\\live.sysinternals.com\\tools\\whois.exe C:\\Users\\helen\\Fake News\n",
      "143\n",
      "downloading dependencies\n",
      "copy \\\\live.sysinternals.com\\tools\\whois.exe C:\\Users\\helen\\Fake News\n",
      "144\n",
      "downloading dependencies\n",
      "copy \\\\live.sysinternals.com\\tools\\whois.exe C:\\Users\\helen\\Fake News\n",
      "145\n",
      "downloading dependencies\n",
      "copy \\\\live.sysinternals.com\\tools\\whois.exe C:\\Users\\helen\\Fake News\n",
      "146\n",
      "downloading dependencies\n",
      "copy \\\\live.sysinternals.com\\tools\\whois.exe C:\\Users\\helen\\Fake News\n",
      "147\n",
      "downloading dependencies\n",
      "copy \\\\live.sysinternals.com\\tools\\whois.exe C:\\Users\\helen\\Fake News\n",
      "148\n",
      "downloading dependencies\n",
      "copy \\\\live.sysinternals.com\\tools\\whois.exe C:\\Users\\helen\\Fake News\n",
      "149\n",
      "downloading dependencies\n",
      "copy \\\\live.sysinternals.com\\tools\\whois.exe C:\\Users\\helen\\Fake News\n",
      "150\n",
      "downloading dependencies\n",
      "copy \\\\live.sysinternals.com\\tools\\whois.exe C:\\Users\\helen\\Fake News\n",
      "151\n",
      "downloading dependencies\n",
      "copy \\\\live.sysinternals.com\\tools\\whois.exe C:\\Users\\helen\\Fake News\n",
      "152\n",
      "downloading dependencies\n",
      "copy \\\\live.sysinternals.com\\tools\\whois.exe C:\\Users\\helen\\Fake News\n",
      "153\n",
      "downloading dependencies\n",
      "copy \\\\live.sysinternals.com\\tools\\whois.exe C:\\Users\\helen\\Fake News\n",
      "154\n",
      "downloading dependencies\n",
      "copy \\\\live.sysinternals.com\\tools\\whois.exe C:\\Users\\helen\\Fake News\n",
      "155\n",
      "downloading dependencies\n",
      "copy \\\\live.sysinternals.com\\tools\\whois.exe C:\\Users\\helen\\Fake News\n",
      "156\n",
      "downloading dependencies\n",
      "copy \\\\live.sysinternals.com\\tools\\whois.exe C:\\Users\\helen\\Fake News\n",
      "157\n",
      "downloading dependencies\n",
      "copy \\\\live.sysinternals.com\\tools\\whois.exe C:\\Users\\helen\\Fake News\n",
      "158\n",
      "downloading dependencies\n",
      "copy \\\\live.sysinternals.com\\tools\\whois.exe C:\\Users\\helen\\Fake News\n",
      "159\n",
      "downloading dependencies\n",
      "copy \\\\live.sysinternals.com\\tools\\whois.exe C:\\Users\\helen\\Fake News\n",
      "160\n",
      "downloading dependencies\n",
      "copy \\\\live.sysinternals.com\\tools\\whois.exe C:\\Users\\helen\\Fake News\n",
      "161\n",
      "downloading dependencies\n",
      "copy \\\\live.sysinternals.com\\tools\\whois.exe C:\\Users\\helen\\Fake News\n",
      "162\n",
      "downloading dependencies\n",
      "copy \\\\live.sysinternals.com\\tools\\whois.exe C:\\Users\\helen\\Fake News\n",
      "163\n",
      "downloading dependencies\n",
      "copy \\\\live.sysinternals.com\\tools\\whois.exe C:\\Users\\helen\\Fake News\n",
      "164\n",
      "downloading dependencies\n",
      "copy \\\\live.sysinternals.com\\tools\\whois.exe C:\\Users\\helen\\Fake News\n",
      "165\n",
      "downloading dependencies\n",
      "copy \\\\live.sysinternals.com\\tools\\whois.exe C:\\Users\\helen\\Fake News\n",
      "166\n",
      "downloading dependencies\n",
      "copy \\\\live.sysinternals.com\\tools\\whois.exe C:\\Users\\helen\\Fake News\n",
      "167\n",
      "downloading dependencies\n",
      "copy \\\\live.sysinternals.com\\tools\\whois.exe C:\\Users\\helen\\Fake News\n",
      "168\n",
      "downloading dependencies\n",
      "copy \\\\live.sysinternals.com\\tools\\whois.exe C:\\Users\\helen\\Fake News\n",
      "169\n",
      "downloading dependencies\n",
      "copy \\\\live.sysinternals.com\\tools\\whois.exe C:\\Users\\helen\\Fake News\n",
      "170\n",
      "downloading dependencies\n",
      "copy \\\\live.sysinternals.com\\tools\\whois.exe C:\\Users\\helen\\Fake News\n",
      "171\n",
      "downloading dependencies\n",
      "copy \\\\live.sysinternals.com\\tools\\whois.exe C:\\Users\\helen\\Fake News\n",
      "172\n",
      "downloading dependencies\n",
      "copy \\\\live.sysinternals.com\\tools\\whois.exe C:\\Users\\helen\\Fake News\n",
      "173\n",
      "downloading dependencies\n",
      "copy \\\\live.sysinternals.com\\tools\\whois.exe C:\\Users\\helen\\Fake News\n",
      "174\n",
      "downloading dependencies\n",
      "copy \\\\live.sysinternals.com\\tools\\whois.exe C:\\Users\\helen\\Fake News\n",
      "175\n",
      "downloading dependencies\n",
      "copy \\\\live.sysinternals.com\\tools\\whois.exe C:\\Users\\helen\\Fake News\n",
      "176\n",
      "downloading dependencies\n",
      "copy \\\\live.sysinternals.com\\tools\\whois.exe C:\\Users\\helen\\Fake News\n",
      "177\n",
      "downloading dependencies\n",
      "copy \\\\live.sysinternals.com\\tools\\whois.exe C:\\Users\\helen\\Fake News\n",
      "178\n",
      "downloading dependencies\n",
      "copy \\\\live.sysinternals.com\\tools\\whois.exe C:\\Users\\helen\\Fake News\n",
      "179\n",
      "downloading dependencies\n",
      "copy \\\\live.sysinternals.com\\tools\\whois.exe C:\\Users\\helen\\Fake News\n",
      "180\n",
      "downloading dependencies\n",
      "copy \\\\live.sysinternals.com\\tools\\whois.exe C:\\Users\\helen\\Fake News\n",
      "181\n",
      "downloading dependencies\n",
      "copy \\\\live.sysinternals.com\\tools\\whois.exe C:\\Users\\helen\\Fake News\n",
      "182\n",
      "downloading dependencies\n",
      "copy \\\\live.sysinternals.com\\tools\\whois.exe C:\\Users\\helen\\Fake News\n",
      "183\n",
      "downloading dependencies\n",
      "copy \\\\live.sysinternals.com\\tools\\whois.exe C:\\Users\\helen\\Fake News\n",
      "184\n",
      "downloading dependencies\n",
      "copy \\\\live.sysinternals.com\\tools\\whois.exe C:\\Users\\helen\\Fake News\n",
      "185\n",
      "downloading dependencies\n",
      "copy \\\\live.sysinternals.com\\tools\\whois.exe C:\\Users\\helen\\Fake News\n",
      "186\n",
      "downloading dependencies\n",
      "copy \\\\live.sysinternals.com\\tools\\whois.exe C:\\Users\\helen\\Fake News\n",
      "187\n",
      "downloading dependencies\n",
      "copy \\\\live.sysinternals.com\\tools\\whois.exe C:\\Users\\helen\\Fake News\n"
     ]
    }
   ],
   "source": [
    "features_list = []\n",
    "for idx, row in data.iterrows():\n",
    "  print (idx)\n",
    "  url_string = row['url']\n",
    "  reliability = row['reliability']\n",
    "  features = UrlFeaturizer(url_string).run()\n",
    "  features['reliability'] = reliability\n",
    "  features_list.append(features)\n",
    "\n",
    "df = pd.DataFrame(features_list)\n",
    "\n",
    "df"
   ]
  },
  {
   "cell_type": "code",
   "execution_count": null,
   "metadata": {
    "colab": {
     "base_uri": "https://localhost:8080/"
    },
    "id": "KEySgjxs2Tii",
    "outputId": "0771da31-b029-4b47-f480-c4cd68124507"
   },
   "outputs": [],
   "source": [
    "df.replace(True,1,inplace = True)    \n",
    "df.replace(False,0,inplace = True)\n",
    "\n",
    "df.ext = pd.Categorical(df.ext).codes\n",
    "print(df.ext.head(5))\n",
    "\n",
    "y = df['reliability'] \n",
    "encoder = LabelEncoder()    \n",
    "encoder.fit(y)    \n",
    "Y = encoder.transform(y)  \n",
    "scaler = MinMaxScaler(feature_range=(0, 1))    \n",
    "\n",
    "df = df.drop(columns = [\"reliability\"])\n",
    "             \n",
    "df"
   ]
  },
  {
   "cell_type": "code",
   "execution_count": null,
   "metadata": {},
   "outputs": [],
   "source": [
    "X = pd.DataFrame(scaler.fit_transform(df))"
   ]
  },
  {
   "cell_type": "code",
   "execution_count": null,
   "metadata": {},
   "outputs": [],
   "source": [
    "df"
   ]
  },
  {
   "cell_type": "code",
   "execution_count": null,
   "metadata": {
    "colab": {
     "base_uri": "https://localhost:8080/"
    },
    "id": "fny7v8rv0jrr",
    "outputId": "009a5e71-3870-4a25-9ea2-1b715fba8baf"
   },
   "outputs": [],
   "source": [
    "Y"
   ]
  },
  {
   "cell_type": "code",
   "execution_count": null,
   "metadata": {},
   "outputs": [],
   "source": [
    "X"
   ]
  },
  {
   "cell_type": "code",
   "execution_count": null,
   "metadata": {
    "id": "wSoDDBx12UbG"
   },
   "outputs": [],
   "source": [
    "URLX_train, URLX_test, URLy_train, URLy_test = train_test_split(X, Y, test_size=0.9, random_state=42)"
   ]
  },
  {
   "cell_type": "code",
   "execution_count": null,
   "metadata": {
    "id": "YI0cnquO6Klp"
   },
   "outputs": [],
   "source": [
    "from keras.utils.np_utils import to_categorical"
   ]
  },
  {
   "cell_type": "code",
   "execution_count": null,
   "metadata": {
    "colab": {
     "base_uri": "https://localhost:8080/"
    },
    "id": "E_L9allpNbvZ",
    "outputId": "f929aaf8-761c-4d31-dd88-f2775b053f7d"
   },
   "outputs": [],
   "source": [
    "input_dim = len(data.columns)\n",
    "\n",
    "model2 = Sequential()    \n",
    "model2.add(Dense(256, input_dim = 22 , activation = 'relu'))    \n",
    "model2.add(Dense(128, activation = 'relu'))    \n",
    "model2.add(Dense(64, activation = 'relu'))    \n",
    "model2.add(Dense(32, activation = 'relu'))    \n",
    "model2.add(Dense(16, activation = 'relu'))    \n",
    "model2.add(Dense(2, activation = 'softmax'))\n",
    "model2.compile(loss = 'categorical_crossentropy' ,optimizer='adam' , metrics = ['accuracy', 'Recall', 'Precision', 'TrueNegatives', 'TruePositives', 'FalsePositives', 'FalseNegatives'] )\n",
    "\n",
    "model2.summary()"
   ]
  },
  {
   "cell_type": "code",
   "execution_count": null,
   "metadata": {
    "colab": {
     "base_uri": "https://localhost:8080/"
    },
    "id": "61Q8DlEz58ib",
    "outputId": "9d7b64b3-d17d-4875-b499-af726a366fdf"
   },
   "outputs": [],
   "source": [
    "model2.fit(URLX_train, to_categorical(URLy_train), epochs = 100) "
   ]
  },
  {
   "cell_type": "code",
   "execution_count": null,
   "metadata": {
    "colab": {
     "base_uri": "https://localhost:8080/"
    },
    "id": "lKFf5UfoJ50n",
    "outputId": "f9456387-5de5-4e19-f268-69efd296a54c"
   },
   "outputs": [],
   "source": [
    "model2.evaluate(URLX_test, to_categorical(URLy_test))"
   ]
  },
  {
   "cell_type": "code",
   "execution_count": null,
   "metadata": {
    "colab": {
     "base_uri": "https://localhost:8080/"
    },
    "id": "jcGzW2ywSeVb",
    "outputId": "01cf6442-b322-4ffd-bbd1-d3e73ccd0c31"
   },
   "outputs": [],
   "source": [
    "URLy_test"
   ]
  },
  {
   "cell_type": "code",
   "execution_count": null,
   "metadata": {
    "id": "abjvowaaTx_l"
   },
   "outputs": [],
   "source": [
    "CNNRNNaccuracy = {}\n",
    "\n",
    "CNNRNNaccuracy['model'] = model.evaluate(\n",
    "    CNNRNNX_test, CNNRNNy_test, verbose=0)\n",
    "\n",
    "CNNRNNaccuracy = CNNRNNaccuracy['model'][1]"
   ]
  },
  {
   "cell_type": "code",
   "execution_count": null,
   "metadata": {},
   "outputs": [],
   "source": [
    "URLaccuracy = {}\n",
    "    \n",
    "URLaccuracy['model'] = model2.evaluate(\n",
    "    URLX_test, to_categorical(URLy_test), verbose=0)\n",
    "\n",
    "URLaccuracy = URLaccuracy['model'][1]"
   ]
  },
  {
   "cell_type": "code",
   "execution_count": null,
   "metadata": {},
   "outputs": [],
   "source": [
    "CNNRNNweight = CNNRNNaccuracy / (CNNRNNaccuracy + URLaccuracy)\n",
    "URLweight = URLaccuracy / (CNNRNNaccuracy + URLaccuracy)\n",
    "\n",
    "print(CNNRNNweight, URLweight)"
   ]
  },
  {
   "cell_type": "code",
   "execution_count": null,
   "metadata": {},
   "outputs": [],
   "source": [
    "CNNRNNpredictions = model.predict(CNNRNNX_test)\n",
    "CNNRNNpredictions"
   ]
  },
  {
   "cell_type": "code",
   "execution_count": null,
   "metadata": {},
   "outputs": [],
   "source": [
    "URLpredictions = model2.predict(URLX_test)\n",
    "URLpredictions[0:10]"
   ]
  },
  {
   "cell_type": "code",
   "execution_count": null,
   "metadata": {},
   "outputs": [],
   "source": [
    "for x in range(len(CNNRNNpredictions)):\n",
    "    \n",
    "    CNNRNNpredictions[x] = [CNNRNNpredictions[x][0]*CNNRNNweight, CNNRNNpredictions[x][1]*CNNRNNweight]\n",
    "\n",
    "for x in range(len(URLpredictions)):\n",
    "    URLpredictions[x] = [URLpredictions[x][0]*URLweight, URLpredictions[x][1]*URLweight]\n",
    "\n",
    "combinedResultArray = []\n",
    "for x in range(len(CNNRNNpredictions)):\n",
    "  combinedResultArray.append([CNNRNNpredictions[x][0]+URLpredictions[x][0], URLpredictions[x][1]+URLpredictions[x][1]])\n",
    "\n",
    "for x in range(len(combinedResultArray)):\n",
    "  if combinedResultArray[x][0] > combinedResultArray[x][1]:\n",
    "    combinedResultArray[x] = [1, 0]\n",
    "  else:\n",
    "    combinedResultArray[x] = [0, 1]\n",
    "    \n",
    "for x in range(len(combinedResultArray)):\n",
    "  if combinedResultArray[x] == [1, 0]:\n",
    "    combinedResultArray[x] = True\n",
    "  else:\n",
    "    combinedResultArray[x] = False\n",
    "\n",
    "# for x in range(len(combinedResultArray)):\n",
    "#   print(\"The \" + str(x + 1) + \"st/nd/th article is most likely: \" + str(combinedResultArray[x]))"
   ]
  },
  {
   "cell_type": "code",
   "execution_count": null,
   "metadata": {},
   "outputs": [],
   "source": []
  },
  {
   "cell_type": "code",
   "execution_count": null,
   "metadata": {},
   "outputs": [],
   "source": []
  },
  {
   "cell_type": "code",
   "execution_count": null,
   "metadata": {},
   "outputs": [],
   "source": []
  },
  {
   "cell_type": "code",
   "execution_count": null,
   "metadata": {},
   "outputs": [],
   "source": []
  },
  {
   "cell_type": "code",
   "execution_count": null,
   "metadata": {},
   "outputs": [],
   "source": []
  },
  {
   "cell_type": "code",
   "execution_count": null,
   "metadata": {},
   "outputs": [],
   "source": []
  }
 ],
 "metadata": {
  "accelerator": "GPU",
  "colab": {
   "collapsed_sections": [],
   "name": "ReCOVery - Combined Fake News Classifier + URL Classifier.ipynb",
   "provenance": []
  },
  "kernelspec": {
   "display_name": "Python 3",
   "language": "python",
   "name": "python3"
  },
  "language_info": {
   "codemirror_mode": {
    "name": "ipython",
    "version": 3
   },
   "file_extension": ".py",
   "mimetype": "text/x-python",
   "name": "python",
   "nbconvert_exporter": "python",
   "pygments_lexer": "ipython3",
   "version": "3.6.13"
  }
 },
 "nbformat": 4,
 "nbformat_minor": 4
}
