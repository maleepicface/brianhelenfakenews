{
 "cells": [
  {
   "cell_type": "code",
   "execution_count": 1,
   "id": "-N6dlRHlqxI6",
   "metadata": {
    "colab": {
     "base_uri": "https://localhost:8080/"
    },
    "id": "-N6dlRHlqxI6",
    "outputId": "3b804ab1-807a-457b-a303-990454dd8bab"
   },
   "outputs": [],
   "source": [
    "#from google.colab import drive\n",
    "#drive.mount('/content/drive')"
   ]
  },
  {
   "cell_type": "code",
   "execution_count": 2,
   "id": "LVisRbIMrEnI",
   "metadata": {
    "colab": {
     "base_uri": "https://localhost:8080/"
    },
    "id": "LVisRbIMrEnI",
    "outputId": "252772c3-9048-48a2-cc04-6b2193b489b4"
   },
   "outputs": [],
   "source": [
    "# %cd /content/drive/MyDrive/Github/brianhelenfakenews/"
   ]
  },
  {
   "cell_type": "markdown",
   "id": "6240868e-43e9-424d-bdb8-12a8994f7f5d",
   "metadata": {
    "id": "6240868e-43e9-424d-bdb8-12a8994f7f5d"
   },
   "source": [
    "Train: ISOT + ReCOVery + FA-KES\n",
    "\n",
    "Test: ISOT, ReCOVery, FA-KES (individually)"
   ]
  },
  {
   "cell_type": "code",
   "execution_count": 3,
   "id": "f11553ab-2a29-4583-ad56-282c53c40a51",
   "metadata": {
    "id": "f11553ab-2a29-4583-ad56-282c53c40a51"
   },
   "outputs": [],
   "source": [
    "import tensorflow as tf\n",
    "from tensorflow import keras\n",
    "import pandas as pd\n",
    "import gensim\n",
    "import matplotlib.pyplot as plt\n",
    "import seaborn as sns\n",
    "import numpy as np\n",
    "from sklearn.model_selection import train_test_split\n",
    "from tensorflow.keras.models import Sequential\n",
    "from tensorflow.keras.layers import Dense, Conv1D, Flatten, MaxPooling1D, LSTM, Embedding, Input, Dropout\n",
    "from sklearn.model_selection import train_test_split\n",
    "from sklearn.utils import shuffle\n",
    "from sklearn.metrics import multilabel_confusion_matrix\n",
    "from numpy import unique\n",
    "from tensorflow.keras import layers\n",
    "from tensorflow.math import confusion_matrix"
   ]
  },
  {
   "cell_type": "code",
   "execution_count": 4,
   "id": "d8e3e144-f137-4762-930d-90d5e02228b3",
   "metadata": {
    "colab": {
     "base_uri": "https://localhost:8080/"
    },
    "id": "d8e3e144-f137-4762-930d-90d5e02228b3",
    "outputId": "38e1c22b-51dd-4330-e474-f87f3460f31a"
   },
   "outputs": [
    {
     "name": "stdout",
     "output_type": "stream",
     "text": [
      "[name: \"/device:CPU:0\"\n",
      "device_type: \"CPU\"\n",
      "memory_limit: 268435456\n",
      "locality {\n",
      "}\n",
      "incarnation: 11487440452281933382\n",
      ", name: \"/device:DML:0\"\n",
      "device_type: \"DML\"\n",
      "memory_limit: 7355426407\n",
      "locality {\n",
      "}\n",
      "incarnation: 2581218495310193403\n",
      "physical_device_desc: \"{\\\"name\\\": \\\"AMD Radeon RX 5700 XT\\\", \\\"vendor_id\\\": 4098, \\\"device_id\\\": 29471, \\\"driver_version\\\": \\\"30.0.13023.1012\\\"}\"\n",
      "]\n"
     ]
    }
   ],
   "source": [
    "from tensorflow.python.client import device_lib \n",
    "print(device_lib.list_local_devices())"
   ]
  },
  {
   "cell_type": "code",
   "execution_count": 5,
   "id": "f0a96197-3cb3-4cc1-8cf0-2f4bf772508f",
   "metadata": {
    "colab": {
     "base_uri": "https://localhost:8080/",
     "height": 734
    },
    "id": "f0a96197-3cb3-4cc1-8cf0-2f4bf772508f",
    "outputId": "389052af-5711-4136-c3b5-57f557be01df"
   },
   "outputs": [
    {
     "data": {
      "text/html": [
       "<div>\n",
       "<style scoped>\n",
       "    .dataframe tbody tr th:only-of-type {\n",
       "        vertical-align: middle;\n",
       "    }\n",
       "\n",
       "    .dataframe tbody tr th {\n",
       "        vertical-align: top;\n",
       "    }\n",
       "\n",
       "    .dataframe thead th {\n",
       "        text-align: right;\n",
       "    }\n",
       "</style>\n",
       "<table border=\"1\" class=\"dataframe\">\n",
       "  <thead>\n",
       "    <tr style=\"text-align: right;\">\n",
       "      <th></th>\n",
       "      <th>title</th>\n",
       "      <th>text</th>\n",
       "      <th>subject</th>\n",
       "      <th>date</th>\n",
       "      <th>label</th>\n",
       "      <th>Unnamed: 5</th>\n",
       "      <th>Unnamed: 6</th>\n",
       "      <th>Unnamed: 7</th>\n",
       "      <th>Unnamed: 8</th>\n",
       "      <th>Unnamed: 9</th>\n",
       "      <th>...</th>\n",
       "      <th>Unnamed: 162</th>\n",
       "      <th>Unnamed: 163</th>\n",
       "      <th>Unnamed: 164</th>\n",
       "      <th>Unnamed: 165</th>\n",
       "      <th>Unnamed: 166</th>\n",
       "      <th>Unnamed: 167</th>\n",
       "      <th>Unnamed: 168</th>\n",
       "      <th>Unnamed: 169</th>\n",
       "      <th>Unnamed: 170</th>\n",
       "      <th>Unnamed: 171</th>\n",
       "    </tr>\n",
       "  </thead>\n",
       "  <tbody>\n",
       "    <tr>\n",
       "      <th>0</th>\n",
       "      <td>Donald Trump Sends Out Embarrassing New Year’...</td>\n",
       "      <td>Donald Trump just couldn t wish all Americans ...</td>\n",
       "      <td>News</td>\n",
       "      <td>31-Dec-17</td>\n",
       "      <td>0</td>\n",
       "      <td>NaN</td>\n",
       "      <td>NaN</td>\n",
       "      <td>NaN</td>\n",
       "      <td>NaN</td>\n",
       "      <td>NaN</td>\n",
       "      <td>...</td>\n",
       "      <td>NaN</td>\n",
       "      <td>NaN</td>\n",
       "      <td>NaN</td>\n",
       "      <td>NaN</td>\n",
       "      <td>NaN</td>\n",
       "      <td>NaN</td>\n",
       "      <td>NaN</td>\n",
       "      <td>NaN</td>\n",
       "      <td>NaN</td>\n",
       "      <td>NaN</td>\n",
       "    </tr>\n",
       "    <tr>\n",
       "      <th>1</th>\n",
       "      <td>Drunk Bragging Trump Staffer Started Russian ...</td>\n",
       "      <td>House Intelligence Committee Chairman Devin Nu...</td>\n",
       "      <td>News</td>\n",
       "      <td>31-Dec-17</td>\n",
       "      <td>0</td>\n",
       "      <td>NaN</td>\n",
       "      <td>NaN</td>\n",
       "      <td>NaN</td>\n",
       "      <td>NaN</td>\n",
       "      <td>NaN</td>\n",
       "      <td>...</td>\n",
       "      <td>NaN</td>\n",
       "      <td>NaN</td>\n",
       "      <td>NaN</td>\n",
       "      <td>NaN</td>\n",
       "      <td>NaN</td>\n",
       "      <td>NaN</td>\n",
       "      <td>NaN</td>\n",
       "      <td>NaN</td>\n",
       "      <td>NaN</td>\n",
       "      <td>NaN</td>\n",
       "    </tr>\n",
       "    <tr>\n",
       "      <th>2</th>\n",
       "      <td>Sheriff David Clarke Becomes An Internet Joke...</td>\n",
       "      <td>On Friday, it was revealed that former Milwauk...</td>\n",
       "      <td>News</td>\n",
       "      <td>30-Dec-17</td>\n",
       "      <td>0</td>\n",
       "      <td>NaN</td>\n",
       "      <td>NaN</td>\n",
       "      <td>NaN</td>\n",
       "      <td>NaN</td>\n",
       "      <td>NaN</td>\n",
       "      <td>...</td>\n",
       "      <td>NaN</td>\n",
       "      <td>NaN</td>\n",
       "      <td>NaN</td>\n",
       "      <td>NaN</td>\n",
       "      <td>NaN</td>\n",
       "      <td>NaN</td>\n",
       "      <td>NaN</td>\n",
       "      <td>NaN</td>\n",
       "      <td>NaN</td>\n",
       "      <td>NaN</td>\n",
       "    </tr>\n",
       "    <tr>\n",
       "      <th>3</th>\n",
       "      <td>Trump Is So Obsessed He Even Has Obama’s Name...</td>\n",
       "      <td>On Christmas day, Donald Trump announced that ...</td>\n",
       "      <td>News</td>\n",
       "      <td>29-Dec-17</td>\n",
       "      <td>0</td>\n",
       "      <td>NaN</td>\n",
       "      <td>NaN</td>\n",
       "      <td>NaN</td>\n",
       "      <td>NaN</td>\n",
       "      <td>NaN</td>\n",
       "      <td>...</td>\n",
       "      <td>NaN</td>\n",
       "      <td>NaN</td>\n",
       "      <td>NaN</td>\n",
       "      <td>NaN</td>\n",
       "      <td>NaN</td>\n",
       "      <td>NaN</td>\n",
       "      <td>NaN</td>\n",
       "      <td>NaN</td>\n",
       "      <td>NaN</td>\n",
       "      <td>NaN</td>\n",
       "    </tr>\n",
       "    <tr>\n",
       "      <th>4</th>\n",
       "      <td>Pope Francis Just Called Out Donald Trump Dur...</td>\n",
       "      <td>Pope Francis used his annual Christmas Day mes...</td>\n",
       "      <td>News</td>\n",
       "      <td>25-Dec-17</td>\n",
       "      <td>0</td>\n",
       "      <td>NaN</td>\n",
       "      <td>NaN</td>\n",
       "      <td>NaN</td>\n",
       "      <td>NaN</td>\n",
       "      <td>NaN</td>\n",
       "      <td>...</td>\n",
       "      <td>NaN</td>\n",
       "      <td>NaN</td>\n",
       "      <td>NaN</td>\n",
       "      <td>NaN</td>\n",
       "      <td>NaN</td>\n",
       "      <td>NaN</td>\n",
       "      <td>NaN</td>\n",
       "      <td>NaN</td>\n",
       "      <td>NaN</td>\n",
       "      <td>NaN</td>\n",
       "    </tr>\n",
       "  </tbody>\n",
       "</table>\n",
       "<p>5 rows × 172 columns</p>\n",
       "</div>"
      ],
      "text/plain": [
       "                                               title  \\\n",
       "0   Donald Trump Sends Out Embarrassing New Year’...   \n",
       "1   Drunk Bragging Trump Staffer Started Russian ...   \n",
       "2   Sheriff David Clarke Becomes An Internet Joke...   \n",
       "3   Trump Is So Obsessed He Even Has Obama’s Name...   \n",
       "4   Pope Francis Just Called Out Donald Trump Dur...   \n",
       "\n",
       "                                                text subject       date label  \\\n",
       "0  Donald Trump just couldn t wish all Americans ...    News  31-Dec-17     0   \n",
       "1  House Intelligence Committee Chairman Devin Nu...    News  31-Dec-17     0   \n",
       "2  On Friday, it was revealed that former Milwauk...    News  30-Dec-17     0   \n",
       "3  On Christmas day, Donald Trump announced that ...    News  29-Dec-17     0   \n",
       "4  Pope Francis used his annual Christmas Day mes...    News  25-Dec-17     0   \n",
       "\n",
       "  Unnamed: 5 Unnamed: 6 Unnamed: 7 Unnamed: 8 Unnamed: 9  ... Unnamed: 162  \\\n",
       "0        NaN        NaN        NaN        NaN        NaN  ...          NaN   \n",
       "1        NaN        NaN        NaN        NaN        NaN  ...          NaN   \n",
       "2        NaN        NaN        NaN        NaN        NaN  ...          NaN   \n",
       "3        NaN        NaN        NaN        NaN        NaN  ...          NaN   \n",
       "4        NaN        NaN        NaN        NaN        NaN  ...          NaN   \n",
       "\n",
       "  Unnamed: 163 Unnamed: 164 Unnamed: 165 Unnamed: 166 Unnamed: 167  \\\n",
       "0          NaN          NaN          NaN          NaN          NaN   \n",
       "1          NaN          NaN          NaN          NaN          NaN   \n",
       "2          NaN          NaN          NaN          NaN          NaN   \n",
       "3          NaN          NaN          NaN          NaN          NaN   \n",
       "4          NaN          NaN          NaN          NaN          NaN   \n",
       "\n",
       "  Unnamed: 168 Unnamed: 169 Unnamed: 170 Unnamed: 171  \n",
       "0          NaN          NaN          NaN          NaN  \n",
       "1          NaN          NaN          NaN          NaN  \n",
       "2          NaN          NaN          NaN          NaN  \n",
       "3          NaN          NaN          NaN          NaN  \n",
       "4          NaN          NaN          NaN          NaN  \n",
       "\n",
       "[5 rows x 172 columns]"
      ]
     },
     "execution_count": 5,
     "metadata": {},
     "output_type": "execute_result"
    }
   ],
   "source": [
    "true = pd.read_csv(\"../Datasets/ISOT/True.csv\", dtype=str)\n",
    "fake = pd.read_csv (\"../Datasets/ISOT/Fake.csv\", dtype=str)\n",
    "true.head()\n",
    "fake.head()"
   ]
  },
  {
   "cell_type": "code",
   "execution_count": 6,
   "id": "256294c9",
   "metadata": {
    "id": "256294c9"
   },
   "outputs": [],
   "source": [
    "true = true.loc[:, ~true.columns.str.contains('^Unnamed')]\n",
    "fake = fake.loc[:, ~fake.columns.str.contains('^Unnamed')]\n",
    "fake = fake.drop(columns=fake.columns[0])\n",
    "fake = fake.drop(columns=fake.columns[1])\n",
    "fake = fake.drop(columns=fake.columns[1])\n",
    "true = true.drop(columns=true.columns[0])\n",
    "true = true.drop(columns=true.columns[1])\n",
    "true = true.drop(columns=true.columns[1])"
   ]
  },
  {
   "cell_type": "code",
   "execution_count": 7,
   "id": "61a8029c-e5ad-49cb-bee7-4708b215d5b7",
   "metadata": {},
   "outputs": [],
   "source": [
    "true = shuffle(true, random_state=0)\n",
    "fake = shuffle(fake, random_state=0)"
   ]
  },
  {
   "cell_type": "code",
   "execution_count": 8,
   "id": "4890b3aa",
   "metadata": {
    "id": "4890b3aa"
   },
   "outputs": [],
   "source": [
    "truetrainpercentage = round(len(true)*0.8)\n",
    "truetotal = len(true)\n",
    "faketrainpercentage = round(len(fake)*0.8)\n",
    "faketotal = len(fake)"
   ]
  },
  {
   "cell_type": "code",
   "execution_count": 9,
   "id": "fdd1b66a-f467-45c7-a4c2-70c3279af2b6",
   "metadata": {
    "id": "fdd1b66a-f467-45c7-a4c2-70c3279af2b6"
   },
   "outputs": [],
   "source": [
    "truetrain = true[0:truetrainpercentage]\n",
    "truetest = true[truetrainpercentage:truetotal]\n",
    "faketrain = fake[0:faketrainpercentage]\n",
    "faketest = fake[faketrainpercentage:faketotal]"
   ]
  },
  {
   "cell_type": "code",
   "execution_count": 10,
   "id": "5de68689",
   "metadata": {
    "id": "5de68689"
   },
   "outputs": [],
   "source": [
    "fa_kes = pd.read_csv(\"../Datasets/FA-KESDataset/FA-KES-Dataset.csv\")\n",
    "recovery = pd.read_csv(\"../Datasets/ReCOVery/recovery-news-data.csv\")"
   ]
  },
  {
   "cell_type": "code",
   "execution_count": 11,
   "id": "5e5abed7-a5b6-41fc-bf09-8a2b4536e781",
   "metadata": {
    "colab": {
     "base_uri": "https://localhost:8080/",
     "height": 424
    },
    "id": "5e5abed7-a5b6-41fc-bf09-8a2b4536e781",
    "outputId": "462ab4d5-f67c-43f1-c4d7-c802ba2e189f"
   },
   "outputs": [
    {
     "data": {
      "text/html": [
       "<div>\n",
       "<style scoped>\n",
       "    .dataframe tbody tr th:only-of-type {\n",
       "        vertical-align: middle;\n",
       "    }\n",
       "\n",
       "    .dataframe tbody tr th {\n",
       "        vertical-align: top;\n",
       "    }\n",
       "\n",
       "    .dataframe thead th {\n",
       "        text-align: right;\n",
       "    }\n",
       "</style>\n",
       "<table border=\"1\" class=\"dataframe\">\n",
       "  <thead>\n",
       "    <tr style=\"text-align: right;\">\n",
       "      <th></th>\n",
       "      <th>text</th>\n",
       "      <th>label</th>\n",
       "    </tr>\n",
       "  </thead>\n",
       "  <tbody>\n",
       "    <tr>\n",
       "      <th>0</th>\n",
       "      <td>Wed 05 Apr 2017 Syria attack symptoms consiste...</td>\n",
       "      <td>0</td>\n",
       "    </tr>\n",
       "    <tr>\n",
       "      <th>1</th>\n",
       "      <td>Fri 07 Apr 2017 at 0914 Homs governor says U.S...</td>\n",
       "      <td>0</td>\n",
       "    </tr>\n",
       "    <tr>\n",
       "      <th>2</th>\n",
       "      <td>Sun 16 Apr 2017 Death toll from Aleppo bomb at...</td>\n",
       "      <td>0</td>\n",
       "    </tr>\n",
       "    <tr>\n",
       "      <th>3</th>\n",
       "      <td>Wed 19 Apr 2017 Aleppo bomb blast kills six Sy...</td>\n",
       "      <td>0</td>\n",
       "    </tr>\n",
       "    <tr>\n",
       "      <th>4</th>\n",
       "      <td>Sun 10 Jul 2016 29 Syria Rebels Dead in Fighti...</td>\n",
       "      <td>0</td>\n",
       "    </tr>\n",
       "    <tr>\n",
       "      <th>...</th>\n",
       "      <td>...</td>\n",
       "      <td>...</td>\n",
       "    </tr>\n",
       "    <tr>\n",
       "      <th>799</th>\n",
       "      <td>28-08-2016 Turkish Bombardment Kills 20 Civili...</td>\n",
       "      <td>1</td>\n",
       "    </tr>\n",
       "    <tr>\n",
       "      <th>800</th>\n",
       "      <td>17-08-2016 Martyrs as Terrorists Shell Aleppos...</td>\n",
       "      <td>1</td>\n",
       "    </tr>\n",
       "    <tr>\n",
       "      <th>801</th>\n",
       "      <td>03-08-2016 Chemical Attack Kills Five Syrians ...</td>\n",
       "      <td>0</td>\n",
       "    </tr>\n",
       "    <tr>\n",
       "      <th>802</th>\n",
       "      <td>01-08-2016 5 Killed as Russian Military Choppe...</td>\n",
       "      <td>1</td>\n",
       "    </tr>\n",
       "    <tr>\n",
       "      <th>803</th>\n",
       "      <td>April 6 2017 Syrian Army Kills 48 ISIL Terrori...</td>\n",
       "      <td>1</td>\n",
       "    </tr>\n",
       "  </tbody>\n",
       "</table>\n",
       "<p>804 rows × 2 columns</p>\n",
       "</div>"
      ],
      "text/plain": [
       "                                                  text  label\n",
       "0    Wed 05 Apr 2017 Syria attack symptoms consiste...      0\n",
       "1    Fri 07 Apr 2017 at 0914 Homs governor says U.S...      0\n",
       "2    Sun 16 Apr 2017 Death toll from Aleppo bomb at...      0\n",
       "3    Wed 19 Apr 2017 Aleppo bomb blast kills six Sy...      0\n",
       "4    Sun 10 Jul 2016 29 Syria Rebels Dead in Fighti...      0\n",
       "..                                                 ...    ...\n",
       "799  28-08-2016 Turkish Bombardment Kills 20 Civili...      1\n",
       "800  17-08-2016 Martyrs as Terrorists Shell Aleppos...      1\n",
       "801  03-08-2016 Chemical Attack Kills Five Syrians ...      0\n",
       "802  01-08-2016 5 Killed as Russian Military Choppe...      1\n",
       "803  April 6 2017 Syrian Army Kills 48 ISIL Terrori...      1\n",
       "\n",
       "[804 rows x 2 columns]"
      ]
     },
     "execution_count": 11,
     "metadata": {},
     "output_type": "execute_result"
    }
   ],
   "source": [
    "fa_kes = fa_kes.drop(columns=fa_kes.columns[0])\n",
    "fa_kes = fa_kes.drop(columns=fa_kes.columns[0])\n",
    "fa_kes = fa_kes.drop(columns=fa_kes.columns[1])\n",
    "fa_kes = fa_kes.drop(columns=fa_kes.columns[1])\n",
    "fa_kes = fa_kes.drop(columns=fa_kes.columns[1])\n",
    "fa_kes = fa_kes.drop(columns=fa_kes.columns[2])\n",
    "fa_kes"
   ]
  },
  {
   "cell_type": "code",
   "execution_count": 12,
   "id": "71108423-185c-4159-97d8-0e906692dc28",
   "metadata": {
    "colab": {
     "base_uri": "https://localhost:8080/",
     "height": 424
    },
    "id": "71108423-185c-4159-97d8-0e906692dc28",
    "outputId": "8ff8f33f-628d-4528-9a3a-03168424715e"
   },
   "outputs": [
    {
     "data": {
      "text/html": [
       "<div>\n",
       "<style scoped>\n",
       "    .dataframe tbody tr th:only-of-type {\n",
       "        vertical-align: middle;\n",
       "    }\n",
       "\n",
       "    .dataframe tbody tr th {\n",
       "        vertical-align: top;\n",
       "    }\n",
       "\n",
       "    .dataframe thead th {\n",
       "        text-align: right;\n",
       "    }\n",
       "</style>\n",
       "<table border=\"1\" class=\"dataframe\">\n",
       "  <thead>\n",
       "    <tr style=\"text-align: right;\">\n",
       "      <th></th>\n",
       "      <th>text</th>\n",
       "      <th>label</th>\n",
       "    </tr>\n",
       "  </thead>\n",
       "  <tbody>\n",
       "    <tr>\n",
       "      <th>0</th>\n",
       "      <td>\\nA novel respiratory virus that originated in...</td>\n",
       "      <td>1</td>\n",
       "    </tr>\n",
       "    <tr>\n",
       "      <th>1</th>\n",
       "      <td>Chinese Health Officials: More Die From Newly ...</td>\n",
       "      <td>1</td>\n",
       "    </tr>\n",
       "    <tr>\n",
       "      <th>2</th>\n",
       "      <td>Public health experts around the globe are scr...</td>\n",
       "      <td>1</td>\n",
       "    </tr>\n",
       "    <tr>\n",
       "      <th>3</th>\n",
       "      <td>The first two coronavirus cases in Europe have...</td>\n",
       "      <td>0</td>\n",
       "    </tr>\n",
       "    <tr>\n",
       "      <th>4</th>\n",
       "      <td>A new coronavirus appeared in Wuhan, China, at...</td>\n",
       "      <td>1</td>\n",
       "    </tr>\n",
       "    <tr>\n",
       "      <th>...</th>\n",
       "      <td>...</td>\n",
       "      <td>...</td>\n",
       "    </tr>\n",
       "    <tr>\n",
       "      <th>2024</th>\n",
       "      <td>© Robert Gauthier/Los Angeles Times/TNS People...</td>\n",
       "      <td>0</td>\n",
       "    </tr>\n",
       "    <tr>\n",
       "      <th>2025</th>\n",
       "      <td>Michael Moore, for decades on the political fr...</td>\n",
       "      <td>0</td>\n",
       "    </tr>\n",
       "    <tr>\n",
       "      <th>2026</th>\n",
       "      <td>© HEATHER KHALIFA/The Philadelphia Inquirer/TN...</td>\n",
       "      <td>0</td>\n",
       "    </tr>\n",
       "    <tr>\n",
       "      <th>2027</th>\n",
       "      <td>Nearly half of the Twitter accounts sharing in...</td>\n",
       "      <td>0</td>\n",
       "    </tr>\n",
       "    <tr>\n",
       "      <th>2028</th>\n",
       "      <td>In Brief The Facts: Major events have a lastin...</td>\n",
       "      <td>0</td>\n",
       "    </tr>\n",
       "  </tbody>\n",
       "</table>\n",
       "<p>2029 rows × 2 columns</p>\n",
       "</div>"
      ],
      "text/plain": [
       "                                                   text  label\n",
       "0     \\nA novel respiratory virus that originated in...      1\n",
       "1     Chinese Health Officials: More Die From Newly ...      1\n",
       "2     Public health experts around the globe are scr...      1\n",
       "3     The first two coronavirus cases in Europe have...      0\n",
       "4     A new coronavirus appeared in Wuhan, China, at...      1\n",
       "...                                                 ...    ...\n",
       "2024  © Robert Gauthier/Los Angeles Times/TNS People...      0\n",
       "2025  Michael Moore, for decades on the political fr...      0\n",
       "2026  © HEATHER KHALIFA/The Philadelphia Inquirer/TN...      0\n",
       "2027  Nearly half of the Twitter accounts sharing in...      0\n",
       "2028  In Brief The Facts: Major events have a lastin...      0\n",
       "\n",
       "[2029 rows x 2 columns]"
      ]
     },
     "execution_count": 12,
     "metadata": {},
     "output_type": "execute_result"
    }
   ],
   "source": [
    "recovery = recovery.drop(columns=recovery.columns[0])\n",
    "recovery = recovery.drop(columns=recovery.columns[0])\n",
    "recovery = recovery.drop(columns=recovery.columns[0])\n",
    "recovery = recovery.drop(columns=recovery.columns[0])\n",
    "recovery = recovery.drop(columns=recovery.columns[0])\n",
    "recovery = recovery.drop(columns=recovery.columns[0])\n",
    "recovery = recovery.drop(columns=recovery.columns[0])\n",
    "recovery = recovery.drop(columns=recovery.columns[0])\n",
    "recovery = recovery.drop(columns=recovery.columns[1])\n",
    "recovery = recovery.drop(columns=recovery.columns[1])\n",
    "recovery"
   ]
  },
  {
   "cell_type": "code",
   "execution_count": 13,
   "id": "c35edc3b-ab66-446d-a022-cbf9d8bcfbad",
   "metadata": {},
   "outputs": [],
   "source": [
    "fa_kes = shuffle(fa_kes, random_state=0)\n",
    "recovery = shuffle(recovery, random_state=0)"
   ]
  },
  {
   "cell_type": "code",
   "execution_count": 14,
   "id": "8973bba7-df45-4eb5-9e9f-011798da4f11",
   "metadata": {
    "id": "8973bba7-df45-4eb5-9e9f-011798da4f11"
   },
   "outputs": [],
   "source": [
    "fa_kestrainpercentage = round(len(fa_kes)*0.8)\n",
    "fa_kestotal = len(fa_kes)\n",
    "recoverytrainpercentage = round(len(recovery)*0.8)\n",
    "recoverytotal = len(recovery)\n",
    "\n",
    "fa_kestrain = fa_kes[0:fa_kestrainpercentage]\n",
    "fa_kestest = fa_kes[fa_kestrainpercentage:fa_kestotal]\n",
    "recoverytrain = recovery[0:recoverytrainpercentage]\n",
    "recoverytest = recovery[recoverytrainpercentage:recoverytotal]"
   ]
  },
  {
   "cell_type": "code",
   "execution_count": 99,
   "id": "6bd891c2",
   "metadata": {
    "id": "6bd891c2"
   },
   "outputs": [],
   "source": [
    "trainframes = [truetrain, faketrain]\n",
    "train = pd.concat(trainframes)\n",
    "train = shuffle(train, random_state=0)"
   ]
  },
  {
   "cell_type": "code",
   "execution_count": 100,
   "id": "c63dd68e",
   "metadata": {},
   "outputs": [],
   "source": [
    "isottestframes = [truetest, faketest]\n",
    "isottest = pd.concat(isottestframes)"
   ]
  },
  {
   "cell_type": "code",
   "execution_count": 101,
   "id": "84f7ebb4",
   "metadata": {
    "colab": {
     "base_uri": "https://localhost:8080/",
     "height": 424
    },
    "id": "84f7ebb4",
    "outputId": "b4193a55-dcfe-4aa6-9c7a-a759cb4261fb"
   },
   "outputs": [
    {
     "data": {
      "text/html": [
       "<div>\n",
       "<style scoped>\n",
       "    .dataframe tbody tr th:only-of-type {\n",
       "        vertical-align: middle;\n",
       "    }\n",
       "\n",
       "    .dataframe tbody tr th {\n",
       "        vertical-align: top;\n",
       "    }\n",
       "\n",
       "    .dataframe thead th {\n",
       "        text-align: right;\n",
       "    }\n",
       "</style>\n",
       "<table border=\"1\" class=\"dataframe\">\n",
       "  <thead>\n",
       "    <tr style=\"text-align: right;\">\n",
       "      <th></th>\n",
       "      <th>text</th>\n",
       "      <th>label</th>\n",
       "    </tr>\n",
       "  </thead>\n",
       "  <tbody>\n",
       "    <tr>\n",
       "      <th>18300</th>\n",
       "      <td>The hate for the Trump family by the defeated ...</td>\n",
       "      <td>0</td>\n",
       "    </tr>\n",
       "    <tr>\n",
       "      <th>19237</th>\n",
       "      <td>BERLIN/GREIFSWALD, Germany (Reuters) - German ...</td>\n",
       "      <td>1</td>\n",
       "    </tr>\n",
       "    <tr>\n",
       "      <th>156</th>\n",
       "      <td>If Hillary Clinton got into a fistfight with J...</td>\n",
       "      <td>0</td>\n",
       "    </tr>\n",
       "    <tr>\n",
       "      <th>21102</th>\n",
       "      <td>Nah nah nah nah hey hey hey good bye Support f...</td>\n",
       "      <td>0</td>\n",
       "    </tr>\n",
       "    <tr>\n",
       "      <th>16722</th>\n",
       "      <td>General Boykin spoke at The Awakening 2016 con...</td>\n",
       "      <td>0</td>\n",
       "    </tr>\n",
       "    <tr>\n",
       "      <th>...</th>\n",
       "      <td>...</td>\n",
       "      <td>...</td>\n",
       "    </tr>\n",
       "    <tr>\n",
       "      <th>8771</th>\n",
       "      <td>Politicians have been known to do a lot of thi...</td>\n",
       "      <td>0</td>\n",
       "    </tr>\n",
       "    <tr>\n",
       "      <th>4085</th>\n",
       "      <td>It was just a simple tweet but Stephen King s ...</td>\n",
       "      <td>0</td>\n",
       "    </tr>\n",
       "    <tr>\n",
       "      <th>18378</th>\n",
       "      <td>United Airlines should probably consider an ex...</td>\n",
       "      <td>0</td>\n",
       "    </tr>\n",
       "    <tr>\n",
       "      <th>8683</th>\n",
       "      <td>If there s one person that you don t want to m...</td>\n",
       "      <td>0</td>\n",
       "    </tr>\n",
       "    <tr>\n",
       "      <th>6111</th>\n",
       "      <td>WASHINGTON (Reuters) - U.S. President Donald T...</td>\n",
       "      <td>1</td>\n",
       "    </tr>\n",
       "  </tbody>\n",
       "</table>\n",
       "<p>35936 rows × 2 columns</p>\n",
       "</div>"
      ],
      "text/plain": [
       "                                                    text label\n",
       "18300  The hate for the Trump family by the defeated ...     0\n",
       "19237  BERLIN/GREIFSWALD, Germany (Reuters) - German ...     1\n",
       "156    If Hillary Clinton got into a fistfight with J...     0\n",
       "21102  Nah nah nah nah hey hey hey good bye Support f...     0\n",
       "16722  General Boykin spoke at The Awakening 2016 con...     0\n",
       "...                                                  ...   ...\n",
       "8771   Politicians have been known to do a lot of thi...     0\n",
       "4085   It was just a simple tweet but Stephen King s ...     0\n",
       "18378  United Airlines should probably consider an ex...     0\n",
       "8683   If there s one person that you don t want to m...     0\n",
       "6111   WASHINGTON (Reuters) - U.S. President Donald T...     1\n",
       "\n",
       "[35936 rows x 2 columns]"
      ]
     },
     "execution_count": 101,
     "metadata": {},
     "output_type": "execute_result"
    }
   ],
   "source": [
    "train"
   ]
  },
  {
   "cell_type": "code",
   "execution_count": 102,
   "id": "xcX5XFXNvd5l",
   "metadata": {
    "colab": {
     "base_uri": "https://localhost:8080/"
    },
    "id": "xcX5XFXNvd5l",
    "outputId": "d5418b82-9bdd-4a18-99c1-a89cad8481e4"
   },
   "outputs": [
    {
     "data": {
      "text/plain": [
       "<spacy.lang.en.English at 0x2820f3d2c88>"
      ]
     },
     "execution_count": 102,
     "metadata": {},
     "output_type": "execute_result"
    }
   ],
   "source": [
    "import spacy\n",
    "spacy.load('en_core_web_sm')"
   ]
  },
  {
   "cell_type": "code",
   "execution_count": 103,
   "id": "vOM2g_oBkSMV",
   "metadata": {
    "colab": {
     "base_uri": "https://localhost:8080/",
     "height": 434
    },
    "id": "vOM2g_oBkSMV",
    "outputId": "f1da7baf-1c0c-49ec-a098-72ea7a065a61"
   },
   "outputs": [
    {
     "name": "stdout",
     "output_type": "stream",
     "text": [
      "Requirement already satisfied: beautifulsoup4==4.9.1 in c:\\users\\bliu0\\anaconda3\\envs\\tf\\lib\\site-packages (4.9.1)\n",
      "Requirement already satisfied: soupsieve>1.2 in c:\\users\\bliu0\\anaconda3\\envs\\tf\\lib\\site-packages (from beautifulsoup4==4.9.1) (2.3.1)\n",
      "Requirement already satisfied: textblob==0.15.3 in c:\\users\\bliu0\\anaconda3\\envs\\tf\\lib\\site-packages (0.15.3)\n",
      "Requirement already satisfied: nltk>=3.1 in c:\\users\\bliu0\\anaconda3\\envs\\tf\\lib\\site-packages (from textblob==0.15.3) (3.6.7)\n",
      "Requirement already satisfied: regex>=2021.8.3 in c:\\users\\bliu0\\anaconda3\\envs\\tf\\lib\\site-packages (from nltk>=3.1->textblob==0.15.3) (2021.11.10)\n",
      "Requirement already satisfied: joblib in c:\\users\\bliu0\\anaconda3\\envs\\tf\\lib\\site-packages (from nltk>=3.1->textblob==0.15.3) (1.1.0)\n",
      "Requirement already satisfied: click in c:\\users\\bliu0\\anaconda3\\envs\\tf\\lib\\site-packages (from nltk>=3.1->textblob==0.15.3) (8.0.3)\n",
      "Requirement already satisfied: tqdm in c:\\users\\bliu0\\anaconda3\\envs\\tf\\lib\\site-packages (from nltk>=3.1->textblob==0.15.3) (4.62.3)\n",
      "Requirement already satisfied: importlib-metadata in c:\\users\\bliu0\\anaconda3\\envs\\tf\\lib\\site-packages (from click->nltk>=3.1->textblob==0.15.3) (4.8.3)\n",
      "Requirement already satisfied: colorama in c:\\users\\bliu0\\anaconda3\\envs\\tf\\lib\\site-packages (from click->nltk>=3.1->textblob==0.15.3) (0.4.4)\n",
      "Requirement already satisfied: zipp>=0.5 in c:\\users\\bliu0\\anaconda3\\envs\\tf\\lib\\site-packages (from importlib-metadata->click->nltk>=3.1->textblob==0.15.3) (3.6.0)\n",
      "Requirement already satisfied: typing-extensions>=3.6.4 in c:\\users\\bliu0\\anaconda3\\envs\\tf\\lib\\site-packages (from importlib-metadata->click->nltk>=3.1->textblob==0.15.3) (4.0.1)\n",
      "Collecting git+https://github.com/laxmimerit/preprocess_kgptalkie.git\n",
      "  Cloning https://github.com/laxmimerit/preprocess_kgptalkie.git to c:\\users\\bliu0\\appdata\\local\\temp\\pip-req-build-px35mu7h\n",
      "  Resolved https://github.com/laxmimerit/preprocess_kgptalkie.git to commit 9ca68d37027af9f6a30d54640347ce3b2e2694b3\n",
      "Building wheels for collected packages: preprocess-kgptalkie\n",
      "  Building wheel for preprocess-kgptalkie (setup.py): started\n",
      "  Building wheel for preprocess-kgptalkie (setup.py): finished with status 'done'\n",
      "  Created wheel for preprocess-kgptalkie: filename=preprocess_kgptalkie-0.1.3-py3-none-any.whl size=7691 sha256=1481f078b8e8f04a9daca95987fe1f1a725abbaac404d171b28cb5ee8ad4ee05\n",
      "  Stored in directory: C:\\Users\\bliu0\\AppData\\Local\\Temp\\pip-ephem-wheel-cache-2uyuwv8m\\wheels\\cd\\26\\af\\103cfac199bd773bfc95ed85a52fe9095e4d902ed9ac3b0c97\n",
      "Successfully built preprocess-kgptalkie\n",
      "Installing collected packages: preprocess-kgptalkie\n",
      "  Attempting uninstall: preprocess-kgptalkie\n",
      "    Found existing installation: preprocess-kgptalkie 0.1.3\n",
      "    Uninstalling preprocess-kgptalkie-0.1.3:\n",
      "      Successfully uninstalled preprocess-kgptalkie-0.1.3\n",
      "Successfully installed preprocess-kgptalkie-0.1.3\n"
     ]
    },
    {
     "name": "stderr",
     "output_type": "stream",
     "text": [
      "  Running command git clone -q https://github.com/laxmimerit/preprocess_kgptalkie.git 'C:\\Users\\bliu0\\AppData\\Local\\Temp\\pip-req-build-px35mu7h'\n"
     ]
    }
   ],
   "source": [
    "#!pip install spacy== 3.0.0\n",
    "#!python -m spacy download en_core_web_sm\n",
    "!pip install beautifulsoup4==4.9.1\n",
    "!pip install textblob==0.15.3\n",
    "!pip install git+https://github.com/laxmimerit/preprocess_kgptalkie.git --upgrade --force-reinstall"
   ]
  },
  {
   "cell_type": "code",
   "execution_count": 104,
   "id": "ZZPCf4ShkUDi",
   "metadata": {
    "id": "ZZPCf4ShkUDi"
   },
   "outputs": [],
   "source": [
    "import preprocess_kgptalkie as ps"
   ]
  },
  {
   "cell_type": "code",
   "execution_count": 105,
   "id": "NltNzKwwkWUn",
   "metadata": {
    "colab": {
     "base_uri": "https://localhost:8080/"
    },
    "id": "NltNzKwwkWUn",
    "outputId": "a6995a1c-6b94-48d3-ef09-b64ded025afd"
   },
   "outputs": [],
   "source": [
    "train['text'] = train['text'].apply(lambda x: str(x).lower())\n",
    "isottest['text'] = isottest['text'].apply(lambda x: str(x).lower())\n",
    "fa_kes['text'] = fa_kes['text'].apply(lambda x: str(x).lower())\n",
    "recovery['text'] = recovery['text'].apply(lambda x: str(x).lower())\n",
    "\n",
    "train['text'] = train['text'].apply(lambda x: ps.remove_special_chars(x))\n",
    "isottest['text'] = isottest['text'].apply(lambda x: ps.remove_special_chars(x))\n",
    "fa_kes['text'] = fa_kes['text'].apply(lambda x: ps.remove_special_chars(x))\n",
    "recovery['text'] = recovery['text'].apply(lambda x: ps.remove_special_chars(x))"
   ]
  },
  {
   "cell_type": "code",
   "execution_count": 106,
   "id": "83c66b28-8337-473f-8e39-da00dac0d5b4",
   "metadata": {
    "colab": {
     "base_uri": "https://localhost:8080/",
     "height": 424
    },
    "id": "83c66b28-8337-473f-8e39-da00dac0d5b4",
    "outputId": "5b2e99b0-e0bd-4a05-ec77-c4d9b9b87f9b"
   },
   "outputs": [
    {
     "data": {
      "text/html": [
       "<div>\n",
       "<style scoped>\n",
       "    .dataframe tbody tr th:only-of-type {\n",
       "        vertical-align: middle;\n",
       "    }\n",
       "\n",
       "    .dataframe tbody tr th {\n",
       "        vertical-align: top;\n",
       "    }\n",
       "\n",
       "    .dataframe thead th {\n",
       "        text-align: right;\n",
       "    }\n",
       "</style>\n",
       "<table border=\"1\" class=\"dataframe\">\n",
       "  <thead>\n",
       "    <tr style=\"text-align: right;\">\n",
       "      <th></th>\n",
       "      <th>text</th>\n",
       "      <th>label</th>\n",
       "    </tr>\n",
       "  </thead>\n",
       "  <tbody>\n",
       "    <tr>\n",
       "      <th>18300</th>\n",
       "      <td>the hate for the trump family by the defeated ...</td>\n",
       "      <td>0</td>\n",
       "    </tr>\n",
       "    <tr>\n",
       "      <th>19237</th>\n",
       "      <td>berlingreifswald germany reuters german chance...</td>\n",
       "      <td>1</td>\n",
       "    </tr>\n",
       "    <tr>\n",
       "      <th>156</th>\n",
       "      <td>if hillary clinton got into a fistfight with j...</td>\n",
       "      <td>0</td>\n",
       "    </tr>\n",
       "    <tr>\n",
       "      <th>21102</th>\n",
       "      <td>nah nah nah nah hey hey hey good bye support f...</td>\n",
       "      <td>0</td>\n",
       "    </tr>\n",
       "    <tr>\n",
       "      <th>16722</th>\n",
       "      <td>general boykin spoke at the awakening 2016 con...</td>\n",
       "      <td>0</td>\n",
       "    </tr>\n",
       "    <tr>\n",
       "      <th>...</th>\n",
       "      <td>...</td>\n",
       "      <td>...</td>\n",
       "    </tr>\n",
       "    <tr>\n",
       "      <th>8771</th>\n",
       "      <td>politicians have been known to do a lot of thi...</td>\n",
       "      <td>0</td>\n",
       "    </tr>\n",
       "    <tr>\n",
       "      <th>4085</th>\n",
       "      <td>it was just a simple tweet but stephen king s ...</td>\n",
       "      <td>0</td>\n",
       "    </tr>\n",
       "    <tr>\n",
       "      <th>18378</th>\n",
       "      <td>united airlines should probably consider an ex...</td>\n",
       "      <td>0</td>\n",
       "    </tr>\n",
       "    <tr>\n",
       "      <th>8683</th>\n",
       "      <td>if there s one person that you don t want to m...</td>\n",
       "      <td>0</td>\n",
       "    </tr>\n",
       "    <tr>\n",
       "      <th>6111</th>\n",
       "      <td>washington reuters us president donald trump w...</td>\n",
       "      <td>1</td>\n",
       "    </tr>\n",
       "  </tbody>\n",
       "</table>\n",
       "<p>35936 rows × 2 columns</p>\n",
       "</div>"
      ],
      "text/plain": [
       "                                                    text label\n",
       "18300  the hate for the trump family by the defeated ...     0\n",
       "19237  berlingreifswald germany reuters german chance...     1\n",
       "156    if hillary clinton got into a fistfight with j...     0\n",
       "21102  nah nah nah nah hey hey hey good bye support f...     0\n",
       "16722  general boykin spoke at the awakening 2016 con...     0\n",
       "...                                                  ...   ...\n",
       "8771   politicians have been known to do a lot of thi...     0\n",
       "4085   it was just a simple tweet but stephen king s ...     0\n",
       "18378  united airlines should probably consider an ex...     0\n",
       "8683   if there s one person that you don t want to m...     0\n",
       "6111   washington reuters us president donald trump w...     1\n",
       "\n",
       "[35936 rows x 2 columns]"
      ]
     },
     "execution_count": 106,
     "metadata": {},
     "output_type": "execute_result"
    }
   ],
   "source": [
    "train"
   ]
  },
  {
   "cell_type": "code",
   "execution_count": null,
   "id": "4529b520-93bf-4fb1-9c71-182b3ebe4eeb",
   "metadata": {
    "id": "4529b520-93bf-4fb1-9c71-182b3ebe4eeb"
   },
   "outputs": [],
   "source": [
    "trainx = [d.split() for d in train['text'].tolist()]\n",
    "trainy = train['label'].values\n",
    "\n",
    "isotx = [d.split() for d in isottest['text'].tolist()]\n",
    "isoty = isottest['label'].values\n",
    "\n",
    "fa_kesx = [d.split() for d in fa_kes['text'].tolist()]\n",
    "fa_kesy = fa_kes['label'].values\n",
    "\n",
    "recoveryx = [d.split() for d in recovery['text'].tolist()]\n",
    "recoveryy = recovery['label'].values"
   ]
  },
  {
   "cell_type": "code",
   "execution_count": null,
   "id": "BdEhuTOskg51",
   "metadata": {
    "colab": {
     "background_save": true
    },
    "id": "BdEhuTOskg51"
   },
   "outputs": [],
   "source": [
    "DIM = 600\n",
    "trainw2v_model = gensim.models.Word2Vec(sentences=trainx, vector_size=DIM, window=10, min_count=1)\n",
    "\n",
    "isotw2v_model = gensim.models.Word2Vec(sentences=isotx, vector_size=DIM, window=10, min_count=1)\n",
    "\n",
    "fa_kesw2v_model = gensim.models.Word2Vec(sentences=fa_kesx, vector_size=DIM, window=10, min_count=1)\n",
    "\n",
    "recoveryw2v_model = gensim.models.Word2Vec(sentences=recoveryx, vector_size=DIM, window=10, min_count=1)\n",
    "\n",
    "# size --> vector_size"
   ]
  },
  {
   "cell_type": "code",
   "execution_count": null,
   "id": "qSWcus5hklcm",
   "metadata": {
    "id": "qSWcus5hklcm"
   },
   "outputs": [],
   "source": [
    "len(trainw2v_model.wv.key_to_index)\n",
    "\n",
    "len(isotw2v_model.wv.key_to_index)\n",
    "\n",
    "len(fa_kesw2v_model.wv.key_to_index)\n",
    "\n",
    "len(recoveryw2v_model.wv.key_to_index)"
   ]
  },
  {
   "cell_type": "code",
   "execution_count": null,
   "id": "iFBb336ck2-S",
   "metadata": {
    "id": "iFBb336ck2-S"
   },
   "outputs": [],
   "source": [
    "traintokenizer = tf.keras.preprocessing.text.Tokenizer()\n",
    "traintokenizer.fit_on_texts(trainx)\n",
    "\n",
    "isottokenizer = tf.keras.preprocessing.text.Tokenizer()\n",
    "isottokenizer.fit_on_texts(isotx)\n",
    "\n",
    "fa_kestokenizer = tf.keras.preprocessing.text.Tokenizer()\n",
    "fa_kestokenizer.fit_on_texts(fa_kesx)\n",
    "\n",
    "recoverytokenizer = tf.keras.preprocessing.text.Tokenizer()\n",
    "recoverytokenizer.fit_on_texts(recoveryx)"
   ]
  },
  {
   "cell_type": "code",
   "execution_count": null,
   "id": "jd604c77k4SX",
   "metadata": {
    "id": "jd604c77k4SX"
   },
   "outputs": [],
   "source": [
    "trainx = traintokenizer.texts_to_sequences(trainx)\n",
    "\n",
    "isotx = isottokenizer.texts_to_sequences(isotx)\n",
    "\n",
    "fa_kesx = fa_kestokenizer.texts_to_sequences(fa_kesx)\n",
    "\n",
    "recoveryx = recoverytokenizer.texts_to_sequences(recoveryx)"
   ]
  },
  {
   "cell_type": "code",
   "execution_count": null,
   "id": "r-V0IBZBk5fN",
   "metadata": {
    "id": "r-V0IBZBk5fN"
   },
   "outputs": [],
   "source": [
    "plt.hist([len(a) for a in trainx], bins = 700)\n",
    "plt.xlabel(\"Character Count\")\n",
    "plt.ylabel(\"Number of Articles\")\n",
    "print(\"train\")\n",
    "plt.show()"
   ]
  },
  {
   "cell_type": "code",
   "execution_count": null,
   "id": "816100a2",
   "metadata": {},
   "outputs": [],
   "source": [
    "plt.hist([len(a) for a in isotx], bins = 700)\n",
    "plt.xlabel(\"Character Count\")\n",
    "plt.ylabel(\"Number of Articles\")\n",
    "print(\"isot\")\n",
    "plt.show()"
   ]
  },
  {
   "cell_type": "code",
   "execution_count": null,
   "id": "adf47c9b",
   "metadata": {},
   "outputs": [],
   "source": [
    "plt.hist([len(a) for a in fa_kesx], bins = 700)\n",
    "plt.xlabel(\"Character Count\")\n",
    "plt.ylabel(\"Number of Articles\")\n",
    "print(\"fa_kes\")\n",
    "plt.show()"
   ]
  },
  {
   "cell_type": "code",
   "execution_count": null,
   "id": "70fad22b",
   "metadata": {},
   "outputs": [],
   "source": [
    "plt.hist([len(a) for a in recoveryx], bins = 700)\n",
    "plt.xlabel(\"Character Count\")\n",
    "plt.ylabel(\"Number of Articles\")\n",
    "print(\"recovery\")\n",
    "plt.show()"
   ]
  },
  {
   "cell_type": "code",
   "execution_count": null,
   "id": "uegb7kuRk6xQ",
   "metadata": {
    "id": "uegb7kuRk6xQ"
   },
   "outputs": [],
   "source": [
    "trainnos = np.array([len(a) for a in trainx])\n",
    "len(trainnos[trainnos>1000])\n",
    "\n",
    "isotnos = np.array([len(a) for a in isotx])\n",
    "len(isotnos[isotnos>1000])\n",
    "\n",
    "fa_kesnos = np.array([len(a) for a in fa_kesx])\n",
    "len(fa_kesnos[fa_kesnos>1000])\n",
    "\n",
    "recoverynos = np.array([len(a) for a in recoveryx])\n",
    "len(recoverynos[recoverynos>1000])"
   ]
  },
  {
   "cell_type": "code",
   "execution_count": null,
   "id": "JfCZt1NXk88H",
   "metadata": {
    "id": "JfCZt1NXk88H"
   },
   "outputs": [],
   "source": [
    "maxlen = 100\n",
    "trainx = tf.keras.preprocessing.sequence.pad_sequences(trainx, maxlen=maxlen)\n",
    "\n",
    "isotx = tf.keras.preprocessing.sequence.pad_sequences(isotx, maxlen=maxlen)\n",
    "\n",
    "fa_kesx = tf.keras.preprocessing.sequence.pad_sequences(fa_kesx, maxlen=maxlen)\n",
    "\n",
    "recoveryx = tf.keras.preprocessing.sequence.pad_sequences(recoveryx, maxlen=maxlen)"
   ]
  },
  {
   "cell_type": "code",
   "execution_count": null,
   "id": "6PxJgLW4k-P0",
   "metadata": {
    "id": "6PxJgLW4k-P0"
   },
   "outputs": [],
   "source": [
    "trainvocab_size = len(traintokenizer.word_index) + 1\n",
    "trainvocab = traintokenizer.word_index\n",
    "\n",
    "isotvocab_size = len(isottokenizer.word_index) + 1\n",
    "isotvocab = isottokenizer.word_index\n",
    "\n",
    "fa_kesvocab_size = len(fa_kestokenizer.word_index) + 1\n",
    "fa_kesvocab = fa_kestokenizer.word_index\n",
    "\n",
    "recoveryvocab_size = len(recoverytokenizer.word_index) + 1\n",
    "recoveryvocab = recoverytokenizer.word_index"
   ]
  },
  {
   "cell_type": "code",
   "execution_count": null,
   "id": "ToVB6dVqlAI9",
   "metadata": {
    "id": "ToVB6dVqlAI9"
   },
   "outputs": [],
   "source": [
    "def get_weight_matrix(model):\n",
    "    weight_matrix = np.zeros((trainvocab_size, DIM))\n",
    "    \n",
    "    for word, i in trainvocab.items():\n",
    "        try:\n",
    "            weight_matrix[i] = model.wv[word]\n",
    "        except:\n",
    "            print(\"whatever\")\n",
    "        \n",
    "    return weight_matrix"
   ]
  },
  {
   "cell_type": "code",
   "execution_count": null,
   "id": "_SnH_lYDlB7x",
   "metadata": {
    "id": "_SnH_lYDlB7x"
   },
   "outputs": [],
   "source": [
    "embedding_vectors = get_weight_matrix(trainw2v_model)"
   ]
  },
  {
   "cell_type": "code",
   "execution_count": null,
   "id": "y5X_QRfTlDNE",
   "metadata": {
    "id": "y5X_QRfTlDNE"
   },
   "outputs": [],
   "source": [
    "embedding_vectors.shape"
   ]
  },
  {
   "cell_type": "code",
   "execution_count": null,
   "id": "a636feb9-b8ff-4ba9-bf24-31f40fb12d99",
   "metadata": {},
   "outputs": [],
   "source": [
    "model = Sequential()\n",
    "\n",
    "model.add(Embedding(trainvocab_size, output_dim=DIM, weights=[embedding_vectors], input_length=maxlen, trainable = False))\n",
    "model.add(Conv1D(8, 5, activation=\"relu\"))\n",
    "model.add(MaxPooling1D(pool_size=2, strides=2, padding=\"valid\")) \n",
    "model.add(LSTM(2))\n",
    "model.add(Dense(1, activation = 'sigmoid')) \n",
    "model.compile(loss = tf.keras.losses.BinaryCrossentropy(), \n",
    "    optimizer = \"Adam\",               \n",
    "              metrics = ['accuracy', 'Recall', 'Precision', 'TrueNegatives', 'TruePositives', 'FalsePositives', 'FalseNegatives'])\n",
    "model.summary()"
   ]
  },
  {
   "cell_type": "code",
   "execution_count": null,
   "id": "94bcb701-bf9d-4e4f-a0a4-53900a56909c",
   "metadata": {
    "id": "94bcb701-bf9d-4e4f-a0a4-53900a56909c"
   },
   "outputs": [],
   "source": [
    "len(trainx)"
   ]
  },
  {
   "cell_type": "code",
   "execution_count": null,
   "id": "69c9ae06-9585-4d30-bf71-c8c8df2530fa",
   "metadata": {},
   "outputs": [],
   "source": [
    "trainx = np.array(trainx)\n",
    "trainy = np.array(trainy)\n",
    "\n",
    "isotx = np.array(isotx)\n",
    "isoty = np.array(isoty)\n",
    "\n",
    "fa_kesx = np.array(fa_kesx)\n",
    "fa_kesy = np.array(fa_kesy)\n",
    "\n",
    "recoveryx = np.array(recoveryx)\n",
    "recoveryy = np.array(recoveryy)"
   ]
  },
  {
   "cell_type": "code",
   "execution_count": null,
   "id": "bca7e712-c5a8-4dd5-aac4-1657faa74325",
   "metadata": {},
   "outputs": [],
   "source": [
    "model.fit(trainx, trainy, epochs=5)"
   ]
  },
  {
   "cell_type": "code",
   "execution_count": null,
   "id": "a1565d02-5cd0-4145-a035-3f4db7597ee2",
   "metadata": {},
   "outputs": [],
   "source": [
    "model.evaluate(isotx, isoty)"
   ]
  },
  {
   "cell_type": "code",
   "execution_count": null,
   "id": "79f17774",
   "metadata": {},
   "outputs": [],
   "source": []
  },
  {
   "cell_type": "code",
   "execution_count": null,
   "id": "add7e760",
   "metadata": {},
   "outputs": [],
   "source": []
  },
  {
   "cell_type": "code",
   "execution_count": null,
   "id": "b962aea4",
   "metadata": {},
   "outputs": [],
   "source": []
  },
  {
   "cell_type": "code",
   "execution_count": null,
   "id": "2abaa17e",
   "metadata": {},
   "outputs": [],
   "source": []
  },
  {
   "cell_type": "code",
   "execution_count": null,
   "id": "2a8c6714",
   "metadata": {},
   "outputs": [],
   "source": []
  },
  {
   "cell_type": "code",
   "execution_count": null,
   "id": "a126ca11",
   "metadata": {},
   "outputs": [],
   "source": []
  },
  {
   "cell_type": "code",
   "execution_count": null,
   "id": "28b13acd",
   "metadata": {},
   "outputs": [],
   "source": []
  },
  {
   "cell_type": "code",
   "execution_count": null,
   "id": "8dd52061",
   "metadata": {},
   "outputs": [],
   "source": []
  },
  {
   "cell_type": "code",
   "execution_count": null,
   "id": "3d21c7c7",
   "metadata": {},
   "outputs": [],
   "source": []
  }
 ],
 "metadata": {
  "accelerator": "GPU",
  "colab": {
   "collapsed_sections": [],
   "name": "ISOT_and_ReCOVery_and_FA-KES_Combined.ipynb",
   "provenance": []
  },
  "kernelspec": {
   "display_name": "Python 3",
   "language": "python",
   "name": "python3"
  },
  "language_info": {
   "codemirror_mode": {
    "name": "ipython",
    "version": 3
   },
   "file_extension": ".py",
   "mimetype": "text/x-python",
   "name": "python",
   "nbconvert_exporter": "python",
   "pygments_lexer": "ipython3",
   "version": "3.6.13"
  }
 },
 "nbformat": 4,
 "nbformat_minor": 5
}
