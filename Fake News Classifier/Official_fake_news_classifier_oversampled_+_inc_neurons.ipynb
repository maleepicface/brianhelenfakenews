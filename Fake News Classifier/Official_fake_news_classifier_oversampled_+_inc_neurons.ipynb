{
  "cells": [
    {
      "cell_type": "code",
      "execution_count": 1,
      "metadata": {
        "id": "WKuh8-U5ckKt"
      },
      "outputs": [],
      "source": [
        "import tensorflow as tf\n",
        "import keras\n",
        "import pandas as pd\n",
        "import gensim\n",
        "import matplotlib.pyplot as plt\n",
        "import seaborn as sns\n",
        "import numpy as np\n",
        "from sklearn.model_selection import train_test_split\n",
        "from keras.models import Sequential\n",
        "from keras.layers import Dense, Conv1D, Flatten, MaxPooling1D, LSTM, Embedding, Input\n",
        "from sklearn.model_selection import train_test_split\n",
        "from sklearn.metrics import multilabel_confusion_matrix\n",
        "from numpy import unique\n",
        "from tensorflow.keras import layers\n",
        "from tensorflow.math import confusion_matrix"
      ]
    },
    {
      "cell_type": "code",
      "execution_count": 2,
      "metadata": {
        "id": "aX2PAOklYIiZ"
      },
      "outputs": [],
      "source": [
        "# timer code\n",
        "    # import time\n",
        "    # tic = time.perf_counter()                                     add this in the beginning of the CNN\n",
        "    # toc = time.perf_counter()                                     add this at the end of the code\n",
        "    # print (f\"Finished running in {toc - tic: 0.2f} seconds\")      add after the toc command"
      ]
    },
    {
      "cell_type": "code",
      "execution_count": 3,
      "metadata": {
        "colab": {
          "base_uri": "https://localhost:8080/"
        },
        "id": "z0ZrAQj3YIia",
        "outputId": "1a36d0bc-7262-4b67-c03e-f4274dafc0e9"
      },
      "outputs": [
        {
          "output_type": "stream",
          "name": "stdout",
          "text": [
            "Num GPUs Available:  1\n",
            "[PhysicalDevice(name='/physical_device:GPU:0', device_type='GPU')]\n"
          ]
        }
      ],
      "source": [
        "print  (\"Num GPUs Available: \", len(tf.config.list_physical_devices('GPU')))\n",
        "print(tf.config.list_physical_devices('GPU'))"
      ]
    },
    {
      "cell_type": "code",
      "execution_count": 4,
      "metadata": {
        "colab": {
          "base_uri": "https://localhost:8080/"
        },
        "id": "BOVOaz8LYIic",
        "outputId": "1d2f4b3e-f94f-4e8f-b7a1-75d8dec1f07d"
      },
      "outputs": [
        {
          "output_type": "stream",
          "name": "stdout",
          "text": [
            "<function list_physical_devices at 0x7f1067dc90e0>\n"
          ]
        }
      ],
      "source": [
        "print(tf.config.list_physical_devices)"
      ]
    },
    {
      "cell_type": "code",
      "execution_count": 5,
      "metadata": {
        "colab": {
          "base_uri": "https://localhost:8080/"
        },
        "id": "pPI0_hSGYIid",
        "outputId": "53a4eb1f-4035-4c52-bc35-9b173197d5ef"
      },
      "outputs": [
        {
          "output_type": "stream",
          "name": "stdout",
          "text": [
            "[name: \"/device:CPU:0\"\n",
            "device_type: \"CPU\"\n",
            "memory_limit: 268435456\n",
            "locality {\n",
            "}\n",
            "incarnation: 5381937959196892256\n",
            "xla_global_id: -1\n",
            ", name: \"/device:GPU:0\"\n",
            "device_type: \"GPU\"\n",
            "memory_limit: 11320098816\n",
            "locality {\n",
            "  bus_id: 1\n",
            "  links {\n",
            "  }\n",
            "}\n",
            "incarnation: 1026168901241116526\n",
            "physical_device_desc: \"device: 0, name: Tesla K80, pci bus id: 0000:00:04.0, compute capability: 3.7\"\n",
            "xla_global_id: 416903419\n",
            "]\n"
          ]
        }
      ],
      "source": [
        "from tensorflow.python.client import device_lib \n",
        "print(device_lib.list_local_devices())"
      ]
    },
    {
      "cell_type": "code",
      "execution_count": 6,
      "metadata": {
        "colab": {
          "base_uri": "https://localhost:8080/"
        },
        "id": "Y7_2IFuBzkqG",
        "outputId": "49b6f96d-c76d-4367-adc2-54b5e6dc9fa2"
      },
      "outputs": [
        {
          "output_type": "stream",
          "name": "stdout",
          "text": [
            "Mounted at /content/drive\n"
          ]
        }
      ],
      "source": [
        "from google.colab import drive\n",
        "drive.mount('/content/drive')"
      ]
    },
    {
      "cell_type": "code",
      "execution_count": 7,
      "metadata": {
        "colab": {
          "base_uri": "https://localhost:8080/",
          "height": 206
        },
        "id": "i5-WFQlfYIid",
        "outputId": "ab7a1984-1082-4879-d61b-afc3158cf3e5"
      },
      "outputs": [
        {
          "output_type": "execute_result",
          "data": {
            "text/html": [
              "<div>\n",
              "<style scoped>\n",
              "    .dataframe tbody tr th:only-of-type {\n",
              "        vertical-align: middle;\n",
              "    }\n",
              "\n",
              "    .dataframe tbody tr th {\n",
              "        vertical-align: top;\n",
              "    }\n",
              "\n",
              "    .dataframe thead th {\n",
              "        text-align: right;\n",
              "    }\n",
              "</style>\n",
              "<table border=\"1\" class=\"dataframe\">\n",
              "  <thead>\n",
              "    <tr style=\"text-align: right;\">\n",
              "      <th></th>\n",
              "      <th>rating</th>\n",
              "      <th>title</th>\n",
              "    </tr>\n",
              "  </thead>\n",
              "  <tbody>\n",
              "    <tr>\n",
              "      <th>0</th>\n",
              "      <td>0</td>\n",
              "      <td>The lie that coronavirus came from a bat or a ...</td>\n",
              "    </tr>\n",
              "    <tr>\n",
              "      <th>1</th>\n",
              "      <td>0</td>\n",
              "      <td>The health experts had predicted the virus cou...</td>\n",
              "    </tr>\n",
              "    <tr>\n",
              "      <th>2</th>\n",
              "      <td>0</td>\n",
              "      <td>The Centers for Disease Control and Prevention...</td>\n",
              "    </tr>\n",
              "    <tr>\n",
              "      <th>3</th>\n",
              "      <td>2</td>\n",
              "      <td>Warm weather will kill coronavirus. U.S. Presi...</td>\n",
              "    </tr>\n",
              "    <tr>\n",
              "      <th>4</th>\n",
              "      <td>0</td>\n",
              "      <td>Using a hair dryer to breathe in hot air can c...</td>\n",
              "    </tr>\n",
              "  </tbody>\n",
              "</table>\n",
              "</div>"
            ],
            "text/plain": [
              "   rating                                              title\n",
              "0       0  The lie that coronavirus came from a bat or a ...\n",
              "1       0  The health experts had predicted the virus cou...\n",
              "2       0  The Centers for Disease Control and Prevention...\n",
              "3       2  Warm weather will kill coronavirus. U.S. Presi...\n",
              "4       0  Using a hair dryer to breathe in hot air can c..."
            ]
          },
          "metadata": {},
          "execution_count": 7
        }
      ],
      "source": [
        "test = pd.read_csv(\"drive/MyDrive/updated_news.csv\", names = [\"rating\", \"title\"])\n",
        "\n",
        "\n",
        "test.head()"
      ]
    },
    {
      "cell_type": "code",
      "execution_count": 8,
      "metadata": {
        "colab": {
          "base_uri": "https://localhost:8080/"
        },
        "id": "FYj5-zrzYIie",
        "outputId": "3b7b3b44-8c12-4996-e5dd-765a0947f188"
      },
      "outputs": [
        {
          "output_type": "execute_result",
          "data": {
            "text/plain": [
              "0    3041\n",
              "1     659\n",
              "2     429\n",
              "Name: rating, dtype: int64"
            ]
          },
          "metadata": {},
          "execution_count": 8
        }
      ],
      "source": [
        "test['rating'].value_counts()"
      ]
    },
    {
      "cell_type": "code",
      "execution_count": 9,
      "metadata": {
        "id": "elpM8s15YIif"
      },
      "outputs": [],
      "source": [
        "# conv1d kernel size = 128 x 5 \n",
        "# LSTM kernel size = 32"
      ]
    },
    {
      "cell_type": "code",
      "execution_count": 10,
      "metadata": {
        "colab": {
          "base_uri": "https://localhost:8080/",
          "height": 405
        },
        "id": "BaDspxopYIig",
        "outputId": "3b631630-b971-4515-e396-a53ba930c028"
      },
      "outputs": [
        {
          "output_type": "execute_result",
          "data": {
            "text/plain": [
              "<matplotlib.axes._subplots.AxesSubplot at 0x7f10300f3e50>"
            ]
          },
          "metadata": {},
          "execution_count": 10
        },
        {
          "output_type": "display_data",
          "data": {
            "image/png": "[encoded data removed]",
            "text/plain": [
              "<Figure size 720x432 with 1 Axes>"
            ]
          },
          "metadata": {
            "needs_background": "light"
          }
        }
      ],
      "source": [
        "plt.figure(figsize=(10,6))\n",
        "sns.countplot(x='rating', data=test)"
      ]
    },
    {
      "cell_type": "code",
      "execution_count": 11,
      "metadata": {
        "id": "d8iRJYawZg1z"
      },
      "outputs": [],
      "source": [
        "test['title'] = test['title'].apply(lambda x: str(x).lower())"
      ]
    },
    {
      "cell_type": "code",
      "execution_count": 12,
      "metadata": {
        "id": "G2yk8xt5ZzZR"
      },
      "outputs": [],
      "source": [
        "test = test[['title', 'rating']]"
      ]
    },
    {
      "cell_type": "code",
      "execution_count": 13,
      "metadata": {
        "id": "6eXGFSW2kAfg"
      },
      "outputs": [],
      "source": [
        "test['rating'] = test['rating'].astype(float)"
      ]
    },
    {
      "cell_type": "code",
      "execution_count": 14,
      "metadata": {
        "colab": {
          "base_uri": "https://localhost:8080/"
        },
        "id": "wVwoYTHYaAa8",
        "outputId": "373a1f47-8813-48b1-dfb3-4fa389898b03"
      },
      "outputs": [
        {
          "output_type": "stream",
          "name": "stdout",
          "text": [
            "Collecting spacy==2.2.3\n",
            "  Downloading spacy-2.2.3-cp37-cp37m-manylinux1_x86_64.whl (10.4 MB)\n",
            "\u001b[K     |████████████████████████████████| 10.4 MB 3.5 MB/s \n",
            "\u001b[?25hRequirement already satisfied: setuptools in /usr/local/lib/python3.7/dist-packages (from spacy==2.2.3) (57.4.0)\n",
            "Requirement already satisfied: catalogue<1.1.0,>=0.0.7 in /usr/local/lib/python3.7/dist-packages (from spacy==2.2.3) (1.0.0)\n",
            "Requirement already satisfied: blis<0.5.0,>=0.4.0 in /usr/local/lib/python3.7/dist-packages (from spacy==2.2.3) (0.4.1)\n",
            "Requirement already satisfied: srsly<1.1.0,>=0.1.0 in /usr/local/lib/python3.7/dist-packages (from spacy==2.2.3) (1.0.5)\n",
            "Requirement already satisfied: plac<1.2.0,>=0.9.6 in /usr/local/lib/python3.7/dist-packages (from spacy==2.2.3) (1.1.3)\n",
            "Requirement already satisfied: requests<3.0.0,>=2.13.0 in /usr/local/lib/python3.7/dist-packages (from spacy==2.2.3) (2.23.0)\n",
            "Requirement already satisfied: numpy>=1.15.0 in /usr/local/lib/python3.7/dist-packages (from spacy==2.2.3) (1.19.5)\n",
            "Requirement already satisfied: murmurhash<1.1.0,>=0.28.0 in /usr/local/lib/python3.7/dist-packages (from spacy==2.2.3) (1.0.6)\n",
            "Requirement already satisfied: wasabi<1.1.0,>=0.4.0 in /usr/local/lib/python3.7/dist-packages (from spacy==2.2.3) (0.8.2)\n",
            "Requirement already satisfied: cymem<2.1.0,>=2.0.2 in /usr/local/lib/python3.7/dist-packages (from spacy==2.2.3) (2.0.6)\n",
            "Requirement already satisfied: preshed<3.1.0,>=3.0.2 in /usr/local/lib/python3.7/dist-packages (from spacy==2.2.3) (3.0.6)\n",
            "Collecting thinc<7.4.0,>=7.3.0\n",
            "  Downloading thinc-7.3.1-cp37-cp37m-manylinux1_x86_64.whl (2.2 MB)\n",
            "\u001b[K     |████████████████████████████████| 2.2 MB 39.6 MB/s \n",
            "\u001b[?25hRequirement already satisfied: importlib-metadata>=0.20 in /usr/local/lib/python3.7/dist-packages (from catalogue<1.1.0,>=0.0.7->spacy==2.2.3) (4.8.2)\n",
            "Requirement already satisfied: typing-extensions>=3.6.4 in /usr/local/lib/python3.7/dist-packages (from importlib-metadata>=0.20->catalogue<1.1.0,>=0.0.7->spacy==2.2.3) (3.10.0.2)\n",
            "Requirement already satisfied: zipp>=0.5 in /usr/local/lib/python3.7/dist-packages (from importlib-metadata>=0.20->catalogue<1.1.0,>=0.0.7->spacy==2.2.3) (3.6.0)\n",
            "Requirement already satisfied: urllib3!=1.25.0,!=1.25.1,<1.26,>=1.21.1 in /usr/local/lib/python3.7/dist-packages (from requests<3.0.0,>=2.13.0->spacy==2.2.3) (1.24.3)\n",
            "Requirement already satisfied: idna<3,>=2.5 in /usr/local/lib/python3.7/dist-packages (from requests<3.0.0,>=2.13.0->spacy==2.2.3) (2.10)\n",
            "Requirement already satisfied: certifi>=2017.4.17 in /usr/local/lib/python3.7/dist-packages (from requests<3.0.0,>=2.13.0->spacy==2.2.3) (2021.10.8)\n",
            "Requirement already satisfied: chardet<4,>=3.0.2 in /usr/local/lib/python3.7/dist-packages (from requests<3.0.0,>=2.13.0->spacy==2.2.3) (3.0.4)\n",
            "Requirement already satisfied: tqdm<5.0.0,>=4.10.0 in /usr/local/lib/python3.7/dist-packages (from thinc<7.4.0,>=7.3.0->spacy==2.2.3) (4.62.3)\n",
            "Installing collected packages: thinc, spacy\n",
            "  Attempting uninstall: thinc\n",
            "    Found existing installation: thinc 7.4.0\n",
            "    Uninstalling thinc-7.4.0:\n",
            "      Successfully uninstalled thinc-7.4.0\n",
            "  Attempting uninstall: spacy\n",
            "    Found existing installation: spacy 2.2.4\n",
            "    Uninstalling spacy-2.2.4:\n",
            "      Successfully uninstalled spacy-2.2.4\n",
            "Successfully installed spacy-2.2.3 thinc-7.3.1\n",
            "Collecting en_core_web_sm==2.2.5\n",
            "  Downloading https://github.com/explosion/spacy-models/releases/download/en_core_web_sm-2.2.5/en_core_web_sm-2.2.5.tar.gz (12.0 MB)\n",
            "\u001b[K     |████████████████████████████████| 12.0 MB 534 kB/s \n",
            "\u001b[?25hRequirement already satisfied: spacy>=2.2.2 in /usr/local/lib/python3.7/dist-packages (from en_core_web_sm==2.2.5) (2.2.3)\n",
            "Requirement already satisfied: plac<1.2.0,>=0.9.6 in /usr/local/lib/python3.7/dist-packages (from spacy>=2.2.2->en_core_web_sm==2.2.5) (1.1.3)\n",
            "Requirement already satisfied: preshed<3.1.0,>=3.0.2 in /usr/local/lib/python3.7/dist-packages (from spacy>=2.2.2->en_core_web_sm==2.2.5) (3.0.6)\n",
            "Requirement already satisfied: murmurhash<1.1.0,>=0.28.0 in /usr/local/lib/python3.7/dist-packages (from spacy>=2.2.2->en_core_web_sm==2.2.5) (1.0.6)\n",
            "Requirement already satisfied: catalogue<1.1.0,>=0.0.7 in /usr/local/lib/python3.7/dist-packages (from spacy>=2.2.2->en_core_web_sm==2.2.5) (1.0.0)\n",
            "Requirement already satisfied: setuptools in /usr/local/lib/python3.7/dist-packages (from spacy>=2.2.2->en_core_web_sm==2.2.5) (57.4.0)\n",
            "Requirement already satisfied: cymem<2.1.0,>=2.0.2 in /usr/local/lib/python3.7/dist-packages (from spacy>=2.2.2->en_core_web_sm==2.2.5) (2.0.6)\n",
            "Requirement already satisfied: numpy>=1.15.0 in /usr/local/lib/python3.7/dist-packages (from spacy>=2.2.2->en_core_web_sm==2.2.5) (1.19.5)\n",
            "Requirement already satisfied: wasabi<1.1.0,>=0.4.0 in /usr/local/lib/python3.7/dist-packages (from spacy>=2.2.2->en_core_web_sm==2.2.5) (0.8.2)\n",
            "Requirement already satisfied: thinc<7.4.0,>=7.3.0 in /usr/local/lib/python3.7/dist-packages (from spacy>=2.2.2->en_core_web_sm==2.2.5) (7.3.1)\n",
            "Requirement already satisfied: blis<0.5.0,>=0.4.0 in /usr/local/lib/python3.7/dist-packages (from spacy>=2.2.2->en_core_web_sm==2.2.5) (0.4.1)\n",
            "Requirement already satisfied: srsly<1.1.0,>=0.1.0 in /usr/local/lib/python3.7/dist-packages (from spacy>=2.2.2->en_core_web_sm==2.2.5) (1.0.5)\n",
            "Requirement already satisfied: requests<3.0.0,>=2.13.0 in /usr/local/lib/python3.7/dist-packages (from spacy>=2.2.2->en_core_web_sm==2.2.5) (2.23.0)\n",
            "Requirement already satisfied: importlib-metadata>=0.20 in /usr/local/lib/python3.7/dist-packages (from catalogue<1.1.0,>=0.0.7->spacy>=2.2.2->en_core_web_sm==2.2.5) (4.8.2)\n",
            "Requirement already satisfied: typing-extensions>=3.6.4 in /usr/local/lib/python3.7/dist-packages (from importlib-metadata>=0.20->catalogue<1.1.0,>=0.0.7->spacy>=2.2.2->en_core_web_sm==2.2.5) (3.10.0.2)\n",
            "Requirement already satisfied: zipp>=0.5 in /usr/local/lib/python3.7/dist-packages (from importlib-metadata>=0.20->catalogue<1.1.0,>=0.0.7->spacy>=2.2.2->en_core_web_sm==2.2.5) (3.6.0)\n",
            "Requirement already satisfied: urllib3!=1.25.0,!=1.25.1,<1.26,>=1.21.1 in /usr/local/lib/python3.7/dist-packages (from requests<3.0.0,>=2.13.0->spacy>=2.2.2->en_core_web_sm==2.2.5) (1.24.3)\n",
            "Requirement already satisfied: idna<3,>=2.5 in /usr/local/lib/python3.7/dist-packages (from requests<3.0.0,>=2.13.0->spacy>=2.2.2->en_core_web_sm==2.2.5) (2.10)\n",
            "Requirement already satisfied: chardet<4,>=3.0.2 in /usr/local/lib/python3.7/dist-packages (from requests<3.0.0,>=2.13.0->spacy>=2.2.2->en_core_web_sm==2.2.5) (3.0.4)\n",
            "Requirement already satisfied: certifi>=2017.4.17 in /usr/local/lib/python3.7/dist-packages (from requests<3.0.0,>=2.13.0->spacy>=2.2.2->en_core_web_sm==2.2.5) (2021.10.8)\n",
            "Requirement already satisfied: tqdm<5.0.0,>=4.10.0 in /usr/local/lib/python3.7/dist-packages (from thinc<7.4.0,>=7.3.0->spacy>=2.2.2->en_core_web_sm==2.2.5) (4.62.3)\n",
            "\u001b[38;5;2m✔ Download and installation successful\u001b[0m\n",
            "You can now load the model via spacy.load('en_core_web_sm')\n",
            "Collecting beautifulsoup4==4.9.1\n",
            "  Downloading beautifulsoup4-4.9.1-py3-none-any.whl (115 kB)\n",
            "\u001b[K     |████████████████████████████████| 115 kB 4.3 MB/s \n",
            "\u001b[?25hCollecting soupsieve>1.2\n",
            "  Downloading soupsieve-2.3.1-py3-none-any.whl (37 kB)\n",
            "Installing collected packages: soupsieve, beautifulsoup4\n",
            "  Attempting uninstall: beautifulsoup4\n",
            "    Found existing installation: beautifulsoup4 4.6.3\n",
            "    Uninstalling beautifulsoup4-4.6.3:\n",
            "      Successfully uninstalled beautifulsoup4-4.6.3\n",
            "Successfully installed beautifulsoup4-4.9.1 soupsieve-2.3.1\n",
            "Requirement already satisfied: textblob==0.15.3 in /usr/local/lib/python3.7/dist-packages (0.15.3)\n",
            "Requirement already satisfied: nltk>=3.1 in /usr/local/lib/python3.7/dist-packages (from textblob==0.15.3) (3.2.5)\n",
            "Requirement already satisfied: six in /usr/local/lib/python3.7/dist-packages (from nltk>=3.1->textblob==0.15.3) (1.15.0)\n",
            "Collecting git+https://github.com/laxmimerit/preprocess_kgptalkie.git\n",
            "  Cloning https://github.com/laxmimerit/preprocess_kgptalkie.git to /tmp/pip-req-build-075qdfsx\n",
            "  Running command git clone -q https://github.com/laxmimerit/preprocess_kgptalkie.git /tmp/pip-req-build-075qdfsx\n",
            "Building wheels for collected packages: preprocess-kgptalkie\n",
            "  Building wheel for preprocess-kgptalkie (setup.py) ... \u001b[?25l\u001b[?25hdone\n",
            "  Created wheel for preprocess-kgptalkie: filename=preprocess_kgptalkie-0.1.3-py3-none-any.whl size=11754 sha256=5a4434b170f00ed83c93bcc3c47becef3cacc562561b32a97d7fb8cabf38cef3\n",
            "  Stored in directory: /tmp/pip-ephem-wheel-cache-e6vxdgp4/wheels/0d/b3/29/bfe3deffda68980088d17b81331be6667e837ffb4a071bae82\n",
            "Successfully built preprocess-kgptalkie\n",
            "Installing collected packages: preprocess-kgptalkie\n",
            "Successfully installed preprocess-kgptalkie-0.1.3\n"
          ]
        }
      ],
      "source": [
        "!pip install spacy==2.2.3\n",
        "!python -m spacy download en_core_web_sm\n",
        "!pip install beautifulsoup4==4.9.1\n",
        "!pip install textblob==0.15.3\n",
        "!pip install git+https://github.com/laxmimerit/preprocess_kgptalkie.git --upgrade --force-reinstall"
      ]
    },
    {
      "cell_type": "code",
      "execution_count": 15,
      "metadata": {
        "id": "Y6o4G1COaJLY"
      },
      "outputs": [],
      "source": [
        "import preprocess_kgptalkie as ps"
      ]
    },
    {
      "cell_type": "code",
      "execution_count": 16,
      "metadata": {
        "id": "Db2_xwZTaOfZ"
      },
      "outputs": [],
      "source": [
        "test['title'] = test['title'].apply(lambda x: ps.remove_special_chars(x))"
      ]
    },
    {
      "cell_type": "code",
      "execution_count": 17,
      "metadata": {
        "colab": {
          "base_uri": "https://localhost:8080/",
          "height": 35
        },
        "id": "FLgwSx-vaW6P",
        "outputId": "74ad7e51-493a-4ffc-e4a1-8a2aa6f70257"
      },
      "outputs": [
        {
          "output_type": "execute_result",
          "data": {
            "application/vnd.google.colaboratory.intrinsic+json": {
              "type": "string"
            },
            "text/plain": [
              "'this is gret'"
            ]
          },
          "metadata": {},
          "execution_count": 17
        }
      ],
      "source": [
        "ps.remove_special_chars('this ,. @ is gre@t')"
      ]
    },
    {
      "cell_type": "code",
      "execution_count": 18,
      "metadata": {
        "colab": {
          "base_uri": "https://localhost:8080/",
          "height": 206
        },
        "id": "dOyskxYpaX11",
        "outputId": "498f7d4a-763b-4d93-dccc-5468a75c5b74"
      },
      "outputs": [
        {
          "output_type": "execute_result",
          "data": {
            "text/html": [
              "<div>\n",
              "<style scoped>\n",
              "    .dataframe tbody tr th:only-of-type {\n",
              "        vertical-align: middle;\n",
              "    }\n",
              "\n",
              "    .dataframe tbody tr th {\n",
              "        vertical-align: top;\n",
              "    }\n",
              "\n",
              "    .dataframe thead th {\n",
              "        text-align: right;\n",
              "    }\n",
              "</style>\n",
              "<table border=\"1\" class=\"dataframe\">\n",
              "  <thead>\n",
              "    <tr style=\"text-align: right;\">\n",
              "      <th></th>\n",
              "      <th>title</th>\n",
              "      <th>rating</th>\n",
              "    </tr>\n",
              "  </thead>\n",
              "  <tbody>\n",
              "    <tr>\n",
              "      <th>0</th>\n",
              "      <td>the lie that coronavirus came from a bat or a ...</td>\n",
              "      <td>0.0</td>\n",
              "    </tr>\n",
              "    <tr>\n",
              "      <th>1</th>\n",
              "      <td>the health experts had predicted the virus cou...</td>\n",
              "      <td>0.0</td>\n",
              "    </tr>\n",
              "    <tr>\n",
              "      <th>2</th>\n",
              "      <td>the centers for disease control and prevention...</td>\n",
              "      <td>0.0</td>\n",
              "    </tr>\n",
              "    <tr>\n",
              "      <th>3</th>\n",
              "      <td>warm weather will kill coronavirus us presiden...</td>\n",
              "      <td>2.0</td>\n",
              "    </tr>\n",
              "    <tr>\n",
              "      <th>4</th>\n",
              "      <td>using a hair dryer to breathe in hot air can c...</td>\n",
              "      <td>0.0</td>\n",
              "    </tr>\n",
              "  </tbody>\n",
              "</table>\n",
              "</div>"
            ],
            "text/plain": [
              "                                               title  rating\n",
              "0  the lie that coronavirus came from a bat or a ...     0.0\n",
              "1  the health experts had predicted the virus cou...     0.0\n",
              "2  the centers for disease control and prevention...     0.0\n",
              "3  warm weather will kill coronavirus us presiden...     2.0\n",
              "4  using a hair dryer to breathe in hot air can c...     0.0"
            ]
          },
          "metadata": {},
          "execution_count": 18
        }
      ],
      "source": [
        "test.head()"
      ]
    },
    {
      "cell_type": "code",
      "execution_count": 19,
      "metadata": {
        "id": "PPlIFRMXYIih"
      },
      "outputs": [],
      "source": [
        "x = [d.split() for d in test['title'].tolist()]\n",
        "y = test['rating'].values"
      ]
    },
    {
      "cell_type": "code",
      "execution_count": 20,
      "metadata": {
        "colab": {
          "base_uri": "https://localhost:8080/"
        },
        "id": "h3rS1_cU3_DN",
        "outputId": "357f231b-6bf3-4833-aeaa-babb360f82d2"
      },
      "outputs": [
        {
          "output_type": "stream",
          "name": "stdout",
          "text": [
            "Requirement already satisfied: imbalanced-learn in /usr/local/lib/python3.7/dist-packages (0.8.1)\n",
            "Requirement already satisfied: scikit-learn>=0.24 in /usr/local/lib/python3.7/dist-packages (from imbalanced-learn) (1.0.1)\n",
            "Requirement already satisfied: scipy>=0.19.1 in /usr/local/lib/python3.7/dist-packages (from imbalanced-learn) (1.4.1)\n",
            "Requirement already satisfied: numpy>=1.13.3 in /usr/local/lib/python3.7/dist-packages (from imbalanced-learn) (1.19.5)\n",
            "Requirement already satisfied: joblib>=0.11 in /usr/local/lib/python3.7/dist-packages (from imbalanced-learn) (1.1.0)\n",
            "Requirement already satisfied: threadpoolctl>=2.0.0 in /usr/local/lib/python3.7/dist-packages (from scikit-learn>=0.24->imbalanced-learn) (3.0.0)\n"
          ]
        }
      ],
      "source": [
        "pip install imbalanced-learn"
      ]
    },
    {
      "cell_type": "code",
      "execution_count": 21,
      "metadata": {
        "colab": {
          "base_uri": "https://localhost:8080/"
        },
        "id": "0I5NnlOQ4GS9",
        "outputId": "39398a26-c288-4fb2-e194-a7faa4aa9d69"
      },
      "outputs": [
        {
          "output_type": "stream",
          "name": "stdout",
          "text": [
            "0.8.1\n"
          ]
        }
      ],
      "source": [
        "import imblearn\n",
        "from imblearn.over_sampling import RandomOverSampler\n",
        "print(imblearn.__version__)"
      ]
    },
    {
      "cell_type": "code",
      "execution_count": 22,
      "metadata": {
        "colab": {
          "base_uri": "https://localhost:8080/"
        },
        "id": "oMdXaHW_YIii",
        "outputId": "8a73d833-f4be-47a9-942a-9cdb406bac8c"
      },
      "outputs": [
        {
          "output_type": "stream",
          "name": "stdout",
          "text": [
            "4129\n"
          ]
        }
      ],
      "source": [
        "print(len(x))"
      ]
    },
    {
      "cell_type": "code",
      "execution_count": 23,
      "metadata": {
        "id": "1gc8DsZZYIij"
      },
      "outputs": [],
      "source": [
        "DIM = 300\n",
        "w2v_model = gensim.models.Word2Vec(sentences=x, size=DIM, window=10, min_count=1)"
      ]
    },
    {
      "cell_type": "code",
      "execution_count": 24,
      "metadata": {
        "colab": {
          "base_uri": "https://localhost:8080/"
        },
        "id": "NfRchQB0YIik",
        "outputId": "5e446a14-43df-40fe-842c-91534a4fed03"
      },
      "outputs": [
        {
          "output_type": "execute_result",
          "data": {
            "text/plain": [
              "9346"
            ]
          },
          "metadata": {},
          "execution_count": 24
        }
      ],
      "source": [
        "len(w2v_model.wv.vocab)"
      ]
    },
    {
      "cell_type": "code",
      "execution_count": 25,
      "metadata": {
        "id": "wfDTLoE3YIil"
      },
      "outputs": [],
      "source": [
        "tokenizer = tf.keras.preprocessing.text.Tokenizer()\n",
        "tokenizer.fit_on_texts(x)"
      ]
    },
    {
      "cell_type": "code",
      "execution_count": 26,
      "metadata": {
        "id": "JQPj6WISYIil"
      },
      "outputs": [],
      "source": [
        "x = tokenizer.texts_to_sequences(x)"
      ]
    },
    {
      "cell_type": "code",
      "execution_count": 27,
      "metadata": {
        "id": "woalHQOLYIim"
      },
      "outputs": [],
      "source": [
        "# tokenizer.word_index"
      ]
    },
    {
      "cell_type": "code",
      "execution_count": 28,
      "metadata": {
        "colab": {
          "base_uri": "https://localhost:8080/",
          "height": 265
        },
        "id": "K-kbKg0BYIim",
        "outputId": "1d4eddca-9833-4335-8b0d-db0b1dfa34d8"
      },
      "outputs": [
        {
          "output_type": "display_data",
          "data": {
            "image/png": "[encoded data removed]",
            "text/plain": [
              "<Figure size 432x288 with 1 Axes>"
            ]
          },
          "metadata": {
            "needs_background": "light"
          }
        }
      ],
      "source": [
        "plt.hist([len(a) for a in x], bins = 700)\n",
        "plt.show()"
      ]
    },
    {
      "cell_type": "code",
      "execution_count": 29,
      "metadata": {
        "colab": {
          "base_uri": "https://localhost:8080/"
        },
        "id": "nZWXJPElYIim",
        "outputId": "4f75d996-de8f-4db3-bb5c-966395e5e678"
      },
      "outputs": [
        {
          "output_type": "execute_result",
          "data": {
            "text/plain": [
              "0"
            ]
          },
          "metadata": {},
          "execution_count": 29
        }
      ],
      "source": [
        "nos = np.array([len(a) for a in x])\n",
        "len(nos[nos>1000])"
      ]
    },
    {
      "cell_type": "code",
      "execution_count": 30,
      "metadata": {
        "id": "2fWrnXxbYIin"
      },
      "outputs": [],
      "source": [
        "maxlen = 100\n",
        "x = tf.keras.preprocessing.sequence.pad_sequences(x, maxlen=maxlen)"
      ]
    },
    {
      "cell_type": "code",
      "execution_count": 31,
      "metadata": {
        "colab": {
          "base_uri": "https://localhost:8080/"
        },
        "id": "qPOf8OUGYIio",
        "outputId": "bbe19357-14c5-4146-8526-b219314b2f88"
      },
      "outputs": [
        {
          "output_type": "execute_result",
          "data": {
            "text/plain": [
              "100"
            ]
          },
          "metadata": {},
          "execution_count": 31
        }
      ],
      "source": [
        "len(x[101])"
      ]
    },
    {
      "cell_type": "code",
      "execution_count": 32,
      "metadata": {
        "id": "AwNeNc2yYIio"
      },
      "outputs": [],
      "source": [
        "vocab_size = len(tokenizer.word_index) + 1\n",
        "vocab = tokenizer.word_index"
      ]
    },
    {
      "cell_type": "code",
      "execution_count": 33,
      "metadata": {
        "id": "IVM2n32JYIio"
      },
      "outputs": [],
      "source": [
        "def get_weight_matrix(model):\n",
        "    weight_matrix = np.zeros((vocab_size, DIM))\n",
        "    \n",
        "    for word, i in vocab.items():\n",
        "        try:\n",
        "            weight_matrix[i] = model.wv[word]\n",
        "        except:\n",
        "            print(\"whatever\")\n",
        "        \n",
        "    return weight_matrix"
      ]
    },
    {
      "cell_type": "code",
      "execution_count": 34,
      "metadata": {
        "id": "rxau_UHSYIip"
      },
      "outputs": [],
      "source": [
        "embedding_vectors = get_weight_matrix(w2v_model)"
      ]
    },
    {
      "cell_type": "code",
      "execution_count": 35,
      "metadata": {
        "colab": {
          "base_uri": "https://localhost:8080/"
        },
        "id": "LMD4f-HoYIip",
        "outputId": "0cd40b08-f222-4008-9709-6c8426824d89"
      },
      "outputs": [
        {
          "output_type": "execute_result",
          "data": {
            "text/plain": [
              "(9347, 300)"
            ]
          },
          "metadata": {},
          "execution_count": 35
        }
      ],
      "source": [
        "embedding_vectors.shape\n"
      ]
    },
    {
      "cell_type": "code",
      "execution_count": 36,
      "metadata": {
        "id": "GkvIceS6YIip"
      },
      "outputs": [],
      "source": [
        "#model = tf.keras.Sequential()\n",
        "#model.add(tf.keras.layers.Embedding(vocab_size, output_dim=DIM, weights=[embedding_vectors], input_length=maxlen, trainable = False))\n",
        "#model.add(tf.keras.layers.LSTM(units=100))\n",
        "#model.add(tf.keras.layers.Dense(1, activation='sigmoid'))\n",
        "#model.compile(optimizer='Adam', loss='binary_crossentropy', metrics=['accuracy'])"
      ]
    },
    {
      "cell_type": "code",
      "execution_count": 37,
      "metadata": {
        "colab": {
          "base_uri": "https://localhost:8080/"
        },
        "id": "r9ZHeoyclVUp",
        "outputId": "749a71f4-b685-4e51-e985-18b586e5f1af"
      },
      "outputs": [
        {
          "output_type": "stream",
          "name": "stdout",
          "text": [
            "Model: \"sequential\"\n",
            "_________________________________________________________________\n",
            " Layer (type)                Output Shape              Param #   \n",
            "=================================================================\n",
            " embedding (Embedding)       (None, 100, 300)          2804100   \n",
            "                                                                 \n",
            " conv1d (Conv1D)             (None, 96, 512)           768512    \n",
            "                                                                 \n",
            " max_pooling1d (MaxPooling1D  (None, 48, 512)          0         \n",
            " )                                                               \n",
            "                                                                 \n",
            " lstm (LSTM)                 (None, 128)               328192    \n",
            "                                                                 \n",
            " dense (Dense)               (None, 3)                 387       \n",
            "                                                                 \n",
            "=================================================================\n",
            "Total params: 3,901,191\n",
            "Trainable params: 1,097,091\n",
            "Non-trainable params: 2,804,100\n",
            "_________________________________________________________________\n"
          ]
        }
      ],
      "source": [
        "model = Sequential()\n",
        "\n",
        "model.add(Input(shape=100))\n",
        "model.add(Embedding(vocab_size, output_dim=DIM, weights=[embedding_vectors], input_length=maxlen, trainable = False))\n",
        "model.add(Conv1D(512, 5, activation=\"relu\", input_dim=96))\n",
        "model.add(MaxPooling1D(pool_size=2, strides=2, padding=\"valid\"))\n",
        "model.add(LSTM(128))\n",
        "model.add(Dense(3, activation = 'sigmoid')) \n",
        "model.compile(loss = tf.keras.losses.CategoricalCrossentropy(), \n",
        "    optimizer = \"Adam\",               \n",
        "              metrics = ['accuracy', 'Recall', 'Precision', 'TrueNegatives', 'TruePositives', 'FalsePositives', 'FalseNegatives'])\n",
        "model.summary()"
      ]
    },
    {
      "cell_type": "code",
      "execution_count": 38,
      "metadata": {
        "id": "gmG7RQxL4p3H"
      },
      "outputs": [],
      "source": [
        "X_train = x[0:3000]\n",
        "X_test = y[0:3000]\n",
        "y_train = x[3000:4129]\n",
        "y_test = y[3000:4129]"
      ]
    },
    {
      "cell_type": "code",
      "execution_count": 39,
      "metadata": {
        "id": "uvNB8dqT5C94"
      },
      "outputs": [],
      "source": [
        "X_test = [[1,0,0] if x==0.0 else [0,1,0] if x==1.0 else [0,0,1] if x==2.0 else x for x in X_test]\n",
        "y_test = [[1,0,0] if x==0.0 else [0,1,0] if x==1.0 else [0,0,1] if x==2.0 else x for x in y_test]"
      ]
    },
    {
      "cell_type": "code",
      "execution_count": 40,
      "metadata": {
        "id": "3VI39L3BWeDx"
      },
      "outputs": [],
      "source": [
        "X_test = np.array(X_test)\n",
        "y_test = np.array(y_test)"
      ]
    },
    {
      "cell_type": "code",
      "execution_count": 41,
      "metadata": {
        "id": "rqhMr2eZ4hGU"
      },
      "outputs": [],
      "source": [
        "oversample = RandomOverSampler(sampling_strategy='auto')\n",
        "X_over, y_over = oversample.fit_resample(X_train, X_test)"
      ]
    },
    {
      "cell_type": "code",
      "execution_count": 42,
      "metadata": {
        "colab": {
          "base_uri": "https://localhost:8080/"
        },
        "id": "Q34zOWg95deK",
        "outputId": "2db520bf-ee52-4879-e8d7-dcda59dae147"
      },
      "outputs": [
        {
          "output_type": "stream",
          "name": "stdout",
          "text": [
            "6180 6180\n",
            "2060 2060 2060\n"
          ]
        }
      ],
      "source": [
        "fakecount = 0\n",
        "truecount = 0\n",
        "unverifiedcount = 0\n",
        "print(len(X_over), len(y_over))\n",
        "for value in y_over:\n",
        "  if all(map(lambda x, y: x == y, value, [1,0,0])):\n",
        "    fakecount += 1\n",
        "  elif all(map(lambda x, y: x == y, value, [0,1,0])):\n",
        "    truecount += 1\n",
        "  elif all(map(lambda x, y: x == y, value, [0,0,1])):\n",
        "    unverifiedcount += 1\n",
        "\n",
        "print(fakecount,truecount,unverifiedcount)"
      ]
    },
    {
      "cell_type": "code",
      "execution_count": 51,
      "metadata": {
        "colab": {
          "base_uri": "https://localhost:8080/"
        },
        "id": "Dsq9z3X1YIiq",
        "outputId": "a708990a-819b-4793-de13-b744a18a7af8"
      },
      "outputs": [
        {
          "output_type": "stream",
          "name": "stdout",
          "text": [
            "Epoch 1/200\n",
            "194/194 [==============================] - 7s 38ms/step - loss: 8.7637e-04 - accuracy: 1.0000 - recall: 1.0000 - precision: 0.8772 - true_negatives: 11495.0000 - true_positives: 6180.0000 - false_positives: 865.0000 - false_negatives: 0.0000e+00\n",
            "Epoch 2/200\n",
            "194/194 [==============================] - 6s 32ms/step - loss: 8.0481e-04 - accuracy: 1.0000 - recall: 1.0000 - precision: 0.8798 - true_negatives: 11516.0000 - true_positives: 6180.0000 - false_positives: 844.0000 - false_negatives: 0.0000e+00\n",
            "Epoch 3/200\n",
            "194/194 [==============================] - 5s 25ms/step - loss: 7.2081e-04 - accuracy: 1.0000 - recall: 1.0000 - precision: 0.8816 - true_negatives: 11530.0000 - true_positives: 6180.0000 - false_positives: 830.0000 - false_negatives: 0.0000e+00\n",
            "Epoch 4/200\n",
            "194/194 [==============================] - 5s 26ms/step - loss: 6.6509e-04 - accuracy: 1.0000 - recall: 1.0000 - precision: 0.8851 - true_negatives: 11558.0000 - true_positives: 6180.0000 - false_positives: 802.0000 - false_negatives: 0.0000e+00\n",
            "Epoch 5/200\n",
            "194/194 [==============================] - 5s 26ms/step - loss: 6.1141e-04 - accuracy: 1.0000 - recall: 1.0000 - precision: 0.8854 - true_negatives: 11560.0000 - true_positives: 6180.0000 - false_positives: 800.0000 - false_negatives: 0.0000e+00\n",
            "Epoch 6/200\n",
            "194/194 [==============================] - 5s 25ms/step - loss: 5.6416e-04 - accuracy: 1.0000 - recall: 1.0000 - precision: 0.8895 - true_negatives: 11592.0000 - true_positives: 6180.0000 - false_positives: 768.0000 - false_negatives: 0.0000e+00\n",
            "Epoch 7/200\n",
            "194/194 [==============================] - 5s 25ms/step - loss: 5.1313e-04 - accuracy: 1.0000 - recall: 1.0000 - precision: 0.8892 - true_negatives: 11590.0000 - true_positives: 6180.0000 - false_positives: 770.0000 - false_negatives: 0.0000e+00\n",
            "Epoch 8/200\n",
            "194/194 [==============================] - 5s 26ms/step - loss: 4.6858e-04 - accuracy: 1.0000 - recall: 1.0000 - precision: 0.8955 - true_negatives: 11639.0000 - true_positives: 6180.0000 - false_positives: 721.0000 - false_negatives: 0.0000e+00\n",
            "Epoch 9/200\n",
            "194/194 [==============================] - 5s 25ms/step - loss: 4.1803e-04 - accuracy: 1.0000 - recall: 1.0000 - precision: 0.8953 - true_negatives: 11637.0000 - true_positives: 6180.0000 - false_positives: 723.0000 - false_negatives: 0.0000e+00\n",
            "Epoch 10/200\n",
            "194/194 [==============================] - 5s 25ms/step - loss: 3.7599e-04 - accuracy: 1.0000 - recall: 1.0000 - precision: 0.8963 - true_negatives: 11645.0000 - true_positives: 6180.0000 - false_positives: 715.0000 - false_negatives: 0.0000e+00\n",
            "Epoch 11/200\n",
            "194/194 [==============================] - 5s 25ms/step - loss: 3.4019e-04 - accuracy: 1.0000 - recall: 1.0000 - precision: 0.9000 - true_negatives: 11673.0000 - true_positives: 6180.0000 - false_positives: 687.0000 - false_negatives: 0.0000e+00\n",
            "Epoch 12/200\n",
            "194/194 [==============================] - 5s 25ms/step - loss: 3.0213e-04 - accuracy: 1.0000 - recall: 1.0000 - precision: 0.9025 - true_negatives: 11692.0000 - true_positives: 6180.0000 - false_positives: 668.0000 - false_negatives: 0.0000e+00\n",
            "Epoch 13/200\n",
            "194/194 [==============================] - 5s 25ms/step - loss: 2.7265e-04 - accuracy: 1.0000 - recall: 1.0000 - precision: 0.9058 - true_negatives: 11717.0000 - true_positives: 6180.0000 - false_positives: 643.0000 - false_negatives: 0.0000e+00\n",
            "Epoch 14/200\n",
            "194/194 [==============================] - 5s 25ms/step - loss: 2.5076e-04 - accuracy: 1.0000 - recall: 1.0000 - precision: 0.9059 - true_negatives: 11718.0000 - true_positives: 6180.0000 - false_positives: 642.0000 - false_negatives: 0.0000e+00\n",
            "Epoch 15/200\n",
            "194/194 [==============================] - 5s 25ms/step - loss: 2.2629e-04 - accuracy: 1.0000 - recall: 1.0000 - precision: 0.9111 - true_negatives: 11757.0000 - true_positives: 6180.0000 - false_positives: 603.0000 - false_negatives: 0.0000e+00\n",
            "Epoch 16/200\n",
            "194/194 [==============================] - 5s 26ms/step - loss: 2.0860e-04 - accuracy: 1.0000 - recall: 1.0000 - precision: 0.9106 - true_negatives: 11753.0000 - true_positives: 6180.0000 - false_positives: 607.0000 - false_negatives: 0.0000e+00\n",
            "Epoch 17/200\n",
            "194/194 [==============================] - 5s 25ms/step - loss: 1.8237e-04 - accuracy: 1.0000 - recall: 1.0000 - precision: 0.9108 - true_negatives: 11755.0000 - true_positives: 6180.0000 - false_positives: 605.0000 - false_negatives: 0.0000e+00\n",
            "Epoch 18/200\n",
            "194/194 [==============================] - 5s 26ms/step - loss: 1.6575e-04 - accuracy: 1.0000 - recall: 1.0000 - precision: 0.9108 - true_negatives: 11755.0000 - true_positives: 6180.0000 - false_positives: 605.0000 - false_negatives: 0.0000e+00\n",
            "Epoch 19/200\n",
            "194/194 [==============================] - 5s 25ms/step - loss: 1.4763e-04 - accuracy: 1.0000 - recall: 1.0000 - precision: 0.9138 - true_negatives: 11777.0000 - true_positives: 6180.0000 - false_positives: 583.0000 - false_negatives: 0.0000e+00\n",
            "Epoch 20/200\n",
            "194/194 [==============================] - 5s 26ms/step - loss: 1.3512e-04 - accuracy: 1.0000 - recall: 1.0000 - precision: 0.9157 - true_negatives: 11791.0000 - true_positives: 6180.0000 - false_positives: 569.0000 - false_negatives: 0.0000e+00\n",
            "Epoch 21/200\n",
            "194/194 [==============================] - 5s 26ms/step - loss: 1.2306e-04 - accuracy: 1.0000 - recall: 1.0000 - precision: 0.9172 - true_negatives: 11802.0000 - true_positives: 6180.0000 - false_positives: 558.0000 - false_negatives: 0.0000e+00\n",
            "Epoch 22/200\n",
            "194/194 [==============================] - 5s 26ms/step - loss: 1.0716e-04 - accuracy: 1.0000 - recall: 1.0000 - precision: 0.9196 - true_negatives: 11820.0000 - true_positives: 6180.0000 - false_positives: 540.0000 - false_negatives: 0.0000e+00\n",
            "Epoch 23/200\n",
            "194/194 [==============================] - 5s 25ms/step - loss: 1.0914e-04 - accuracy: 1.0000 - recall: 1.0000 - precision: 0.9180 - true_negatives: 11808.0000 - true_positives: 6180.0000 - false_positives: 552.0000 - false_negatives: 0.0000e+00\n",
            "Epoch 24/200\n",
            "194/194 [==============================] - 5s 26ms/step - loss: 9.9731e-05 - accuracy: 1.0000 - recall: 1.0000 - precision: 0.9203 - true_negatives: 11825.0000 - true_positives: 6180.0000 - false_positives: 535.0000 - false_negatives: 0.0000e+00\n",
            "Epoch 25/200\n",
            "194/194 [==============================] - 5s 26ms/step - loss: 8.4178e-05 - accuracy: 1.0000 - recall: 1.0000 - precision: 0.9224 - true_negatives: 11840.0000 - true_positives: 6180.0000 - false_positives: 520.0000 - false_negatives: 0.0000e+00\n",
            "Epoch 26/200\n",
            "194/194 [==============================] - 5s 26ms/step - loss: 7.4303e-05 - accuracy: 1.0000 - recall: 1.0000 - precision: 0.9234 - true_negatives: 11847.0000 - true_positives: 6180.0000 - false_positives: 513.0000 - false_negatives: 0.0000e+00\n",
            "Epoch 27/200\n",
            "194/194 [==============================] - 5s 26ms/step - loss: 6.8409e-05 - accuracy: 1.0000 - recall: 1.0000 - precision: 0.9234 - true_negatives: 11847.0000 - true_positives: 6180.0000 - false_positives: 513.0000 - false_negatives: 0.0000e+00\n",
            "Epoch 28/200\n",
            "194/194 [==============================] - 5s 26ms/step - loss: 6.7481e-05 - accuracy: 1.0000 - recall: 1.0000 - precision: 0.9265 - true_negatives: 11870.0000 - true_positives: 6180.0000 - false_positives: 490.0000 - false_negatives: 0.0000e+00\n",
            "Epoch 29/200\n",
            "194/194 [==============================] - 5s 26ms/step - loss: 0.6782 - accuracy: 0.8121 - recall: 0.8903 - precision: 0.6794 - true_negatives: 9764.0000 - true_positives: 5502.0000 - false_positives: 2596.0000 - false_negatives: 678.0000\n",
            "Epoch 30/200\n",
            "194/194 [==============================] - 5s 25ms/step - loss: 0.5903 - accuracy: 0.8049 - recall: 0.9044 - precision: 0.6377 - true_negatives: 9185.0000 - true_positives: 5589.0000 - false_positives: 3175.0000 - false_negatives: 591.0000\n",
            "Epoch 31/200\n",
            "194/194 [==============================] - 5s 26ms/step - loss: 0.2813 - accuracy: 0.8979 - recall: 0.9646 - precision: 0.6797 - true_negatives: 9551.0000 - true_positives: 5961.0000 - false_positives: 2809.0000 - false_negatives: 219.0000\n",
            "Epoch 32/200\n",
            "194/194 [==============================] - 5s 26ms/step - loss: 0.1306 - accuracy: 0.9545 - recall: 0.9890 - precision: 0.7137 - true_negatives: 9908.0000 - true_positives: 6112.0000 - false_positives: 2452.0000 - false_negatives: 68.0000\n",
            "Epoch 33/200\n",
            "194/194 [==============================] - 5s 26ms/step - loss: 0.0726 - accuracy: 0.9786 - recall: 0.9947 - precision: 0.7335 - true_negatives: 10127.0000 - true_positives: 6147.0000 - false_positives: 2233.0000 - false_negatives: 33.0000\n",
            "Epoch 34/200\n",
            "194/194 [==============================] - 5s 26ms/step - loss: 0.0356 - accuracy: 0.9927 - recall: 0.9987 - precision: 0.7531 - true_negatives: 10337.0000 - true_positives: 6172.0000 - false_positives: 2023.0000 - false_negatives: 8.0000\n",
            "Epoch 35/200\n",
            "194/194 [==============================] - 5s 26ms/step - loss: 0.0225 - accuracy: 0.9974 - recall: 0.9995 - precision: 0.7699 - true_negatives: 10514.0000 - true_positives: 6177.0000 - false_positives: 1846.0000 - false_negatives: 3.0000\n",
            "Epoch 36/200\n",
            "194/194 [==============================] - 5s 27ms/step - loss: 0.0142 - accuracy: 0.9994 - recall: 0.9997 - precision: 0.7822 - true_negatives: 10640.0000 - true_positives: 6178.0000 - false_positives: 1720.0000 - false_negatives: 2.0000\n",
            "Epoch 37/200\n",
            "194/194 [==============================] - 5s 27ms/step - loss: 0.0108 - accuracy: 0.9994 - recall: 0.9997 - precision: 0.7921 - true_negatives: 10738.0000 - true_positives: 6178.0000 - false_positives: 1622.0000 - false_negatives: 2.0000\n",
            "Epoch 38/200\n",
            "194/194 [==============================] - 5s 26ms/step - loss: 0.0087 - accuracy: 0.9998 - recall: 1.0000 - precision: 0.8033 - true_negatives: 10847.0000 - true_positives: 6180.0000 - false_positives: 1513.0000 - false_negatives: 0.0000e+00\n",
            "Epoch 39/200\n",
            "194/194 [==============================] - 5s 26ms/step - loss: 0.0071 - accuracy: 0.9998 - recall: 1.0000 - precision: 0.8071 - true_negatives: 10883.0000 - true_positives: 6180.0000 - false_positives: 1477.0000 - false_negatives: 0.0000e+00\n",
            "Epoch 40/200\n",
            "194/194 [==============================] - 5s 26ms/step - loss: 0.0064 - accuracy: 1.0000 - recall: 1.0000 - precision: 0.8102 - true_negatives: 10912.0000 - true_positives: 6180.0000 - false_positives: 1448.0000 - false_negatives: 0.0000e+00\n",
            "Epoch 41/200\n",
            "194/194 [==============================] - 5s 26ms/step - loss: 0.0054 - accuracy: 1.0000 - recall: 1.0000 - precision: 0.8151 - true_negatives: 10958.0000 - true_positives: 6180.0000 - false_positives: 1402.0000 - false_negatives: 0.0000e+00\n",
            "Epoch 42/200\n",
            "194/194 [==============================] - 5s 26ms/step - loss: 0.0045 - accuracy: 1.0000 - recall: 1.0000 - precision: 0.8198 - true_negatives: 11002.0000 - true_positives: 6180.0000 - false_positives: 1358.0000 - false_negatives: 0.0000e+00\n",
            "Epoch 43/200\n",
            "194/194 [==============================] - 5s 25ms/step - loss: 0.0040 - accuracy: 1.0000 - recall: 1.0000 - precision: 0.8243 - true_negatives: 11043.0000 - true_positives: 6180.0000 - false_positives: 1317.0000 - false_negatives: 0.0000e+00\n",
            "Epoch 44/200\n",
            "194/194 [==============================] - 5s 26ms/step - loss: 0.0036 - accuracy: 1.0000 - recall: 1.0000 - precision: 0.8308 - true_negatives: 11101.0000 - true_positives: 6180.0000 - false_positives: 1259.0000 - false_negatives: 0.0000e+00\n",
            "Epoch 45/200\n",
            "194/194 [==============================] - 5s 26ms/step - loss: 0.0033 - accuracy: 1.0000 - recall: 1.0000 - precision: 0.8349 - true_negatives: 11138.0000 - true_positives: 6180.0000 - false_positives: 1222.0000 - false_negatives: 0.0000e+00\n",
            "Epoch 46/200\n",
            "194/194 [==============================] - 5s 26ms/step - loss: 0.0029 - accuracy: 1.0000 - recall: 1.0000 - precision: 0.8418 - true_negatives: 11199.0000 - true_positives: 6180.0000 - false_positives: 1161.0000 - false_negatives: 0.0000e+00\n",
            "Epoch 47/200\n",
            "194/194 [==============================] - 5s 26ms/step - loss: 0.0026 - accuracy: 1.0000 - recall: 1.0000 - precision: 0.8439 - true_negatives: 11217.0000 - true_positives: 6180.0000 - false_positives: 1143.0000 - false_negatives: 0.0000e+00\n",
            "Epoch 48/200\n",
            "194/194 [==============================] - 5s 26ms/step - loss: 0.0023 - accuracy: 1.0000 - recall: 1.0000 - precision: 0.8514 - true_negatives: 11281.0000 - true_positives: 6180.0000 - false_positives: 1079.0000 - false_negatives: 0.0000e+00\n",
            "Epoch 49/200\n",
            "194/194 [==============================] - 5s 26ms/step - loss: 0.0021 - accuracy: 1.0000 - recall: 1.0000 - precision: 0.8541 - true_negatives: 11304.0000 - true_positives: 6180.0000 - false_positives: 1056.0000 - false_negatives: 0.0000e+00\n",
            "Epoch 50/200\n",
            "194/194 [==============================] - 5s 26ms/step - loss: 0.0019 - accuracy: 1.0000 - recall: 1.0000 - precision: 0.8549 - true_negatives: 11311.0000 - true_positives: 6180.0000 - false_positives: 1049.0000 - false_negatives: 0.0000e+00\n",
            "Epoch 51/200\n",
            "194/194 [==============================] - 5s 25ms/step - loss: 0.0017 - accuracy: 1.0000 - recall: 1.0000 - precision: 0.8607 - true_negatives: 11360.0000 - true_positives: 6180.0000 - false_positives: 1000.0000 - false_negatives: 0.0000e+00\n",
            "Epoch 52/200\n",
            "194/194 [==============================] - 5s 26ms/step - loss: 0.0016 - accuracy: 1.0000 - recall: 1.0000 - precision: 0.8619 - true_negatives: 11370.0000 - true_positives: 6180.0000 - false_positives: 990.0000 - false_negatives: 0.0000e+00\n",
            "Epoch 53/200\n",
            "194/194 [==============================] - 5s 26ms/step - loss: 0.0014 - accuracy: 1.0000 - recall: 1.0000 - precision: 0.8645 - true_negatives: 11391.0000 - true_positives: 6180.0000 - false_positives: 969.0000 - false_negatives: 0.0000e+00\n",
            "Epoch 54/200\n",
            "194/194 [==============================] - 5s 26ms/step - loss: 0.0013 - accuracy: 1.0000 - recall: 1.0000 - precision: 0.8659 - true_negatives: 11403.0000 - true_positives: 6180.0000 - false_positives: 957.0000 - false_negatives: 0.0000e+00\n",
            "Epoch 55/200\n",
            "194/194 [==============================] - 5s 26ms/step - loss: 0.0012 - accuracy: 1.0000 - recall: 1.0000 - precision: 0.8717 - true_negatives: 11450.0000 - true_positives: 6180.0000 - false_positives: 910.0000 - false_negatives: 0.0000e+00\n",
            "Epoch 56/200\n",
            "194/194 [==============================] - 5s 26ms/step - loss: 0.0010 - accuracy: 1.0000 - recall: 1.0000 - precision: 0.8739 - true_negatives: 11468.0000 - true_positives: 6180.0000 - false_positives: 892.0000 - false_negatives: 0.0000e+00\n",
            "Epoch 57/200\n",
            "194/194 [==============================] - 5s 26ms/step - loss: 9.2813e-04 - accuracy: 1.0000 - recall: 1.0000 - precision: 0.8776 - true_negatives: 11498.0000 - true_positives: 6180.0000 - false_positives: 862.0000 - false_negatives: 0.0000e+00\n",
            "Epoch 58/200\n",
            "194/194 [==============================] - 5s 26ms/step - loss: 8.5284e-04 - accuracy: 1.0000 - recall: 1.0000 - precision: 0.8811 - true_negatives: 11526.0000 - true_positives: 6180.0000 - false_positives: 834.0000 - false_negatives: 0.0000e+00\n",
            "Epoch 59/200\n",
            "194/194 [==============================] - 5s 26ms/step - loss: 7.8118e-04 - accuracy: 1.0000 - recall: 1.0000 - precision: 0.8851 - true_negatives: 11558.0000 - true_positives: 6180.0000 - false_positives: 802.0000 - false_negatives: 0.0000e+00\n",
            "Epoch 60/200\n",
            "194/194 [==============================] - 5s 26ms/step - loss: 7.2304e-04 - accuracy: 1.0000 - recall: 1.0000 - precision: 0.8850 - true_negatives: 11557.0000 - true_positives: 6180.0000 - false_positives: 803.0000 - false_negatives: 0.0000e+00\n",
            "Epoch 61/200\n",
            "194/194 [==============================] - 5s 26ms/step - loss: 0.5725 - accuracy: 0.8303 - recall: 0.9108 - precision: 0.6761 - true_negatives: 9663.0000 - true_positives: 5629.0000 - false_positives: 2697.0000 - false_negatives: 551.0000\n",
            "Epoch 62/200\n",
            "194/194 [==============================] - 5s 26ms/step - loss: 0.3401 - accuracy: 0.8825 - recall: 0.9500 - precision: 0.7017 - true_negatives: 9864.0000 - true_positives: 5871.0000 - false_positives: 2496.0000 - false_negatives: 309.0000\n",
            "Epoch 63/200\n",
            "194/194 [==============================] - 5s 26ms/step - loss: 0.1255 - accuracy: 0.9594 - recall: 0.9862 - precision: 0.7305 - true_negatives: 10111.0000 - true_positives: 6095.0000 - false_positives: 2249.0000 - false_negatives: 85.0000\n",
            "Epoch 64/200\n",
            "194/194 [==============================] - 5s 26ms/step - loss: 0.0481 - accuracy: 0.9869 - recall: 0.9979 - precision: 0.7581 - true_negatives: 10392.0000 - true_positives: 6167.0000 - false_positives: 1968.0000 - false_negatives: 13.0000\n",
            "Epoch 65/200\n",
            "194/194 [==============================] - 5s 26ms/step - loss: 0.0212 - accuracy: 0.9972 - recall: 0.9994 - precision: 0.7802 - true_negatives: 10620.0000 - true_positives: 6176.0000 - false_positives: 1740.0000 - false_negatives: 4.0000\n",
            "Epoch 66/200\n",
            "194/194 [==============================] - 5s 26ms/step - loss: 0.0126 - accuracy: 0.9990 - recall: 1.0000 - precision: 0.7927 - true_negatives: 10744.0000 - true_positives: 6180.0000 - false_positives: 1616.0000 - false_negatives: 0.0000e+00\n",
            "Epoch 67/200\n",
            "194/194 [==============================] - 5s 26ms/step - loss: 0.0083 - accuracy: 0.9995 - recall: 1.0000 - precision: 0.8048 - true_negatives: 10861.0000 - true_positives: 6180.0000 - false_positives: 1499.0000 - false_negatives: 0.0000e+00\n",
            "Epoch 68/200\n",
            "194/194 [==============================] - 5s 26ms/step - loss: 0.0064 - accuracy: 0.9997 - recall: 1.0000 - precision: 0.8131 - true_negatives: 10939.0000 - true_positives: 6180.0000 - false_positives: 1421.0000 - false_negatives: 0.0000e+00\n",
            "Epoch 69/200\n",
            "194/194 [==============================] - 5s 26ms/step - loss: 0.0056 - accuracy: 0.9997 - recall: 1.0000 - precision: 0.8134 - true_negatives: 10942.0000 - true_positives: 6180.0000 - false_positives: 1418.0000 - false_negatives: 0.0000e+00\n",
            "Epoch 70/200\n",
            "194/194 [==============================] - 5s 26ms/step - loss: 0.0045 - accuracy: 0.9997 - recall: 1.0000 - precision: 0.8193 - true_negatives: 10997.0000 - true_positives: 6180.0000 - false_positives: 1363.0000 - false_negatives: 0.0000e+00\n",
            "Epoch 71/200\n",
            "194/194 [==============================] - 5s 26ms/step - loss: 0.0040 - accuracy: 0.9998 - recall: 1.0000 - precision: 0.8271 - true_negatives: 11068.0000 - true_positives: 6180.0000 - false_positives: 1292.0000 - false_negatives: 0.0000e+00\n",
            "Epoch 72/200\n",
            "194/194 [==============================] - 5s 26ms/step - loss: 0.0036 - accuracy: 1.0000 - recall: 1.0000 - precision: 0.8261 - true_negatives: 11059.0000 - true_positives: 6180.0000 - false_positives: 1301.0000 - false_negatives: 0.0000e+00\n",
            "Epoch 73/200\n",
            "194/194 [==============================] - 5s 26ms/step - loss: 0.0031 - accuracy: 0.9998 - recall: 1.0000 - precision: 0.8340 - true_negatives: 11130.0000 - true_positives: 6180.0000 - false_positives: 1230.0000 - false_negatives: 0.0000e+00\n",
            "Epoch 74/200\n",
            "194/194 [==============================] - 5s 26ms/step - loss: 0.0028 - accuracy: 1.0000 - recall: 1.0000 - precision: 0.8342 - true_negatives: 11132.0000 - true_positives: 6180.0000 - false_positives: 1228.0000 - false_negatives: 0.0000e+00\n",
            "Epoch 75/200\n",
            "194/194 [==============================] - 5s 26ms/step - loss: 0.0024 - accuracy: 1.0000 - recall: 1.0000 - precision: 0.8369 - true_negatives: 11156.0000 - true_positives: 6180.0000 - false_positives: 1204.0000 - false_negatives: 0.0000e+00\n",
            "Epoch 76/200\n",
            "194/194 [==============================] - 5s 26ms/step - loss: 0.0023 - accuracy: 1.0000 - recall: 1.0000 - precision: 0.8435 - true_negatives: 11213.0000 - true_positives: 6180.0000 - false_positives: 1147.0000 - false_negatives: 0.0000e+00\n",
            "Epoch 77/200\n",
            "194/194 [==============================] - 5s 26ms/step - loss: 0.0021 - accuracy: 0.9998 - recall: 1.0000 - precision: 0.8487 - true_negatives: 11258.0000 - true_positives: 6180.0000 - false_positives: 1102.0000 - false_negatives: 0.0000e+00\n",
            "Epoch 78/200\n",
            "194/194 [==============================] - 5s 26ms/step - loss: 0.0018 - accuracy: 1.0000 - recall: 1.0000 - precision: 0.8514 - true_negatives: 11281.0000 - true_positives: 6180.0000 - false_positives: 1079.0000 - false_negatives: 0.0000e+00\n",
            "Epoch 79/200\n",
            "194/194 [==============================] - 5s 26ms/step - loss: 0.0017 - accuracy: 1.0000 - recall: 1.0000 - precision: 0.8551 - true_negatives: 11313.0000 - true_positives: 6180.0000 - false_positives: 1047.0000 - false_negatives: 0.0000e+00\n",
            "Epoch 80/200\n",
            "194/194 [==============================] - 5s 26ms/step - loss: 0.0014 - accuracy: 1.0000 - recall: 1.0000 - precision: 0.8582 - true_negatives: 11339.0000 - true_positives: 6180.0000 - false_positives: 1021.0000 - false_negatives: 0.0000e+00\n",
            "Epoch 81/200\n",
            "194/194 [==============================] - 5s 26ms/step - loss: 0.0013 - accuracy: 1.0000 - recall: 1.0000 - precision: 0.8590 - true_negatives: 11346.0000 - true_positives: 6180.0000 - false_positives: 1014.0000 - false_negatives: 0.0000e+00\n",
            "Epoch 82/200\n",
            "194/194 [==============================] - 5s 26ms/step - loss: 0.0012 - accuracy: 1.0000 - recall: 1.0000 - precision: 0.8648 - true_negatives: 11394.0000 - true_positives: 6180.0000 - false_positives: 966.0000 - false_negatives: 0.0000e+00\n",
            "Epoch 83/200\n",
            "194/194 [==============================] - 5s 26ms/step - loss: 0.0011 - accuracy: 1.0000 - recall: 1.0000 - precision: 0.8683 - true_negatives: 11423.0000 - true_positives: 6180.0000 - false_positives: 937.0000 - false_negatives: 0.0000e+00\n",
            "Epoch 84/200\n",
            "194/194 [==============================] - 5s 26ms/step - loss: 9.7820e-04 - accuracy: 1.0000 - recall: 1.0000 - precision: 0.8705 - true_negatives: 11441.0000 - true_positives: 6180.0000 - false_positives: 919.0000 - false_negatives: 0.0000e+00\n",
            "Epoch 85/200\n",
            "194/194 [==============================] - 5s 28ms/step - loss: 8.8099e-04 - accuracy: 1.0000 - recall: 1.0000 - precision: 0.8728 - true_negatives: 11459.0000 - true_positives: 6180.0000 - false_positives: 901.0000 - false_negatives: 0.0000e+00\n",
            "Epoch 86/200\n",
            "194/194 [==============================] - 5s 26ms/step - loss: 7.9779e-04 - accuracy: 1.0000 - recall: 1.0000 - precision: 0.8765 - true_negatives: 11489.0000 - true_positives: 6180.0000 - false_positives: 871.0000 - false_negatives: 0.0000e+00\n",
            "Epoch 87/200\n",
            "194/194 [==============================] - 5s 27ms/step - loss: 7.2420e-04 - accuracy: 1.0000 - recall: 1.0000 - precision: 0.8810 - true_negatives: 11525.0000 - true_positives: 6180.0000 - false_positives: 835.0000 - false_negatives: 0.0000e+00\n",
            "Epoch 88/200\n",
            "194/194 [==============================] - 5s 27ms/step - loss: 6.6690e-04 - accuracy: 1.0000 - recall: 1.0000 - precision: 0.8854 - true_negatives: 11560.0000 - true_positives: 6180.0000 - false_positives: 800.0000 - false_negatives: 0.0000e+00\n",
            "Epoch 89/200\n",
            "194/194 [==============================] - 5s 27ms/step - loss: 5.9120e-04 - accuracy: 1.0000 - recall: 1.0000 - precision: 0.8887 - true_negatives: 11586.0000 - true_positives: 6180.0000 - false_positives: 774.0000 - false_negatives: 0.0000e+00\n",
            "Epoch 90/200\n",
            "194/194 [==============================] - 5s 26ms/step - loss: 5.4611e-04 - accuracy: 1.0000 - recall: 1.0000 - precision: 0.8891 - true_negatives: 11589.0000 - true_positives: 6180.0000 - false_positives: 771.0000 - false_negatives: 0.0000e+00\n",
            "Epoch 91/200\n",
            "194/194 [==============================] - 5s 27ms/step - loss: 4.9012e-04 - accuracy: 1.0000 - recall: 1.0000 - precision: 0.8933 - true_negatives: 11622.0000 - true_positives: 6180.0000 - false_positives: 738.0000 - false_negatives: 0.0000e+00\n",
            "Epoch 92/200\n",
            "194/194 [==============================] - 5s 27ms/step - loss: 4.4535e-04 - accuracy: 1.0000 - recall: 1.0000 - precision: 0.8970 - true_negatives: 11650.0000 - true_positives: 6180.0000 - false_positives: 710.0000 - false_negatives: 0.0000e+00\n",
            "Epoch 93/200\n",
            "194/194 [==============================] - 5s 27ms/step - loss: 4.0344e-04 - accuracy: 1.0000 - recall: 1.0000 - precision: 0.8964 - true_negatives: 11646.0000 - true_positives: 6180.0000 - false_positives: 714.0000 - false_negatives: 0.0000e+00\n",
            "Epoch 94/200\n",
            "194/194 [==============================] - 5s 27ms/step - loss: 3.7052e-04 - accuracy: 1.0000 - recall: 1.0000 - precision: 0.8979 - true_negatives: 11657.0000 - true_positives: 6180.0000 - false_positives: 703.0000 - false_negatives: 0.0000e+00\n",
            "Epoch 95/200\n",
            "194/194 [==============================] - 5s 27ms/step - loss: 3.4237e-04 - accuracy: 1.0000 - recall: 1.0000 - precision: 0.8967 - true_negatives: 11648.0000 - true_positives: 6180.0000 - false_positives: 712.0000 - false_negatives: 0.0000e+00\n",
            "Epoch 96/200\n",
            "194/194 [==============================] - 5s 27ms/step - loss: 3.1028e-04 - accuracy: 1.0000 - recall: 1.0000 - precision: 0.8990 - true_negatives: 11666.0000 - true_positives: 6180.0000 - false_positives: 694.0000 - false_negatives: 0.0000e+00\n",
            "Epoch 97/200\n",
            "194/194 [==============================] - 5s 26ms/step - loss: 2.7839e-04 - accuracy: 1.0000 - recall: 1.0000 - precision: 0.9013 - true_negatives: 11683.0000 - true_positives: 6180.0000 - false_positives: 677.0000 - false_negatives: 0.0000e+00\n",
            "Epoch 98/200\n",
            "194/194 [==============================] - 5s 26ms/step - loss: 2.5494e-04 - accuracy: 1.0000 - recall: 1.0000 - precision: 0.9043 - true_negatives: 11706.0000 - true_positives: 6180.0000 - false_positives: 654.0000 - false_negatives: 0.0000e+00\n",
            "Epoch 99/200\n",
            "194/194 [==============================] - 5s 26ms/step - loss: 2.6720e-04 - accuracy: 1.0000 - recall: 1.0000 - precision: 0.9070 - true_negatives: 11726.0000 - true_positives: 6180.0000 - false_positives: 634.0000 - false_negatives: 0.0000e+00\n",
            "Epoch 100/200\n",
            "194/194 [==============================] - 5s 27ms/step - loss: 2.1598e-04 - accuracy: 1.0000 - recall: 1.0000 - precision: 0.9083 - true_negatives: 11736.0000 - true_positives: 6180.0000 - false_positives: 624.0000 - false_negatives: 0.0000e+00\n",
            "Epoch 101/200\n",
            "194/194 [==============================] - 5s 27ms/step - loss: 1.9024e-04 - accuracy: 1.0000 - recall: 1.0000 - precision: 0.9099 - true_negatives: 11748.0000 - true_positives: 6180.0000 - false_positives: 612.0000 - false_negatives: 0.0000e+00\n",
            "Epoch 102/200\n",
            "194/194 [==============================] - 5s 27ms/step - loss: 1.7457e-04 - accuracy: 1.0000 - recall: 1.0000 - precision: 0.9100 - true_negatives: 11749.0000 - true_positives: 6180.0000 - false_positives: 611.0000 - false_negatives: 0.0000e+00\n",
            "Epoch 103/200\n",
            "194/194 [==============================] - 5s 26ms/step - loss: 1.5743e-04 - accuracy: 1.0000 - recall: 1.0000 - precision: 0.9149 - true_negatives: 11785.0000 - true_positives: 6180.0000 - false_positives: 575.0000 - false_negatives: 0.0000e+00\n",
            "Epoch 104/200\n",
            "194/194 [==============================] - 5s 27ms/step - loss: 1.4406e-04 - accuracy: 1.0000 - recall: 1.0000 - precision: 0.9142 - true_negatives: 11780.0000 - true_positives: 6180.0000 - false_positives: 580.0000 - false_negatives: 0.0000e+00\n",
            "Epoch 105/200\n",
            "194/194 [==============================] - 5s 27ms/step - loss: 1.3109e-04 - accuracy: 1.0000 - recall: 1.0000 - precision: 0.9177 - true_negatives: 11806.0000 - true_positives: 6180.0000 - false_positives: 554.0000 - false_negatives: 0.0000e+00\n",
            "Epoch 106/200\n",
            "194/194 [==============================] - 5s 26ms/step - loss: 1.1932e-04 - accuracy: 1.0000 - recall: 1.0000 - precision: 0.9183 - true_negatives: 11810.0000 - true_positives: 6180.0000 - false_positives: 550.0000 - false_negatives: 0.0000e+00\n",
            "Epoch 107/200\n",
            "194/194 [==============================] - 5s 26ms/step - loss: 1.0861e-04 - accuracy: 1.0000 - recall: 1.0000 - precision: 0.9209 - true_negatives: 11829.0000 - true_positives: 6180.0000 - false_positives: 531.0000 - false_negatives: 0.0000e+00\n",
            "Epoch 108/200\n",
            "194/194 [==============================] - 5s 27ms/step - loss: 9.8612e-05 - accuracy: 1.0000 - recall: 1.0000 - precision: 0.9218 - true_negatives: 11836.0000 - true_positives: 6180.0000 - false_positives: 524.0000 - false_negatives: 0.0000e+00\n",
            "Epoch 109/200\n",
            "194/194 [==============================] - 5s 27ms/step - loss: 8.9841e-05 - accuracy: 1.0000 - recall: 1.0000 - precision: 0.9223 - true_negatives: 11839.0000 - true_positives: 6180.0000 - false_positives: 521.0000 - false_negatives: 0.0000e+00\n",
            "Epoch 110/200\n",
            "194/194 [==============================] - 5s 27ms/step - loss: 8.2152e-05 - accuracy: 1.0000 - recall: 1.0000 - precision: 0.9227 - true_negatives: 11842.0000 - true_positives: 6180.0000 - false_positives: 518.0000 - false_negatives: 0.0000e+00\n",
            "Epoch 111/200\n",
            "194/194 [==============================] - 5s 26ms/step - loss: 7.5674e-05 - accuracy: 1.0000 - recall: 1.0000 - precision: 0.9212 - true_negatives: 11831.0000 - true_positives: 6180.0000 - false_positives: 529.0000 - false_negatives: 0.0000e+00\n",
            "Epoch 112/200\n",
            "194/194 [==============================] - 5s 27ms/step - loss: 0.8091 - accuracy: 0.7896 - recall: 0.8697 - precision: 0.6650 - true_negatives: 9652.0000 - true_positives: 5375.0000 - false_positives: 2708.0000 - false_negatives: 805.0000\n",
            "Epoch 113/200\n",
            "194/194 [==============================] - 5s 26ms/step - loss: 0.5486 - accuracy: 0.8280 - recall: 0.9070 - precision: 0.6820 - true_negatives: 9747.0000 - true_positives: 5605.0000 - false_positives: 2613.0000 - false_negatives: 575.0000\n",
            "Epoch 114/200\n",
            "194/194 [==============================] - 5s 27ms/step - loss: 0.2344 - accuracy: 0.9206 - recall: 0.9684 - precision: 0.7292 - true_negatives: 10137.0000 - true_positives: 5985.0000 - false_positives: 2223.0000 - false_negatives: 195.0000\n",
            "Epoch 115/200\n",
            "194/194 [==============================] - 5s 27ms/step - loss: 0.1293 - accuracy: 0.9549 - recall: 0.9850 - precision: 0.7538 - true_negatives: 10372.0000 - true_positives: 6087.0000 - false_positives: 1988.0000 - false_negatives: 93.0000\n",
            "Epoch 116/200\n",
            "194/194 [==============================] - 5s 27ms/step - loss: 0.0693 - accuracy: 0.9798 - recall: 0.9934 - precision: 0.7743 - true_negatives: 10571.0000 - true_positives: 6139.0000 - false_positives: 1789.0000 - false_negatives: 41.0000\n",
            "Epoch 117/200\n",
            "194/194 [==============================] - 5s 27ms/step - loss: 0.0384 - accuracy: 0.9909 - recall: 0.9974 - precision: 0.7938 - true_negatives: 10759.0000 - true_positives: 6164.0000 - false_positives: 1601.0000 - false_negatives: 16.0000\n",
            "Epoch 118/200\n",
            "194/194 [==============================] - 5s 27ms/step - loss: 0.0295 - accuracy: 0.9937 - recall: 0.9985 - precision: 0.8068 - true_negatives: 10882.0000 - true_positives: 6171.0000 - false_positives: 1478.0000 - false_negatives: 9.0000\n",
            "Epoch 119/200\n",
            "194/194 [==============================] - 5s 27ms/step - loss: 0.0167 - accuracy: 0.9984 - recall: 0.9998 - precision: 0.8229 - true_negatives: 11030.0000 - true_positives: 6179.0000 - false_positives: 1330.0000 - false_negatives: 1.0000\n",
            "Epoch 120/200\n",
            "194/194 [==============================] - 5s 27ms/step - loss: 0.0111 - accuracy: 0.9995 - recall: 0.9998 - precision: 0.8324 - true_negatives: 11116.0000 - true_positives: 6179.0000 - false_positives: 1244.0000 - false_negatives: 1.0000\n",
            "Epoch 121/200\n",
            "194/194 [==============================] - 5s 27ms/step - loss: 0.0085 - accuracy: 0.9997 - recall: 0.9998 - precision: 0.8402 - true_negatives: 11185.0000 - true_positives: 6179.0000 - false_positives: 1175.0000 - false_negatives: 1.0000\n",
            "Epoch 122/200\n",
            "194/194 [==============================] - 5s 27ms/step - loss: 0.0073 - accuracy: 0.9997 - recall: 1.0000 - precision: 0.8446 - true_negatives: 11223.0000 - true_positives: 6180.0000 - false_positives: 1137.0000 - false_negatives: 0.0000e+00\n",
            "Epoch 123/200\n",
            "194/194 [==============================] - 5s 26ms/step - loss: 0.0060 - accuracy: 1.0000 - recall: 1.0000 - precision: 0.8502 - true_negatives: 11271.0000 - true_positives: 6180.0000 - false_positives: 1089.0000 - false_negatives: 0.0000e+00\n",
            "Epoch 124/200\n",
            "194/194 [==============================] - 5s 27ms/step - loss: 0.0052 - accuracy: 1.0000 - recall: 1.0000 - precision: 0.8534 - true_negatives: 11298.0000 - true_positives: 6180.0000 - false_positives: 1062.0000 - false_negatives: 0.0000e+00\n",
            "Epoch 125/200\n",
            "194/194 [==============================] - 5s 27ms/step - loss: 0.0047 - accuracy: 1.0000 - recall: 1.0000 - precision: 0.8623 - true_negatives: 11373.0000 - true_positives: 6180.0000 - false_positives: 987.0000 - false_negatives: 0.0000e+00\n",
            "Epoch 126/200\n",
            "194/194 [==============================] - 5s 27ms/step - loss: 0.0041 - accuracy: 1.0000 - recall: 1.0000 - precision: 0.8658 - true_negatives: 11402.0000 - true_positives: 6180.0000 - false_positives: 958.0000 - false_negatives: 0.0000e+00\n",
            "Epoch 127/200\n",
            "194/194 [==============================] - 5s 27ms/step - loss: 0.0037 - accuracy: 1.0000 - recall: 1.0000 - precision: 0.8686 - true_negatives: 11425.0000 - true_positives: 6180.0000 - false_positives: 935.0000 - false_negatives: 0.0000e+00\n",
            "Epoch 128/200\n",
            "194/194 [==============================] - 5s 27ms/step - loss: 0.0034 - accuracy: 1.0000 - recall: 1.0000 - precision: 0.8710 - true_negatives: 11445.0000 - true_positives: 6180.0000 - false_positives: 915.0000 - false_negatives: 0.0000e+00\n",
            "Epoch 129/200\n",
            "194/194 [==============================] - 5s 27ms/step - loss: 0.0030 - accuracy: 1.0000 - recall: 1.0000 - precision: 0.8757 - true_negatives: 11483.0000 - true_positives: 6180.0000 - false_positives: 877.0000 - false_negatives: 0.0000e+00\n",
            "Epoch 130/200\n",
            "194/194 [==============================] - 5s 27ms/step - loss: 0.0028 - accuracy: 1.0000 - recall: 1.0000 - precision: 0.8773 - true_negatives: 11496.0000 - true_positives: 6180.0000 - false_positives: 864.0000 - false_negatives: 0.0000e+00\n",
            "Epoch 131/200\n",
            "194/194 [==============================] - 5s 26ms/step - loss: 0.0025 - accuracy: 1.0000 - recall: 1.0000 - precision: 0.8786 - true_negatives: 11506.0000 - true_positives: 6180.0000 - false_positives: 854.0000 - false_negatives: 0.0000e+00\n",
            "Epoch 132/200\n",
            "194/194 [==============================] - 5s 27ms/step - loss: 0.0023 - accuracy: 1.0000 - recall: 1.0000 - precision: 0.8806 - true_negatives: 11522.0000 - true_positives: 6180.0000 - false_positives: 838.0000 - false_negatives: 0.0000e+00\n",
            "Epoch 133/200\n",
            "194/194 [==============================] - 5s 27ms/step - loss: 0.0021 - accuracy: 1.0000 - recall: 1.0000 - precision: 0.8874 - true_negatives: 11576.0000 - true_positives: 6180.0000 - false_positives: 784.0000 - false_negatives: 0.0000e+00\n",
            "Epoch 134/200\n",
            "194/194 [==============================] - 5s 27ms/step - loss: 0.0019 - accuracy: 1.0000 - recall: 1.0000 - precision: 0.8861 - true_negatives: 11566.0000 - true_positives: 6180.0000 - false_positives: 794.0000 - false_negatives: 0.0000e+00\n",
            "Epoch 135/200\n",
            "194/194 [==============================] - 5s 27ms/step - loss: 0.0018 - accuracy: 1.0000 - recall: 1.0000 - precision: 0.8879 - true_negatives: 11580.0000 - true_positives: 6180.0000 - false_positives: 780.0000 - false_negatives: 0.0000e+00\n",
            "Epoch 136/200\n",
            "194/194 [==============================] - 5s 27ms/step - loss: 0.0016 - accuracy: 1.0000 - recall: 1.0000 - precision: 0.8910 - true_negatives: 11604.0000 - true_positives: 6180.0000 - false_positives: 756.0000 - false_negatives: 0.0000e+00\n",
            "Epoch 137/200\n",
            "194/194 [==============================] - 5s 27ms/step - loss: 0.0015 - accuracy: 1.0000 - recall: 1.0000 - precision: 0.8940 - true_negatives: 11627.0000 - true_positives: 6180.0000 - false_positives: 733.0000 - false_negatives: 0.0000e+00\n",
            "Epoch 138/200\n",
            "194/194 [==============================] - 5s 27ms/step - loss: 0.0013 - accuracy: 1.0000 - recall: 1.0000 - precision: 0.8964 - true_negatives: 11646.0000 - true_positives: 6180.0000 - false_positives: 714.0000 - false_negatives: 0.0000e+00\n",
            "Epoch 139/200\n",
            "194/194 [==============================] - 5s 27ms/step - loss: 0.0012 - accuracy: 1.0000 - recall: 1.0000 - precision: 0.8993 - true_negatives: 11668.0000 - true_positives: 6180.0000 - false_positives: 692.0000 - false_negatives: 0.0000e+00\n",
            "Epoch 140/200\n",
            "194/194 [==============================] - 5s 27ms/step - loss: 0.0011 - accuracy: 1.0000 - recall: 1.0000 - precision: 0.9006 - true_negatives: 11678.0000 - true_positives: 6180.0000 - false_positives: 682.0000 - false_negatives: 0.0000e+00\n",
            "Epoch 141/200\n",
            "194/194 [==============================] - 5s 27ms/step - loss: 0.0010 - accuracy: 1.0000 - recall: 1.0000 - precision: 0.9021 - true_negatives: 11689.0000 - true_positives: 6180.0000 - false_positives: 671.0000 - false_negatives: 0.0000e+00\n",
            "Epoch 142/200\n",
            "194/194 [==============================] - 5s 27ms/step - loss: 9.1327e-04 - accuracy: 1.0000 - recall: 1.0000 - precision: 0.9039 - true_negatives: 11703.0000 - true_positives: 6180.0000 - false_positives: 657.0000 - false_negatives: 0.0000e+00\n",
            "Epoch 143/200\n",
            "194/194 [==============================] - 5s 27ms/step - loss: 8.5925e-04 - accuracy: 1.0000 - recall: 1.0000 - precision: 0.9047 - true_negatives: 11709.0000 - true_positives: 6180.0000 - false_positives: 651.0000 - false_negatives: 0.0000e+00\n",
            "Epoch 144/200\n",
            "194/194 [==============================] - 5s 27ms/step - loss: 7.6872e-04 - accuracy: 1.0000 - recall: 1.0000 - precision: 0.9086 - true_negatives: 11738.0000 - true_positives: 6180.0000 - false_positives: 622.0000 - false_negatives: 0.0000e+00\n",
            "Epoch 145/200\n",
            "194/194 [==============================] - 5s 28ms/step - loss: 7.0385e-04 - accuracy: 1.0000 - recall: 1.0000 - precision: 0.9091 - true_negatives: 11742.0000 - true_positives: 6180.0000 - false_positives: 618.0000 - false_negatives: 0.0000e+00\n",
            "Epoch 146/200\n",
            "194/194 [==============================] - 5s 28ms/step - loss: 6.6123e-04 - accuracy: 1.0000 - recall: 1.0000 - precision: 0.9086 - true_negatives: 11738.0000 - true_positives: 6180.0000 - false_positives: 622.0000 - false_negatives: 0.0000e+00\n",
            "Epoch 147/200\n",
            "194/194 [==============================] - 5s 28ms/step - loss: 5.9052e-04 - accuracy: 1.0000 - recall: 1.0000 - precision: 0.9126 - true_negatives: 11768.0000 - true_positives: 6180.0000 - false_positives: 592.0000 - false_negatives: 0.0000e+00\n",
            "Epoch 148/200\n",
            "194/194 [==============================] - 5s 27ms/step - loss: 5.3814e-04 - accuracy: 1.0000 - recall: 1.0000 - precision: 0.9137 - true_negatives: 11776.0000 - true_positives: 6180.0000 - false_positives: 584.0000 - false_negatives: 0.0000e+00\n",
            "Epoch 149/200\n",
            "194/194 [==============================] - 5s 28ms/step - loss: 4.9175e-04 - accuracy: 1.0000 - recall: 1.0000 - precision: 0.9161 - true_negatives: 11794.0000 - true_positives: 6180.0000 - false_positives: 566.0000 - false_negatives: 0.0000e+00\n",
            "Epoch 150/200\n",
            "194/194 [==============================] - 5s 27ms/step - loss: 4.5656e-04 - accuracy: 1.0000 - recall: 1.0000 - precision: 0.9195 - true_negatives: 11819.0000 - true_positives: 6180.0000 - false_positives: 541.0000 - false_negatives: 0.0000e+00\n",
            "Epoch 151/200\n",
            "194/194 [==============================] - 5s 27ms/step - loss: 4.1095e-04 - accuracy: 1.0000 - recall: 1.0000 - precision: 0.9192 - true_negatives: 11817.0000 - true_positives: 6180.0000 - false_positives: 543.0000 - false_negatives: 0.0000e+00\n",
            "Epoch 152/200\n",
            "194/194 [==============================] - 5s 28ms/step - loss: 3.7851e-04 - accuracy: 1.0000 - recall: 1.0000 - precision: 0.9201 - true_negatives: 11823.0000 - true_positives: 6180.0000 - false_positives: 537.0000 - false_negatives: 0.0000e+00\n",
            "Epoch 153/200\n",
            "194/194 [==============================] - 5s 27ms/step - loss: 0.7278 - accuracy: 0.8016 - recall: 0.8830 - precision: 0.6861 - true_negatives: 9863.0000 - true_positives: 5457.0000 - false_positives: 2497.0000 - false_negatives: 723.0000\n",
            "Epoch 154/200\n",
            "194/194 [==============================] - 5s 27ms/step - loss: 0.5329 - accuracy: 0.8204 - recall: 0.9147 - precision: 0.6644 - true_negatives: 9505.0000 - true_positives: 5653.0000 - false_positives: 2855.0000 - false_negatives: 527.0000\n",
            "Epoch 155/200\n",
            "194/194 [==============================] - 5s 27ms/step - loss: 0.2664 - accuracy: 0.9053 - recall: 0.9615 - precision: 0.7182 - true_negatives: 10028.0000 - true_positives: 5942.0000 - false_positives: 2332.0000 - false_negatives: 238.0000\n",
            "Epoch 156/200\n",
            "194/194 [==============================] - 5s 28ms/step - loss: 0.1443 - accuracy: 0.9503 - recall: 0.9841 - precision: 0.7520 - true_negatives: 10354.0000 - true_positives: 6082.0000 - false_positives: 2006.0000 - false_negatives: 98.0000\n",
            "Epoch 157/200\n",
            "194/194 [==============================] - 5s 27ms/step - loss: 0.0848 - accuracy: 0.9756 - recall: 0.9900 - precision: 0.7731 - true_negatives: 10564.0000 - true_positives: 6118.0000 - false_positives: 1796.0000 - false_negatives: 62.0000\n",
            "Epoch 158/200\n",
            "194/194 [==============================] - 5s 27ms/step - loss: 0.0566 - accuracy: 0.9864 - recall: 0.9948 - precision: 0.7937 - true_negatives: 10762.0000 - true_positives: 6148.0000 - false_positives: 1598.0000 - false_negatives: 32.0000\n",
            "Epoch 159/200\n",
            "194/194 [==============================] - 5s 27ms/step - loss: 0.0365 - accuracy: 0.9922 - recall: 0.9979 - precision: 0.8080 - true_negatives: 10895.0000 - true_positives: 6167.0000 - false_positives: 1465.0000 - false_negatives: 13.0000\n",
            "Epoch 160/200\n",
            "194/194 [==============================] - 5s 28ms/step - loss: 0.0237 - accuracy: 0.9966 - recall: 0.9992 - precision: 0.8160 - true_negatives: 10968.0000 - true_positives: 6175.0000 - false_positives: 1392.0000 - false_negatives: 5.0000\n",
            "Epoch 161/200\n",
            "194/194 [==============================] - 5s 28ms/step - loss: 0.0167 - accuracy: 0.9985 - recall: 0.9997 - precision: 0.8327 - true_negatives: 11119.0000 - true_positives: 6178.0000 - false_positives: 1241.0000 - false_negatives: 2.0000\n",
            "Epoch 162/200\n",
            "194/194 [==============================] - 5s 28ms/step - loss: 0.0126 - accuracy: 0.9992 - recall: 0.9997 - precision: 0.8413 - true_negatives: 11195.0000 - true_positives: 6178.0000 - false_positives: 1165.0000 - false_negatives: 2.0000\n",
            "Epoch 163/200\n",
            "194/194 [==============================] - 5s 27ms/step - loss: 0.0108 - accuracy: 0.9990 - recall: 0.9997 - precision: 0.8486 - true_negatives: 11258.0000 - true_positives: 6178.0000 - false_positives: 1102.0000 - false_negatives: 2.0000\n",
            "Epoch 164/200\n",
            "194/194 [==============================] - 6s 29ms/step - loss: 0.0100 - accuracy: 0.9989 - recall: 0.9998 - precision: 0.8460 - true_negatives: 11235.0000 - true_positives: 6179.0000 - false_positives: 1125.0000 - false_negatives: 1.0000\n",
            "Epoch 165/200\n",
            "194/194 [==============================] - 5s 28ms/step - loss: 0.0083 - accuracy: 0.9994 - recall: 0.9998 - precision: 0.8505 - true_negatives: 11274.0000 - true_positives: 6179.0000 - false_positives: 1086.0000 - false_negatives: 1.0000\n",
            "Epoch 166/200\n",
            "194/194 [==============================] - 5s 27ms/step - loss: 0.0073 - accuracy: 0.9997 - recall: 0.9998 - precision: 0.8563 - true_negatives: 11323.0000 - true_positives: 6179.0000 - false_positives: 1037.0000 - false_negatives: 1.0000\n",
            "Epoch 167/200\n",
            "194/194 [==============================] - 5s 28ms/step - loss: 0.0065 - accuracy: 0.9997 - recall: 0.9998 - precision: 0.8635 - true_negatives: 11383.0000 - true_positives: 6179.0000 - false_positives: 977.0000 - false_negatives: 1.0000\n",
            "Epoch 168/200\n",
            "194/194 [==============================] - 5s 28ms/step - loss: 0.0057 - accuracy: 0.9998 - recall: 0.9998 - precision: 0.8642 - true_negatives: 11389.0000 - true_positives: 6179.0000 - false_positives: 971.0000 - false_negatives: 1.0000\n",
            "Epoch 169/200\n",
            "194/194 [==============================] - 5s 27ms/step - loss: 0.0053 - accuracy: 0.9997 - recall: 0.9998 - precision: 0.8637 - true_negatives: 11385.0000 - true_positives: 6179.0000 - false_positives: 975.0000 - false_negatives: 1.0000\n",
            "Epoch 170/200\n",
            "194/194 [==============================] - 5s 28ms/step - loss: 0.0049 - accuracy: 0.9997 - recall: 1.0000 - precision: 0.8699 - true_negatives: 11436.0000 - true_positives: 6180.0000 - false_positives: 924.0000 - false_negatives: 0.0000e+00\n",
            "Epoch 171/200\n",
            "194/194 [==============================] - 5s 27ms/step - loss: 0.0042 - accuracy: 0.9997 - recall: 1.0000 - precision: 0.8728 - true_negatives: 11459.0000 - true_positives: 6180.0000 - false_positives: 901.0000 - false_negatives: 0.0000e+00\n",
            "Epoch 172/200\n",
            "194/194 [==============================] - 6s 29ms/step - loss: 0.0041 - accuracy: 0.9998 - recall: 1.0000 - precision: 0.8755 - true_negatives: 11481.0000 - true_positives: 6180.0000 - false_positives: 879.0000 - false_negatives: 0.0000e+00\n",
            "Epoch 173/200\n",
            "194/194 [==============================] - 5s 28ms/step - loss: 0.0043 - accuracy: 0.9997 - recall: 1.0000 - precision: 0.8761 - true_negatives: 11486.0000 - true_positives: 6180.0000 - false_positives: 874.0000 - false_negatives: 0.0000e+00\n",
            "Epoch 174/200\n",
            "194/194 [==============================] - 5s 28ms/step - loss: 0.0040 - accuracy: 1.0000 - recall: 1.0000 - precision: 0.8778 - true_negatives: 11500.0000 - true_positives: 6180.0000 - false_positives: 860.0000 - false_negatives: 0.0000e+00\n",
            "Epoch 175/200\n",
            "194/194 [==============================] - 5s 28ms/step - loss: 0.0039 - accuracy: 1.0000 - recall: 1.0000 - precision: 0.8766 - true_negatives: 11490.0000 - true_positives: 6180.0000 - false_positives: 870.0000 - false_negatives: 0.0000e+00\n",
            "Epoch 176/200\n",
            "194/194 [==============================] - 5s 28ms/step - loss: 0.0030 - accuracy: 1.0000 - recall: 1.0000 - precision: 0.8801 - true_negatives: 11518.0000 - true_positives: 6180.0000 - false_positives: 842.0000 - false_negatives: 0.0000e+00\n",
            "Epoch 177/200\n",
            "194/194 [==============================] - 5s 28ms/step - loss: 0.0036 - accuracy: 1.0000 - recall: 1.0000 - precision: 0.8795 - true_negatives: 11513.0000 - true_positives: 6180.0000 - false_positives: 847.0000 - false_negatives: 0.0000e+00\n",
            "Epoch 178/200\n",
            "194/194 [==============================] - 5s 27ms/step - loss: 0.4056 - accuracy: 0.8807 - recall: 0.9332 - precision: 0.7441 - true_negatives: 10377.0000 - true_positives: 5767.0000 - false_positives: 1983.0000 - false_negatives: 413.0000\n",
            "Epoch 179/200\n",
            "194/194 [==============================] - 5s 27ms/step - loss: 0.4259 - accuracy: 0.8615 - recall: 0.9293 - precision: 0.7035 - true_negatives: 9939.0000 - true_positives: 5743.0000 - false_positives: 2421.0000 - false_negatives: 437.0000\n",
            "Epoch 180/200\n",
            "194/194 [==============================] - 5s 27ms/step - loss: 0.1713 - accuracy: 0.9426 - recall: 0.9765 - precision: 0.7506 - true_negatives: 10355.0000 - true_positives: 6035.0000 - false_positives: 2005.0000 - false_negatives: 145.0000\n",
            "Epoch 181/200\n",
            "194/194 [==============================] - 5s 27ms/step - loss: 0.0855 - accuracy: 0.9736 - recall: 0.9913 - precision: 0.7731 - true_negatives: 10562.0000 - true_positives: 6126.0000 - false_positives: 1798.0000 - false_negatives: 54.0000\n",
            "Epoch 182/200\n",
            "194/194 [==============================] - 5s 27ms/step - loss: 0.0435 - accuracy: 0.9887 - recall: 0.9969 - precision: 0.7893 - true_negatives: 10715.0000 - true_positives: 6161.0000 - false_positives: 1645.0000 - false_negatives: 19.0000\n",
            "Epoch 183/200\n",
            "194/194 [==============================] - 5s 28ms/step - loss: 0.0218 - accuracy: 0.9955 - recall: 0.9990 - precision: 0.8042 - true_negatives: 10857.0000 - true_positives: 6174.0000 - false_positives: 1503.0000 - false_negatives: 6.0000\n",
            "Epoch 184/200\n",
            "194/194 [==============================] - 5s 27ms/step - loss: 0.0131 - accuracy: 0.9979 - recall: 0.9995 - precision: 0.8170 - true_negatives: 10976.0000 - true_positives: 6177.0000 - false_positives: 1384.0000 - false_negatives: 3.0000\n",
            "Epoch 185/200\n",
            "194/194 [==============================] - 5s 28ms/step - loss: 0.0091 - accuracy: 0.9995 - recall: 0.9998 - precision: 0.8226 - true_negatives: 11027.0000 - true_positives: 6179.0000 - false_positives: 1333.0000 - false_negatives: 1.0000\n",
            "Epoch 186/200\n",
            "194/194 [==============================] - 5s 27ms/step - loss: 0.0064 - accuracy: 0.9998 - recall: 1.0000 - precision: 0.8396 - true_negatives: 11179.0000 - true_positives: 6180.0000 - false_positives: 1181.0000 - false_negatives: 0.0000e+00\n",
            "Epoch 187/200\n",
            "194/194 [==============================] - 5s 27ms/step - loss: 0.0049 - accuracy: 1.0000 - recall: 1.0000 - precision: 0.8441 - true_negatives: 11219.0000 - true_positives: 6180.0000 - false_positives: 1141.0000 - false_negatives: 0.0000e+00\n",
            "Epoch 188/200\n",
            "194/194 [==============================] - 5s 28ms/step - loss: 0.0043 - accuracy: 1.0000 - recall: 1.0000 - precision: 0.8507 - true_negatives: 11275.0000 - true_positives: 6180.0000 - false_positives: 1085.0000 - false_negatives: 0.0000e+00\n",
            "Epoch 189/200\n",
            "194/194 [==============================] - 5s 27ms/step - loss: 0.0038 - accuracy: 1.0000 - recall: 1.0000 - precision: 0.8522 - true_negatives: 11288.0000 - true_positives: 6180.0000 - false_positives: 1072.0000 - false_negatives: 0.0000e+00\n",
            "Epoch 190/200\n",
            "194/194 [==============================] - 5s 27ms/step - loss: 0.0033 - accuracy: 1.0000 - recall: 1.0000 - precision: 0.8551 - true_negatives: 11313.0000 - true_positives: 6180.0000 - false_positives: 1047.0000 - false_negatives: 0.0000e+00\n",
            "Epoch 191/200\n",
            "194/194 [==============================] - 5s 28ms/step - loss: 0.0030 - accuracy: 1.0000 - recall: 1.0000 - precision: 0.8612 - true_negatives: 11364.0000 - true_positives: 6180.0000 - false_positives: 996.0000 - false_negatives: 0.0000e+00\n",
            "Epoch 192/200\n",
            "194/194 [==============================] - 5s 28ms/step - loss: 0.0028 - accuracy: 1.0000 - recall: 1.0000 - precision: 0.8617 - true_negatives: 11368.0000 - true_positives: 6180.0000 - false_positives: 992.0000 - false_negatives: 0.0000e+00\n",
            "Epoch 193/200\n",
            "194/194 [==============================] - 5s 27ms/step - loss: 0.0025 - accuracy: 1.0000 - recall: 1.0000 - precision: 0.8655 - true_negatives: 11400.0000 - true_positives: 6180.0000 - false_positives: 960.0000 - false_negatives: 0.0000e+00\n",
            "Epoch 194/200\n",
            "194/194 [==============================] - 5s 28ms/step - loss: 0.0023 - accuracy: 1.0000 - recall: 1.0000 - precision: 0.8672 - true_negatives: 11414.0000 - true_positives: 6180.0000 - false_positives: 946.0000 - false_negatives: 0.0000e+00\n",
            "Epoch 195/200\n",
            "194/194 [==============================] - 5s 28ms/step - loss: 0.0022 - accuracy: 1.0000 - recall: 1.0000 - precision: 0.8675 - true_negatives: 11416.0000 - true_positives: 6180.0000 - false_positives: 944.0000 - false_negatives: 0.0000e+00\n",
            "Epoch 196/200\n",
            "194/194 [==============================] - 5s 28ms/step - loss: 0.0020 - accuracy: 1.0000 - recall: 1.0000 - precision: 0.8735 - true_negatives: 11465.0000 - true_positives: 6180.0000 - false_positives: 895.0000 - false_negatives: 0.0000e+00\n",
            "Epoch 197/200\n",
            "194/194 [==============================] - 5s 28ms/step - loss: 0.0018 - accuracy: 1.0000 - recall: 1.0000 - precision: 0.8754 - true_negatives: 11480.0000 - true_positives: 6180.0000 - false_positives: 880.0000 - false_negatives: 0.0000e+00\n",
            "Epoch 198/200\n",
            "194/194 [==============================] - 5s 28ms/step - loss: 0.0017 - accuracy: 1.0000 - recall: 1.0000 - precision: 0.8776 - true_negatives: 11498.0000 - true_positives: 6180.0000 - false_positives: 862.0000 - false_negatives: 0.0000e+00\n",
            "Epoch 199/200\n",
            "194/194 [==============================] - 5s 28ms/step - loss: 0.0015 - accuracy: 1.0000 - recall: 1.0000 - precision: 0.8773 - true_negatives: 11496.0000 - true_positives: 6180.0000 - false_positives: 864.0000 - false_negatives: 0.0000e+00\n",
            "Epoch 200/200\n",
            "194/194 [==============================] - 5s 28ms/step - loss: 0.0014 - accuracy: 1.0000 - recall: 1.0000 - precision: 0.8831 - true_negatives: 11542.0000 - true_positives: 6180.0000 - false_positives: 818.0000 - false_negatives: 0.0000e+00\n"
          ]
        },
        {
          "output_type": "execute_result",
          "data": {
            "text/plain": [
              "<keras.callbacks.History at 0x7f0f937e6790>"
            ]
          },
          "metadata": {},
          "execution_count": 51
        }
      ],
      "source": [
        "model.fit(X_over, y_over, epochs=200)"
      ]
    },
    {
      "cell_type": "code",
      "execution_count": 52,
      "metadata": {
        "colab": {
          "base_uri": "https://localhost:8080/"
        },
        "id": "F7ihBFyMzbSp",
        "outputId": "2054820e-f5d4-44b9-b66c-54b80dd2e007"
      },
      "outputs": [
        {
          "output_type": "stream",
          "name": "stdout",
          "text": [
            "36/36 [==============================] - 1s 16ms/step - loss: 1.8450 - accuracy: 0.7077 - recall: 0.8087 - precision: 0.6219 - true_negatives: 1703.0000 - true_positives: 913.0000 - false_positives: 555.0000 - false_negatives: 216.0000\n"
          ]
        },
        {
          "output_type": "execute_result",
          "data": {
            "text/plain": [
              "[1.844982385635376,\n",
              " 0.7077059149742126,\n",
              " 0.8086802363395691,\n",
              " 0.6219345927238464,\n",
              " 1703.0,\n",
              " 913.0,\n",
              " 555.0,\n",
              " 216.0]"
            ]
          },
          "metadata": {},
          "execution_count": 52
        }
      ],
      "source": [
        "model.evaluate(y_train, y_test)"
      ]
    },
    {
      "cell_type": "code",
      "execution_count": 45,
      "metadata": {
        "id": "8jluh0-mg-8s"
      },
      "outputs": [],
      "source": [
        "y_predunsure = model.predict(y_train)"
      ]
    },
    {
      "cell_type": "code",
      "execution_count": 46,
      "metadata": {
        "id": "NZMIbqJZ5aWD"
      },
      "outputs": [],
      "source": [
        "y_predsure = (model.predict(y_train) >= 0.5).astype(int)"
      ]
    },
    {
      "cell_type": "code",
      "execution_count": 47,
      "metadata": {
        "id": "1qZzMCQgrUl-"
      },
      "outputs": [],
      "source": [
        "for prediction in y_predunsure:\n",
        "  highest = 0\n",
        "  for value in prediction:\n",
        "    if value > highest:\n",
        "      highest = value\n",
        "\n",
        "  predvalueindex = np.where(prediction == highest)\n",
        "  prediction[predvalueindex] = int(1)\n",
        "  for x in prediction:\n",
        "    if x != 1:\n",
        "      prediction[np.where(prediction == x)] = 0    "
      ]
    },
    {
      "cell_type": "code",
      "execution_count": 48,
      "metadata": {
        "colab": {
          "base_uri": "https://localhost:8080/"
        },
        "id": "6kDbYG6_98Ea",
        "outputId": "f6266f43-01c5-4e7e-b7e1-f4f3934ab887"
      },
      "outputs": [
        {
          "output_type": "stream",
          "name": "stdout",
          "text": [
            "773 17 11 148 24 42 50 4 60\n"
          ]
        }
      ],
      "source": [
        "fake = 0\n",
        "true = 0\n",
        "unverified = 0\n",
        "predtrueacfake = 0\n",
        "predtrueacunverified = 0\n",
        "predfakeactrue = 0\n",
        "predfakeacunverified = 0\n",
        "predunverifiedactrue = 0\n",
        "predunverifiedacfake = 0\n",
        "\n",
        "for x in range(len(y_predunsure)):\n",
        "  result = all(map(lambda x, y: x == y, y_predunsure[x], y_test[x]))\n",
        "  if result == True:\n",
        "    if all(map(lambda x, y: x == y, y_predunsure[x], [1,0,0])):\n",
        "      fake+=1\n",
        "    elif all(map(lambda x, y: x == y, y_predunsure[x], [0,1,0])):\n",
        "      true += 1\n",
        "    elif all(map(lambda x, y: x == y, y_predunsure[x], [0,0,1])):\n",
        "      unverified+=1\n",
        "  elif result == False:\n",
        "    if all(map(lambda x, y: x == y, y_predunsure[x], [0,1,0])) and all(map(lambda x, y: x == y, y_test[x], [1,0,0])):\n",
        "      predtrueacfake += 1\n",
        "    elif all(map(lambda x, y: x == y, y_predunsure[x], [0,1,0])) and all(map(lambda x, y: x == y, y_test[x], [0,0,1])):\n",
        "      predtrueacunverified += 1\n",
        "    elif all(map(lambda x, y: x == y, y_predunsure[x], [1,0,0])) and all(map(lambda x, y: x == y, y_test[x], [0,1,0])):\n",
        "      predfakeactrue += 1\n",
        "    elif all(map(lambda x, y: x == y, y_predunsure[x], [1,0,0])) and all(map(lambda x, y: x == y, y_test[x], [0,0,1])):\n",
        "      predfakeacunverified += 1\n",
        "    elif all(map(lambda x, y: x == y, y_predunsure[x], [0,0,1])) and all(map(lambda x, y: x == y, y_test[x], [0,1,0])):\n",
        "      predunverifiedactrue += 1\n",
        "    elif all(map(lambda x, y: x == y, y_predunsure[x], [0,0,1])) and all(map(lambda x, y: x == y, y_test[x], [1,0,0])):\n",
        "      predunverifiedacfake += 1\n",
        "\n",
        "print(fake, true, unverified, predtrueacfake, predtrueacunverified, predfakeactrue, predfakeacunverified, predunverifiedactrue, predunverifiedacfake)\n"
      ]
    },
    {
      "cell_type": "code",
      "execution_count": 49,
      "metadata": {
        "colab": {
          "base_uri": "https://localhost:8080/"
        },
        "id": "-RQ9URCD5j_m",
        "outputId": "ff5d5a56-3015-4f8b-dd48-4daa169c5233"
      },
      "outputs": [
        {
          "output_type": "stream",
          "name": "stdout",
          "text": [
            "618 10 2 61 10 30 39 2 24\n"
          ]
        }
      ],
      "source": [
        "fake = 0\n",
        "true = 0\n",
        "unverified = 0\n",
        "predtrueacfake = 0\n",
        "predtrueacunverified = 0\n",
        "predfakeactrue = 0\n",
        "predfakeacunverified = 0\n",
        "predunverifiedactrue = 0\n",
        "predunverifiedacfake = 0\n",
        "\n",
        "for x in range(len(y_predsure)):\n",
        "  result = all(map(lambda x, y: x == y, y_predsure[x], y_test[x]))\n",
        "  if result == True:\n",
        "    if all(map(lambda x, y: x == y, y_predsure[x], [1,0,0])):\n",
        "      fake+=1\n",
        "    elif all(map(lambda x, y: x == y, y_predsure[x], [0,1,0])):\n",
        "      true += 1\n",
        "    elif all(map(lambda x, y: x == y, y_predsure[x], [0,0,1])):\n",
        "      unverified+=1\n",
        "  elif result == False:\n",
        "    if all(map(lambda x, y: x == y, y_predsure[x], [0,1,0])) and all(map(lambda x, y: x == y, y_test[x], [1,0,0])):\n",
        "      predtrueacfake += 1\n",
        "    elif all(map(lambda x, y: x == y, y_predsure[x], [0,1,0])) and all(map(lambda x, y: x == y, y_test[x], [0,0,1])):\n",
        "      predtrueacunverified += 1\n",
        "    elif all(map(lambda x, y: x == y, y_predsure[x], [1,0,0])) and all(map(lambda x, y: x == y, y_test[x], [0,1,0])):\n",
        "      predfakeactrue += 1\n",
        "    elif all(map(lambda x, y: x == y, y_predsure[x], [1,0,0])) and all(map(lambda x, y: x == y, y_test[x], [0,0,1])):\n",
        "      predfakeacunverified += 1\n",
        "    elif all(map(lambda x, y: x == y, y_predsure[x], [0,0,1])) and all(map(lambda x, y: x == y, y_test[x], [0,1,0])):\n",
        "      predunverifiedactrue += 1\n",
        "    elif all(map(lambda x, y: x == y, y_predsure[x], [0,0,1])) and all(map(lambda x, y: x == y, y_test[x], [1,0,0])):\n",
        "      predunverifiedacfake += 1\n",
        "\n",
        "print(fake, true, unverified, predtrueacfake, predtrueacunverified, predfakeactrue, predfakeacunverified, predunverifiedactrue, predunverifiedacfake)\n"
      ]
    }
  ],
  "metadata": {
    "accelerator": "GPU",
    "colab": {
      "collapsed_sections": [],
      "name": "Official fake news classifier oversampled + inc. neurons.ipynb",
      "provenance": []
    },
    "kernelspec": {
      "display_name": "Python 3 (ipykernel)",
      "language": "python",
      "name": "python3"
    },
    "language_info": {
      "codemirror_mode": {
        "name": "ipython",
        "version": 3
      },
      "file_extension": ".py",
      "mimetype": "text/x-python",
      "name": "python",
      "nbconvert_exporter": "python",
      "pygments_lexer": "ipython3",
      "version": "3.9.7"
    }
  },
  "nbformat": 4,
  "nbformat_minor": 0
}