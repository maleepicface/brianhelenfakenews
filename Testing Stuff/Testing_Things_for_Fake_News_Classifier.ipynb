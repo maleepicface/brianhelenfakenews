{
  "nbformat": 4,
  "nbformat_minor": 0,
  "metadata": {
    "colab": {
      "name": "Testing Things for Fake News Classifier.ipynb",
      "provenance": [],
      "collapsed_sections": [],
      "authorship_tag": "ABX9TyM1zm+CyBvwfquUHLhxJQE4",
      "include_colab_link": true
    },
    "kernelspec": {
      "name": "python3",
      "display_name": "Python 3"
    },
    "language_info": {
      "name": "python"
    }
  },
  "cells": [
    {
      "cell_type": "markdown",
      "metadata": {
        "id": "view-in-github",
        "colab_type": "text"
      },
      "source": [
        "<a href=\"https://colab.research.google.com/github/maleepicface/brianhelenfakenews/blob/main/Testing_Things_for_Fake_News_Classifier.ipynb\" target=\"_parent\"><img src=\"https://colab.research.google.com/assets/colab-badge.svg\" alt=\"Open In Colab\"/></a>"
      ]
    },
    {
      "cell_type": "markdown",
      "metadata": {
        "id": "RoGyRMsE-Ugd"
      },
      "source": [
        "### Conv1D\n"
      ]
    },
    {
      "cell_type": "markdown",
      "metadata": {
        "id": "GmADVduJ-P8_"
      },
      "source": [
        "reference: https://www.datatechnotes.com/2020/02/classification-example-with-keras-cnn.html"
      ]
    },
    {
      "cell_type": "code",
      "metadata": {
        "id": "fxDcP3BpfPlj"
      },
      "source": [
        "import tensorflow as tf\n",
        "import keras\n",
        "import pandas as pd\n",
        "from keras.models import Sequential\n",
        "from keras.layers import Dense, Conv1D, Flatten, MaxPooling1D\n",
        "from sklearn.model_selection import train_test_split\n",
        "from sklearn.metrics import confusion_matrix\n",
        "from numpy import unique"
      ],
      "execution_count": null,
      "outputs": []
    },
    {
      "cell_type": "code",
      "metadata": {
        "id": "meNpSPZhfp-k",
        "colab": {
          "base_uri": "https://localhost:8080/"
        },
        "outputId": "5542788c-f08d-4eac-f6e2-f6e1160edea6"
      },
      "source": [
        "# basic structure for the CNN (parameters and layer specifications still need to be modified to fit Nasir et al., 2021)\n",
        "model = Sequential()\n",
        "model.add(Conv1D(64, 2, activation=\"relu\", input_shape=(4,1)))\n",
        "model.add(Dense(16, activation=\"relu\"))\n",
        "model.add(MaxPooling1D())\n",
        "model.add(Flatten())\n",
        "model.add(Dense(3, activation = 'softmax'))\n",
        "model.compile(loss = 'sparse_categorical_crossentropy', \n",
        "     optimizer = \"adam\",               \n",
        "              metrics = ['accuracy'])\n",
        "model.summary()"
      ],
      "execution_count": null,
      "outputs": [
        {
          "output_type": "stream",
          "name": "stdout",
          "text": [
            "Model: \"sequential_5\"\n",
            "_________________________________________________________________\n",
            "Layer (type)                 Output Shape              Param #   \n",
            "=================================================================\n",
            "conv1d_5 (Conv1D)            (None, 3, 64)             192       \n",
            "_________________________________________________________________\n",
            "dense_4 (Dense)              (None, 3, 16)             1040      \n",
            "_________________________________________________________________\n",
            "max_pooling1d_2 (MaxPooling1 (None, 1, 16)             0         \n",
            "_________________________________________________________________\n",
            "flatten_2 (Flatten)          (None, 16)                0         \n",
            "_________________________________________________________________\n",
            "dense_5 (Dense)              (None, 3)                 51        \n",
            "=================================================================\n",
            "Total params: 1,283\n",
            "Trainable params: 1,283\n",
            "Non-trainable params: 0\n",
            "_________________________________________________________________\n"
          ]
        }
      ]
    }
  ]
}